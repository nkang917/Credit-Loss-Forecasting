{
  "nbformat": 4,
  "nbformat_minor": 0,
  "metadata": {
    "colab": {
      "name": "Lending Club - Credit Loss Forecasting.ipynb",
      "provenance": [],
      "collapsed_sections": [],
      "toc_visible": true,
      "authorship_tag": "ABX9TyMHcO+vWJfh5TeVH5SGsVxA",
      "include_colab_link": true
    },
    "kernelspec": {
      "name": "python3",
      "display_name": "Python 3"
    },
    "language_info": {
      "name": "python"
    }
  },
  "cells": [
    {
      "cell_type": "markdown",
      "metadata": {
        "id": "view-in-github",
        "colab_type": "text"
      },
      "source": [
        "<a href=\"https://colab.research.google.com/github/ykang917/Credit-Loss-Forecasting/blob/main/Lending_Club_Credit_Loss_Forecasting.ipynb\" target=\"_parent\"><img src=\"https://colab.research.google.com/assets/colab-badge.svg\" alt=\"Open In Colab\"/></a>"
      ]
    },
    {
      "cell_type": "markdown",
      "source": [
        "# Part 0: Setup Google Drive Environment & Import Data"
      ],
      "metadata": {
        "id": "5Dg1B7rP7UPZ"
      }
    },
    {
      "cell_type": "code",
      "execution_count": 2,
      "metadata": {
        "id": "2GSel-jKT_50"
      },
      "outputs": [],
      "source": [
        "!pip install -U -q PyDrive\n",
        "\n",
        "from pydrive.auth import GoogleAuth\n",
        "from pydrive.drive import GoogleDrive\n",
        "from google.colab import auth\n",
        "from oauth2client.client import GoogleCredentials\n",
        "\n",
        "auth.authenticate_user()\n",
        "gauth = GoogleAuth()\n",
        "gauth.credentials = GoogleCredentials.get_application_default()\n",
        "drive = GoogleDrive(gauth)"
      ]
    },
    {
      "cell_type": "code",
      "source": [
        "import pandas as pd\n",
        "import numpy as np\n",
        "import matplotlib.pyplot as plt\n",
        "import seaborn as sns\n",
        "\n",
        "from sklearn.model_selection import train_test_split\n",
        "from sklearn.preprocessing import OneHotEncoder, StandardScaler\n",
        "from sklearn.linear_model import LogisticRegression\n",
        "from sklearn.ensemble import RandomForestClassifier\n",
        "from sklearn.model_selection import GridSearchCV\n",
        "import xgboost as xgb\n",
        "\n",
        "from sklearn.metrics import f1_score\n",
        "from sklearn.metrics import recall_score\n",
        "from sklearn.metrics import precision_score\n",
        "from sklearn.metrics import r2_score\n",
        "from sklearn.metrics import accuracy_score\n",
        "from sklearn.metrics import confusion_matrix\n",
        "\n",
        "# Pandas options\n",
        "pd.set_option('display.max_colwidth', 1000, 'display.max_rows', None, 'display.max_columns', None)\n",
        "pd.set_option('display.float_format', lambda x: '%.3f' % x)"
      ],
      "metadata": {
        "id": "pMfLabXhgjMR"
      },
      "execution_count": 3,
      "outputs": []
    },
    {
      "cell_type": "code",
      "source": [
        "# read the original dataset\n",
        "accepted = drive.CreateFile({'id':'18-57hbXD29nPolm1akDlQ2H1fC7Gh3tf'}) # replace the id with id of file you want to access\n",
        "# accepted_100k = drive.CreateFile({'id':'1nn9fSE97dfFk1OPegWDM0UaUJm5nf44B'}) # replace the id with id of file you want to access\n",
        "\n",
        "accepted.GetContentFile('accepted_2007_to_2018Q4.csv')\n",
        "# accepted_100k.GetContentFile('accepted_100k.csv')\n"
      ],
      "metadata": {
        "id": "_tO5L-_jUoNZ"
      },
      "execution_count": 4,
      "outputs": []
    },
    {
      "cell_type": "code",
      "source": [
        "df = pd.read_csv('accepted_2007_to_2018Q4.csv')\n",
        "# df = pd.read_csv('accepted_100k.csv')\n"
      ],
      "metadata": {
        "id": "jmH7on_Uzv0z",
        "colab": {
          "base_uri": "https://localhost:8080/"
        },
        "outputId": "47766cdb-bea4-4f2e-85bc-80cd2fad99ab"
      },
      "execution_count": 5,
      "outputs": [
        {
          "output_type": "stream",
          "name": "stderr",
          "text": [
            "/usr/local/lib/python3.7/dist-packages/IPython/core/interactiveshell.py:2718: DtypeWarning: Columns (0,19,49,59,118,129,130,131,134,135,136,139,145,146,147) have mixed types.Specify dtype option on import or set low_memory=False.\n",
            "  interactivity=interactivity, compiler=compiler, result=result)\n"
          ]
        }
      ]
    },
    {
      "cell_type": "markdown",
      "source": [
        "#Part 1: Data Exploration"
      ],
      "metadata": {
        "id": "Hnkjlhqct6yU"
      }
    },
    {
      "cell_type": "code",
      "source": [
        "!pip install lifelines"
      ],
      "metadata": {
        "colab": {
          "base_uri": "https://localhost:8080/"
        },
        "id": "wxE3-L3H28tW",
        "outputId": "f8ebbe94-ebea-49b8-f244-1e52479ecb2a"
      },
      "execution_count": 6,
      "outputs": [
        {
          "output_type": "stream",
          "name": "stdout",
          "text": [
            "Requirement already satisfied: lifelines in /usr/local/lib/python3.7/dist-packages (0.26.4)\n",
            "Requirement already satisfied: scipy>=1.2.0 in /usr/local/lib/python3.7/dist-packages (from lifelines) (1.4.1)\n",
            "Requirement already satisfied: autograd>=1.3 in /usr/local/lib/python3.7/dist-packages (from lifelines) (1.3)\n",
            "Requirement already satisfied: numpy>=1.14.0 in /usr/local/lib/python3.7/dist-packages (from lifelines) (1.19.5)\n",
            "Requirement already satisfied: matplotlib>=3.0 in /usr/local/lib/python3.7/dist-packages (from lifelines) (3.2.2)\n",
            "Requirement already satisfied: autograd-gamma>=0.3 in /usr/local/lib/python3.7/dist-packages (from lifelines) (0.5.0)\n",
            "Requirement already satisfied: pandas>=0.23.0 in /usr/local/lib/python3.7/dist-packages (from lifelines) (1.1.5)\n",
            "Requirement already satisfied: formulaic<0.3,>=0.2.2 in /usr/local/lib/python3.7/dist-packages (from lifelines) (0.2.4)\n",
            "Requirement already satisfied: future>=0.15.2 in /usr/local/lib/python3.7/dist-packages (from autograd>=1.3->lifelines) (0.16.0)\n",
            "Requirement already satisfied: interface-meta>=1.2 in /usr/local/lib/python3.7/dist-packages (from formulaic<0.3,>=0.2.2->lifelines) (1.2.4)\n",
            "Requirement already satisfied: wrapt in /usr/local/lib/python3.7/dist-packages (from formulaic<0.3,>=0.2.2->lifelines) (1.13.3)\n",
            "Requirement already satisfied: astor in /usr/local/lib/python3.7/dist-packages (from formulaic<0.3,>=0.2.2->lifelines) (0.8.1)\n",
            "Requirement already satisfied: kiwisolver>=1.0.1 in /usr/local/lib/python3.7/dist-packages (from matplotlib>=3.0->lifelines) (1.3.2)\n",
            "Requirement already satisfied: pyparsing!=2.0.4,!=2.1.2,!=2.1.6,>=2.0.1 in /usr/local/lib/python3.7/dist-packages (from matplotlib>=3.0->lifelines) (3.0.7)\n",
            "Requirement already satisfied: cycler>=0.10 in /usr/local/lib/python3.7/dist-packages (from matplotlib>=3.0->lifelines) (0.11.0)\n",
            "Requirement already satisfied: python-dateutil>=2.1 in /usr/local/lib/python3.7/dist-packages (from matplotlib>=3.0->lifelines) (2.8.2)\n",
            "Requirement already satisfied: pytz>=2017.2 in /usr/local/lib/python3.7/dist-packages (from pandas>=0.23.0->lifelines) (2018.9)\n",
            "Requirement already satisfied: six>=1.5 in /usr/local/lib/python3.7/dist-packages (from python-dateutil>=2.1->matplotlib>=3.0->lifelines) (1.15.0)\n"
          ]
        }
      ]
    },
    {
      "cell_type": "code",
      "source": [
        "from lifelines.datasets import load_rossi\n",
        "from lifelines import CoxPHFitter\n",
        "rossi = load_rossi()\n",
        "cph = CoxPHFitter()"
      ],
      "metadata": {
        "id": "MzZXw6tZ25yK"
      },
      "execution_count": 7,
      "outputs": []
    },
    {
      "cell_type": "code",
      "source": [
        "rossi.head()"
      ],
      "metadata": {
        "colab": {
          "base_uri": "https://localhost:8080/",
          "height": 206
        },
        "id": "iuQ8-ego3FTk",
        "outputId": "de599594-16f4-4a77-b2d3-93828ce8db35"
      },
      "execution_count": 8,
      "outputs": [
        {
          "output_type": "execute_result",
          "data": {
            "text/html": [
              "\n",
              "  <div id=\"df-7b6d1a30-2122-45e6-ad1b-7a3974b4040b\">\n",
              "    <div class=\"colab-df-container\">\n",
              "      <div>\n",
              "<style scoped>\n",
              "    .dataframe tbody tr th:only-of-type {\n",
              "        vertical-align: middle;\n",
              "    }\n",
              "\n",
              "    .dataframe tbody tr th {\n",
              "        vertical-align: top;\n",
              "    }\n",
              "\n",
              "    .dataframe thead th {\n",
              "        text-align: right;\n",
              "    }\n",
              "</style>\n",
              "<table border=\"1\" class=\"dataframe\">\n",
              "  <thead>\n",
              "    <tr style=\"text-align: right;\">\n",
              "      <th></th>\n",
              "      <th>week</th>\n",
              "      <th>arrest</th>\n",
              "      <th>fin</th>\n",
              "      <th>age</th>\n",
              "      <th>race</th>\n",
              "      <th>wexp</th>\n",
              "      <th>mar</th>\n",
              "      <th>paro</th>\n",
              "      <th>prio</th>\n",
              "    </tr>\n",
              "  </thead>\n",
              "  <tbody>\n",
              "    <tr>\n",
              "      <th>0</th>\n",
              "      <td>20</td>\n",
              "      <td>1</td>\n",
              "      <td>0</td>\n",
              "      <td>27</td>\n",
              "      <td>1</td>\n",
              "      <td>0</td>\n",
              "      <td>0</td>\n",
              "      <td>1</td>\n",
              "      <td>3</td>\n",
              "    </tr>\n",
              "    <tr>\n",
              "      <th>1</th>\n",
              "      <td>17</td>\n",
              "      <td>1</td>\n",
              "      <td>0</td>\n",
              "      <td>18</td>\n",
              "      <td>1</td>\n",
              "      <td>0</td>\n",
              "      <td>0</td>\n",
              "      <td>1</td>\n",
              "      <td>8</td>\n",
              "    </tr>\n",
              "    <tr>\n",
              "      <th>2</th>\n",
              "      <td>25</td>\n",
              "      <td>1</td>\n",
              "      <td>0</td>\n",
              "      <td>19</td>\n",
              "      <td>0</td>\n",
              "      <td>1</td>\n",
              "      <td>0</td>\n",
              "      <td>1</td>\n",
              "      <td>13</td>\n",
              "    </tr>\n",
              "    <tr>\n",
              "      <th>3</th>\n",
              "      <td>52</td>\n",
              "      <td>0</td>\n",
              "      <td>1</td>\n",
              "      <td>23</td>\n",
              "      <td>1</td>\n",
              "      <td>1</td>\n",
              "      <td>1</td>\n",
              "      <td>1</td>\n",
              "      <td>1</td>\n",
              "    </tr>\n",
              "    <tr>\n",
              "      <th>4</th>\n",
              "      <td>52</td>\n",
              "      <td>0</td>\n",
              "      <td>0</td>\n",
              "      <td>19</td>\n",
              "      <td>0</td>\n",
              "      <td>1</td>\n",
              "      <td>0</td>\n",
              "      <td>1</td>\n",
              "      <td>3</td>\n",
              "    </tr>\n",
              "  </tbody>\n",
              "</table>\n",
              "</div>\n",
              "      <button class=\"colab-df-convert\" onclick=\"convertToInteractive('df-7b6d1a30-2122-45e6-ad1b-7a3974b4040b')\"\n",
              "              title=\"Convert this dataframe to an interactive table.\"\n",
              "              style=\"display:none;\">\n",
              "        \n",
              "  <svg xmlns=\"http://www.w3.org/2000/svg\" height=\"24px\"viewBox=\"0 0 24 24\"\n",
              "       width=\"24px\">\n",
              "    <path d=\"M0 0h24v24H0V0z\" fill=\"none\"/>\n",
              "    <path d=\"M18.56 5.44l.94 2.06.94-2.06 2.06-.94-2.06-.94-.94-2.06-.94 2.06-2.06.94zm-11 1L8.5 8.5l.94-2.06 2.06-.94-2.06-.94L8.5 2.5l-.94 2.06-2.06.94zm10 10l.94 2.06.94-2.06 2.06-.94-2.06-.94-.94-2.06-.94 2.06-2.06.94z\"/><path d=\"M17.41 7.96l-1.37-1.37c-.4-.4-.92-.59-1.43-.59-.52 0-1.04.2-1.43.59L10.3 9.45l-7.72 7.72c-.78.78-.78 2.05 0 2.83L4 21.41c.39.39.9.59 1.41.59.51 0 1.02-.2 1.41-.59l7.78-7.78 2.81-2.81c.8-.78.8-2.07 0-2.86zM5.41 20L4 18.59l7.72-7.72 1.47 1.35L5.41 20z\"/>\n",
              "  </svg>\n",
              "      </button>\n",
              "      \n",
              "  <style>\n",
              "    .colab-df-container {\n",
              "      display:flex;\n",
              "      flex-wrap:wrap;\n",
              "      gap: 12px;\n",
              "    }\n",
              "\n",
              "    .colab-df-convert {\n",
              "      background-color: #E8F0FE;\n",
              "      border: none;\n",
              "      border-radius: 50%;\n",
              "      cursor: pointer;\n",
              "      display: none;\n",
              "      fill: #1967D2;\n",
              "      height: 32px;\n",
              "      padding: 0 0 0 0;\n",
              "      width: 32px;\n",
              "    }\n",
              "\n",
              "    .colab-df-convert:hover {\n",
              "      background-color: #E2EBFA;\n",
              "      box-shadow: 0px 1px 2px rgba(60, 64, 67, 0.3), 0px 1px 3px 1px rgba(60, 64, 67, 0.15);\n",
              "      fill: #174EA6;\n",
              "    }\n",
              "\n",
              "    [theme=dark] .colab-df-convert {\n",
              "      background-color: #3B4455;\n",
              "      fill: #D2E3FC;\n",
              "    }\n",
              "\n",
              "    [theme=dark] .colab-df-convert:hover {\n",
              "      background-color: #434B5C;\n",
              "      box-shadow: 0px 1px 3px 1px rgba(0, 0, 0, 0.15);\n",
              "      filter: drop-shadow(0px 1px 2px rgba(0, 0, 0, 0.3));\n",
              "      fill: #FFFFFF;\n",
              "    }\n",
              "  </style>\n",
              "\n",
              "      <script>\n",
              "        const buttonEl =\n",
              "          document.querySelector('#df-7b6d1a30-2122-45e6-ad1b-7a3974b4040b button.colab-df-convert');\n",
              "        buttonEl.style.display =\n",
              "          google.colab.kernel.accessAllowed ? 'block' : 'none';\n",
              "\n",
              "        async function convertToInteractive(key) {\n",
              "          const element = document.querySelector('#df-7b6d1a30-2122-45e6-ad1b-7a3974b4040b');\n",
              "          const dataTable =\n",
              "            await google.colab.kernel.invokeFunction('convertToInteractive',\n",
              "                                                     [key], {});\n",
              "          if (!dataTable) return;\n",
              "\n",
              "          const docLinkHtml = 'Like what you see? Visit the ' +\n",
              "            '<a target=\"_blank\" href=https://colab.research.google.com/notebooks/data_table.ipynb>data table notebook</a>'\n",
              "            + ' to learn more about interactive tables.';\n",
              "          element.innerHTML = '';\n",
              "          dataTable['output_type'] = 'display_data';\n",
              "          await google.colab.output.renderOutput(dataTable, element);\n",
              "          const docLink = document.createElement('div');\n",
              "          docLink.innerHTML = docLinkHtml;\n",
              "          element.appendChild(docLink);\n",
              "        }\n",
              "      </script>\n",
              "    </div>\n",
              "  </div>\n",
              "  "
            ],
            "text/plain": [
              "   week  arrest  fin  age  race  wexp  mar  paro  prio\n",
              "0    20       1    0   27     1     0    0     1     3\n",
              "1    17       1    0   18     1     0    0     1     8\n",
              "2    25       1    0   19     0     1    0     1    13\n",
              "3    52       0    1   23     1     1    1     1     1\n",
              "4    52       0    0   19     0     1    0     1     3"
            ]
          },
          "metadata": {},
          "execution_count": 8
        }
      ]
    },
    {
      "cell_type": "code",
      "source": [
        "cph.fit(rossi, 'week', 'arrest')\n",
        "cph.print_summary()"
      ],
      "metadata": {
        "colab": {
          "base_uri": "https://localhost:8080/",
          "height": 680
        },
        "id": "WMbKp0PE3Dv9",
        "outputId": "009ae525-d2ff-4999-db37-a2f1c6f32374"
      },
      "execution_count": 9,
      "outputs": [
        {
          "output_type": "display_data",
          "data": {
            "text/latex": "\\begin{tabular}{lrrrrrrrrrr}\n\\toprule\n{} &  coef &  exp(coef) &  se(coef) &  coef lower 95\\% &  coef upper 95\\% &  exp(coef) lower 95\\% &  exp(coef) upper 95\\% &     z &    p &  -log2(p) \\\\\ncovariate &       &            &           &                 &                 &                      &                      &       &      &           \\\\\n\\midrule\nfin       & -0.38 &       0.68 &      0.19 &           -0.75 &           -0.00 &                 0.47 &                 1.00 & -1.98 & 0.05 &      4.40 \\\\\nage       & -0.06 &       0.94 &      0.02 &           -0.10 &           -0.01 &                 0.90 &                 0.99 & -2.61 & 0.01 &      6.79 \\\\\nrace      &  0.31 &       1.37 &      0.31 &           -0.29 &            0.92 &                 0.75 &                 2.50 &  1.02 & 0.31 &      1.70 \\\\\nwexp      & -0.15 &       0.86 &      0.21 &           -0.57 &            0.27 &                 0.57 &                 1.30 & -0.71 & 0.48 &      1.06 \\\\\nmar       & -0.43 &       0.65 &      0.38 &           -1.18 &            0.31 &                 0.31 &                 1.37 & -1.14 & 0.26 &      1.97 \\\\\nparo      & -0.08 &       0.92 &      0.20 &           -0.47 &            0.30 &                 0.63 &                 1.35 & -0.43 & 0.66 &      0.59 \\\\\nprio      &  0.09 &       1.10 &      0.03 &            0.04 &            0.15 &                 1.04 &                 1.16 &  3.19 & 0.00 &      9.48 \\\\\n\\bottomrule\n\\end{tabular}\n",
            "text/html": [
              "<div>\n",
              "<style scoped>\n",
              "    .dataframe tbody tr th:only-of-type {\n",
              "        vertical-align: middle;\n",
              "    }\n",
              "\n",
              "    .dataframe tbody tr th {\n",
              "        vertical-align: top;\n",
              "    }\n",
              "\n",
              "    .dataframe thead th {\n",
              "        text-align: right;\n",
              "    }\n",
              "</style>\n",
              "<table border=\"1\" class=\"dataframe\">\n",
              "  <tbody>\n",
              "    <tr>\n",
              "      <th>model</th>\n",
              "      <td>lifelines.CoxPHFitter</td>\n",
              "    </tr>\n",
              "    <tr>\n",
              "      <th>duration col</th>\n",
              "      <td>'week'</td>\n",
              "    </tr>\n",
              "    <tr>\n",
              "      <th>event col</th>\n",
              "      <td>'arrest'</td>\n",
              "    </tr>\n",
              "    <tr>\n",
              "      <th>baseline estimation</th>\n",
              "      <td>breslow</td>\n",
              "    </tr>\n",
              "    <tr>\n",
              "      <th>number of observations</th>\n",
              "      <td>432</td>\n",
              "    </tr>\n",
              "    <tr>\n",
              "      <th>number of events observed</th>\n",
              "      <td>114</td>\n",
              "    </tr>\n",
              "    <tr>\n",
              "      <th>partial log-likelihood</th>\n",
              "      <td>-658.75</td>\n",
              "    </tr>\n",
              "    <tr>\n",
              "      <th>time fit was run</th>\n",
              "      <td>2022-02-02 02:46:55 UTC</td>\n",
              "    </tr>\n",
              "  </tbody>\n",
              "</table>\n",
              "</div><table border=\"1\" class=\"dataframe\">\n",
              "  <thead>\n",
              "    <tr style=\"text-align: right;\">\n",
              "      <th style=\"min-width: 12px;\"></th>\n",
              "      <th style=\"min-width: 12px;\">coef</th>\n",
              "      <th style=\"min-width: 12px;\">exp(coef)</th>\n",
              "      <th style=\"min-width: 12px;\">se(coef)</th>\n",
              "      <th style=\"min-width: 12px;\">coef lower 95%</th>\n",
              "      <th style=\"min-width: 12px;\">coef upper 95%</th>\n",
              "      <th style=\"min-width: 12px;\">exp(coef) lower 95%</th>\n",
              "      <th style=\"min-width: 12px;\">exp(coef) upper 95%</th>\n",
              "      <th style=\"min-width: 12px;\">z</th>\n",
              "      <th style=\"min-width: 12px;\">p</th>\n",
              "      <th style=\"min-width: 12px;\">-log2(p)</th>\n",
              "    </tr>\n",
              "  </thead>\n",
              "  <tbody>\n",
              "    <tr>\n",
              "      <th>fin</th>\n",
              "      <td>-0.38</td>\n",
              "      <td>0.68</td>\n",
              "      <td>0.19</td>\n",
              "      <td>-0.75</td>\n",
              "      <td>-0.00</td>\n",
              "      <td>0.47</td>\n",
              "      <td>1.00</td>\n",
              "      <td>-1.98</td>\n",
              "      <td>0.05</td>\n",
              "      <td>4.40</td>\n",
              "    </tr>\n",
              "    <tr>\n",
              "      <th>age</th>\n",
              "      <td>-0.06</td>\n",
              "      <td>0.94</td>\n",
              "      <td>0.02</td>\n",
              "      <td>-0.10</td>\n",
              "      <td>-0.01</td>\n",
              "      <td>0.90</td>\n",
              "      <td>0.99</td>\n",
              "      <td>-2.61</td>\n",
              "      <td>0.01</td>\n",
              "      <td>6.79</td>\n",
              "    </tr>\n",
              "    <tr>\n",
              "      <th>race</th>\n",
              "      <td>0.31</td>\n",
              "      <td>1.37</td>\n",
              "      <td>0.31</td>\n",
              "      <td>-0.29</td>\n",
              "      <td>0.92</td>\n",
              "      <td>0.75</td>\n",
              "      <td>2.50</td>\n",
              "      <td>1.02</td>\n",
              "      <td>0.31</td>\n",
              "      <td>1.70</td>\n",
              "    </tr>\n",
              "    <tr>\n",
              "      <th>wexp</th>\n",
              "      <td>-0.15</td>\n",
              "      <td>0.86</td>\n",
              "      <td>0.21</td>\n",
              "      <td>-0.57</td>\n",
              "      <td>0.27</td>\n",
              "      <td>0.57</td>\n",
              "      <td>1.30</td>\n",
              "      <td>-0.71</td>\n",
              "      <td>0.48</td>\n",
              "      <td>1.06</td>\n",
              "    </tr>\n",
              "    <tr>\n",
              "      <th>mar</th>\n",
              "      <td>-0.43</td>\n",
              "      <td>0.65</td>\n",
              "      <td>0.38</td>\n",
              "      <td>-1.18</td>\n",
              "      <td>0.31</td>\n",
              "      <td>0.31</td>\n",
              "      <td>1.37</td>\n",
              "      <td>-1.14</td>\n",
              "      <td>0.26</td>\n",
              "      <td>1.97</td>\n",
              "    </tr>\n",
              "    <tr>\n",
              "      <th>paro</th>\n",
              "      <td>-0.08</td>\n",
              "      <td>0.92</td>\n",
              "      <td>0.20</td>\n",
              "      <td>-0.47</td>\n",
              "      <td>0.30</td>\n",
              "      <td>0.63</td>\n",
              "      <td>1.35</td>\n",
              "      <td>-0.43</td>\n",
              "      <td>0.66</td>\n",
              "      <td>0.59</td>\n",
              "    </tr>\n",
              "    <tr>\n",
              "      <th>prio</th>\n",
              "      <td>0.09</td>\n",
              "      <td>1.10</td>\n",
              "      <td>0.03</td>\n",
              "      <td>0.04</td>\n",
              "      <td>0.15</td>\n",
              "      <td>1.04</td>\n",
              "      <td>1.16</td>\n",
              "      <td>3.19</td>\n",
              "      <td>&lt;0.005</td>\n",
              "      <td>9.48</td>\n",
              "    </tr>\n",
              "  </tbody>\n",
              "</table><br><div>\n",
              "<style scoped>\n",
              "    .dataframe tbody tr th:only-of-type {\n",
              "        vertical-align: middle;\n",
              "    }\n",
              "\n",
              "    .dataframe tbody tr th {\n",
              "        vertical-align: top;\n",
              "    }\n",
              "\n",
              "    .dataframe thead th {\n",
              "        text-align: right;\n",
              "    }\n",
              "</style>\n",
              "<table border=\"1\" class=\"dataframe\">\n",
              "  <tbody>\n",
              "    <tr>\n",
              "      <th>Concordance</th>\n",
              "      <td>0.64</td>\n",
              "    </tr>\n",
              "    <tr>\n",
              "      <th>Partial AIC</th>\n",
              "      <td>1331.50</td>\n",
              "    </tr>\n",
              "    <tr>\n",
              "      <th>log-likelihood ratio test</th>\n",
              "      <td>33.27 on 7 df</td>\n",
              "    </tr>\n",
              "    <tr>\n",
              "      <th>-log2(p) of ll-ratio test</th>\n",
              "      <td>15.37</td>\n",
              "    </tr>\n",
              "  </tbody>\n",
              "</table>\n",
              "</div>"
            ],
            "text/plain": [
              "<lifelines.CoxPHFitter: fitted with 432 total observations, 318 right-censored observations>\n",
              "             duration col = 'week'\n",
              "                event col = 'arrest'\n",
              "      baseline estimation = breslow\n",
              "   number of observations = 432\n",
              "number of events observed = 114\n",
              "   partial log-likelihood = -658.75\n",
              "         time fit was run = 2022-02-02 02:46:55 UTC\n",
              "\n",
              "---\n",
              "            coef  exp(coef)   se(coef)   coef lower 95%   coef upper 95%  exp(coef) lower 95%  exp(coef) upper 95%\n",
              "covariate                                                                                                         \n",
              "fin        -0.38       0.68       0.19            -0.75            -0.00                 0.47                 1.00\n",
              "age        -0.06       0.94       0.02            -0.10            -0.01                 0.90                 0.99\n",
              "race        0.31       1.37       0.31            -0.29             0.92                 0.75                 2.50\n",
              "wexp       -0.15       0.86       0.21            -0.57             0.27                 0.57                 1.30\n",
              "mar        -0.43       0.65       0.38            -1.18             0.31                 0.31                 1.37\n",
              "paro       -0.08       0.92       0.20            -0.47             0.30                 0.63                 1.35\n",
              "prio        0.09       1.10       0.03             0.04             0.15                 1.04                 1.16\n",
              "\n",
              "              z      p   -log2(p)\n",
              "covariate                        \n",
              "fin       -1.98   0.05       4.40\n",
              "age       -2.61   0.01       6.79\n",
              "race       1.02   0.31       1.70\n",
              "wexp      -0.71   0.48       1.06\n",
              "mar       -1.14   0.26       1.97\n",
              "paro      -0.43   0.66       0.59\n",
              "prio       3.19 <0.005       9.48\n",
              "---\n",
              "Concordance = 0.64\n",
              "Partial AIC = 1331.50\n",
              "log-likelihood ratio test = 33.27 on 7 df\n",
              "-log2(p) of ll-ratio test = 15.37"
            ]
          },
          "metadata": {}
        }
      ]
    },
    {
      "cell_type": "code",
      "source": [
        "df.head()"
      ],
      "metadata": {
        "colab": {
          "base_uri": "https://localhost:8080/",
          "height": 374
        },
        "id": "ZKGokbkotXsV",
        "outputId": "ec04fdcf-faa1-4433-9d5b-63ef7c8670a2"
      },
      "execution_count": 10,
      "outputs": [
        {
          "output_type": "execute_result",
          "data": {
            "text/html": [
              "\n",
              "  <div id=\"df-6023b8f1-8833-45e2-a77d-71fa94fda76a\">\n",
              "    <div class=\"colab-df-container\">\n",
              "      <div>\n",
              "<style scoped>\n",
              "    .dataframe tbody tr th:only-of-type {\n",
              "        vertical-align: middle;\n",
              "    }\n",
              "\n",
              "    .dataframe tbody tr th {\n",
              "        vertical-align: top;\n",
              "    }\n",
              "\n",
              "    .dataframe thead th {\n",
              "        text-align: right;\n",
              "    }\n",
              "</style>\n",
              "<table border=\"1\" class=\"dataframe\">\n",
              "  <thead>\n",
              "    <tr style=\"text-align: right;\">\n",
              "      <th></th>\n",
              "      <th>id</th>\n",
              "      <th>member_id</th>\n",
              "      <th>loan_amnt</th>\n",
              "      <th>funded_amnt</th>\n",
              "      <th>funded_amnt_inv</th>\n",
              "      <th>term</th>\n",
              "      <th>int_rate</th>\n",
              "      <th>installment</th>\n",
              "      <th>grade</th>\n",
              "      <th>sub_grade</th>\n",
              "      <th>emp_title</th>\n",
              "      <th>emp_length</th>\n",
              "      <th>home_ownership</th>\n",
              "      <th>annual_inc</th>\n",
              "      <th>verification_status</th>\n",
              "      <th>issue_d</th>\n",
              "      <th>loan_status</th>\n",
              "      <th>pymnt_plan</th>\n",
              "      <th>url</th>\n",
              "      <th>desc</th>\n",
              "      <th>purpose</th>\n",
              "      <th>title</th>\n",
              "      <th>zip_code</th>\n",
              "      <th>addr_state</th>\n",
              "      <th>dti</th>\n",
              "      <th>delinq_2yrs</th>\n",
              "      <th>earliest_cr_line</th>\n",
              "      <th>fico_range_low</th>\n",
              "      <th>fico_range_high</th>\n",
              "      <th>inq_last_6mths</th>\n",
              "      <th>mths_since_last_delinq</th>\n",
              "      <th>mths_since_last_record</th>\n",
              "      <th>open_acc</th>\n",
              "      <th>pub_rec</th>\n",
              "      <th>revol_bal</th>\n",
              "      <th>revol_util</th>\n",
              "      <th>total_acc</th>\n",
              "      <th>initial_list_status</th>\n",
              "      <th>out_prncp</th>\n",
              "      <th>out_prncp_inv</th>\n",
              "      <th>total_pymnt</th>\n",
              "      <th>total_pymnt_inv</th>\n",
              "      <th>total_rec_prncp</th>\n",
              "      <th>total_rec_int</th>\n",
              "      <th>total_rec_late_fee</th>\n",
              "      <th>recoveries</th>\n",
              "      <th>collection_recovery_fee</th>\n",
              "      <th>last_pymnt_d</th>\n",
              "      <th>last_pymnt_amnt</th>\n",
              "      <th>next_pymnt_d</th>\n",
              "      <th>last_credit_pull_d</th>\n",
              "      <th>last_fico_range_high</th>\n",
              "      <th>last_fico_range_low</th>\n",
              "      <th>collections_12_mths_ex_med</th>\n",
              "      <th>mths_since_last_major_derog</th>\n",
              "      <th>policy_code</th>\n",
              "      <th>application_type</th>\n",
              "      <th>annual_inc_joint</th>\n",
              "      <th>dti_joint</th>\n",
              "      <th>verification_status_joint</th>\n",
              "      <th>acc_now_delinq</th>\n",
              "      <th>tot_coll_amt</th>\n",
              "      <th>tot_cur_bal</th>\n",
              "      <th>open_acc_6m</th>\n",
              "      <th>open_act_il</th>\n",
              "      <th>open_il_12m</th>\n",
              "      <th>open_il_24m</th>\n",
              "      <th>mths_since_rcnt_il</th>\n",
              "      <th>total_bal_il</th>\n",
              "      <th>il_util</th>\n",
              "      <th>open_rv_12m</th>\n",
              "      <th>open_rv_24m</th>\n",
              "      <th>max_bal_bc</th>\n",
              "      <th>all_util</th>\n",
              "      <th>total_rev_hi_lim</th>\n",
              "      <th>inq_fi</th>\n",
              "      <th>total_cu_tl</th>\n",
              "      <th>inq_last_12m</th>\n",
              "      <th>acc_open_past_24mths</th>\n",
              "      <th>avg_cur_bal</th>\n",
              "      <th>bc_open_to_buy</th>\n",
              "      <th>bc_util</th>\n",
              "      <th>chargeoff_within_12_mths</th>\n",
              "      <th>delinq_amnt</th>\n",
              "      <th>mo_sin_old_il_acct</th>\n",
              "      <th>mo_sin_old_rev_tl_op</th>\n",
              "      <th>mo_sin_rcnt_rev_tl_op</th>\n",
              "      <th>mo_sin_rcnt_tl</th>\n",
              "      <th>mort_acc</th>\n",
              "      <th>mths_since_recent_bc</th>\n",
              "      <th>mths_since_recent_bc_dlq</th>\n",
              "      <th>mths_since_recent_inq</th>\n",
              "      <th>mths_since_recent_revol_delinq</th>\n",
              "      <th>num_accts_ever_120_pd</th>\n",
              "      <th>num_actv_bc_tl</th>\n",
              "      <th>num_actv_rev_tl</th>\n",
              "      <th>num_bc_sats</th>\n",
              "      <th>num_bc_tl</th>\n",
              "      <th>num_il_tl</th>\n",
              "      <th>num_op_rev_tl</th>\n",
              "      <th>num_rev_accts</th>\n",
              "      <th>num_rev_tl_bal_gt_0</th>\n",
              "      <th>num_sats</th>\n",
              "      <th>num_tl_120dpd_2m</th>\n",
              "      <th>num_tl_30dpd</th>\n",
              "      <th>num_tl_90g_dpd_24m</th>\n",
              "      <th>num_tl_op_past_12m</th>\n",
              "      <th>pct_tl_nvr_dlq</th>\n",
              "      <th>percent_bc_gt_75</th>\n",
              "      <th>pub_rec_bankruptcies</th>\n",
              "      <th>tax_liens</th>\n",
              "      <th>tot_hi_cred_lim</th>\n",
              "      <th>total_bal_ex_mort</th>\n",
              "      <th>total_bc_limit</th>\n",
              "      <th>total_il_high_credit_limit</th>\n",
              "      <th>revol_bal_joint</th>\n",
              "      <th>sec_app_fico_range_low</th>\n",
              "      <th>sec_app_fico_range_high</th>\n",
              "      <th>sec_app_earliest_cr_line</th>\n",
              "      <th>sec_app_inq_last_6mths</th>\n",
              "      <th>sec_app_mort_acc</th>\n",
              "      <th>sec_app_open_acc</th>\n",
              "      <th>sec_app_revol_util</th>\n",
              "      <th>sec_app_open_act_il</th>\n",
              "      <th>sec_app_num_rev_accts</th>\n",
              "      <th>sec_app_chargeoff_within_12_mths</th>\n",
              "      <th>sec_app_collections_12_mths_ex_med</th>\n",
              "      <th>sec_app_mths_since_last_major_derog</th>\n",
              "      <th>hardship_flag</th>\n",
              "      <th>hardship_type</th>\n",
              "      <th>hardship_reason</th>\n",
              "      <th>hardship_status</th>\n",
              "      <th>deferral_term</th>\n",
              "      <th>hardship_amount</th>\n",
              "      <th>hardship_start_date</th>\n",
              "      <th>hardship_end_date</th>\n",
              "      <th>payment_plan_start_date</th>\n",
              "      <th>hardship_length</th>\n",
              "      <th>hardship_dpd</th>\n",
              "      <th>hardship_loan_status</th>\n",
              "      <th>orig_projected_additional_accrued_interest</th>\n",
              "      <th>hardship_payoff_balance_amount</th>\n",
              "      <th>hardship_last_payment_amount</th>\n",
              "      <th>disbursement_method</th>\n",
              "      <th>debt_settlement_flag</th>\n",
              "      <th>debt_settlement_flag_date</th>\n",
              "      <th>settlement_status</th>\n",
              "      <th>settlement_date</th>\n",
              "      <th>settlement_amount</th>\n",
              "      <th>settlement_percentage</th>\n",
              "      <th>settlement_term</th>\n",
              "    </tr>\n",
              "  </thead>\n",
              "  <tbody>\n",
              "    <tr>\n",
              "      <th>0</th>\n",
              "      <td>68407277</td>\n",
              "      <td>nan</td>\n",
              "      <td>3600.000</td>\n",
              "      <td>3600.000</td>\n",
              "      <td>3600.000</td>\n",
              "      <td>36 months</td>\n",
              "      <td>13.990</td>\n",
              "      <td>123.030</td>\n",
              "      <td>C</td>\n",
              "      <td>C4</td>\n",
              "      <td>leadman</td>\n",
              "      <td>10+ years</td>\n",
              "      <td>MORTGAGE</td>\n",
              "      <td>55000.000</td>\n",
              "      <td>Not Verified</td>\n",
              "      <td>Dec-2015</td>\n",
              "      <td>Fully Paid</td>\n",
              "      <td>n</td>\n",
              "      <td>https://lendingclub.com/browse/loanDetail.action?loan_id=68407277</td>\n",
              "      <td>NaN</td>\n",
              "      <td>debt_consolidation</td>\n",
              "      <td>Debt consolidation</td>\n",
              "      <td>190xx</td>\n",
              "      <td>PA</td>\n",
              "      <td>5.910</td>\n",
              "      <td>0.000</td>\n",
              "      <td>Aug-2003</td>\n",
              "      <td>675.000</td>\n",
              "      <td>679.000</td>\n",
              "      <td>1.000</td>\n",
              "      <td>30.000</td>\n",
              "      <td>nan</td>\n",
              "      <td>7.000</td>\n",
              "      <td>0.000</td>\n",
              "      <td>2765.000</td>\n",
              "      <td>29.700</td>\n",
              "      <td>13.000</td>\n",
              "      <td>w</td>\n",
              "      <td>0.000</td>\n",
              "      <td>0.000</td>\n",
              "      <td>4421.724</td>\n",
              "      <td>4421.720</td>\n",
              "      <td>3600.000</td>\n",
              "      <td>821.720</td>\n",
              "      <td>0.000</td>\n",
              "      <td>0.000</td>\n",
              "      <td>0.000</td>\n",
              "      <td>Jan-2019</td>\n",
              "      <td>122.670</td>\n",
              "      <td>NaN</td>\n",
              "      <td>Mar-2019</td>\n",
              "      <td>564.000</td>\n",
              "      <td>560.000</td>\n",
              "      <td>0.000</td>\n",
              "      <td>30.000</td>\n",
              "      <td>1.000</td>\n",
              "      <td>Individual</td>\n",
              "      <td>nan</td>\n",
              "      <td>nan</td>\n",
              "      <td>NaN</td>\n",
              "      <td>0.000</td>\n",
              "      <td>722.000</td>\n",
              "      <td>144904.000</td>\n",
              "      <td>2.000</td>\n",
              "      <td>2.000</td>\n",
              "      <td>0.000</td>\n",
              "      <td>1.000</td>\n",
              "      <td>21.000</td>\n",
              "      <td>4981.000</td>\n",
              "      <td>36.000</td>\n",
              "      <td>3.000</td>\n",
              "      <td>3.000</td>\n",
              "      <td>722.000</td>\n",
              "      <td>34.000</td>\n",
              "      <td>9300.000</td>\n",
              "      <td>3.000</td>\n",
              "      <td>1.000</td>\n",
              "      <td>4.000</td>\n",
              "      <td>4.000</td>\n",
              "      <td>20701.000</td>\n",
              "      <td>1506.000</td>\n",
              "      <td>37.200</td>\n",
              "      <td>0.000</td>\n",
              "      <td>0.000</td>\n",
              "      <td>148.000</td>\n",
              "      <td>128.000</td>\n",
              "      <td>3.000</td>\n",
              "      <td>3.000</td>\n",
              "      <td>1.000</td>\n",
              "      <td>4.000</td>\n",
              "      <td>69.000</td>\n",
              "      <td>4.000</td>\n",
              "      <td>69.000</td>\n",
              "      <td>2.000</td>\n",
              "      <td>2.000</td>\n",
              "      <td>4.000</td>\n",
              "      <td>2.000</td>\n",
              "      <td>5.000</td>\n",
              "      <td>3.000</td>\n",
              "      <td>4.000</td>\n",
              "      <td>9.000</td>\n",
              "      <td>4.000</td>\n",
              "      <td>7.000</td>\n",
              "      <td>0.000</td>\n",
              "      <td>0.000</td>\n",
              "      <td>0.000</td>\n",
              "      <td>3.000</td>\n",
              "      <td>76.900</td>\n",
              "      <td>0.000</td>\n",
              "      <td>0.000</td>\n",
              "      <td>0.000</td>\n",
              "      <td>178050.000</td>\n",
              "      <td>7746.000</td>\n",
              "      <td>2400.000</td>\n",
              "      <td>13734.000</td>\n",
              "      <td>nan</td>\n",
              "      <td>nan</td>\n",
              "      <td>nan</td>\n",
              "      <td>NaN</td>\n",
              "      <td>nan</td>\n",
              "      <td>nan</td>\n",
              "      <td>nan</td>\n",
              "      <td>nan</td>\n",
              "      <td>nan</td>\n",
              "      <td>nan</td>\n",
              "      <td>nan</td>\n",
              "      <td>nan</td>\n",
              "      <td>nan</td>\n",
              "      <td>N</td>\n",
              "      <td>NaN</td>\n",
              "      <td>NaN</td>\n",
              "      <td>NaN</td>\n",
              "      <td>nan</td>\n",
              "      <td>nan</td>\n",
              "      <td>NaN</td>\n",
              "      <td>NaN</td>\n",
              "      <td>NaN</td>\n",
              "      <td>nan</td>\n",
              "      <td>nan</td>\n",
              "      <td>NaN</td>\n",
              "      <td>nan</td>\n",
              "      <td>nan</td>\n",
              "      <td>nan</td>\n",
              "      <td>Cash</td>\n",
              "      <td>N</td>\n",
              "      <td>NaN</td>\n",
              "      <td>NaN</td>\n",
              "      <td>NaN</td>\n",
              "      <td>nan</td>\n",
              "      <td>nan</td>\n",
              "      <td>nan</td>\n",
              "    </tr>\n",
              "    <tr>\n",
              "      <th>1</th>\n",
              "      <td>68355089</td>\n",
              "      <td>nan</td>\n",
              "      <td>24700.000</td>\n",
              "      <td>24700.000</td>\n",
              "      <td>24700.000</td>\n",
              "      <td>36 months</td>\n",
              "      <td>11.990</td>\n",
              "      <td>820.280</td>\n",
              "      <td>C</td>\n",
              "      <td>C1</td>\n",
              "      <td>Engineer</td>\n",
              "      <td>10+ years</td>\n",
              "      <td>MORTGAGE</td>\n",
              "      <td>65000.000</td>\n",
              "      <td>Not Verified</td>\n",
              "      <td>Dec-2015</td>\n",
              "      <td>Fully Paid</td>\n",
              "      <td>n</td>\n",
              "      <td>https://lendingclub.com/browse/loanDetail.action?loan_id=68355089</td>\n",
              "      <td>NaN</td>\n",
              "      <td>small_business</td>\n",
              "      <td>Business</td>\n",
              "      <td>577xx</td>\n",
              "      <td>SD</td>\n",
              "      <td>16.060</td>\n",
              "      <td>1.000</td>\n",
              "      <td>Dec-1999</td>\n",
              "      <td>715.000</td>\n",
              "      <td>719.000</td>\n",
              "      <td>4.000</td>\n",
              "      <td>6.000</td>\n",
              "      <td>nan</td>\n",
              "      <td>22.000</td>\n",
              "      <td>0.000</td>\n",
              "      <td>21470.000</td>\n",
              "      <td>19.200</td>\n",
              "      <td>38.000</td>\n",
              "      <td>w</td>\n",
              "      <td>0.000</td>\n",
              "      <td>0.000</td>\n",
              "      <td>25679.660</td>\n",
              "      <td>25679.660</td>\n",
              "      <td>24700.000</td>\n",
              "      <td>979.660</td>\n",
              "      <td>0.000</td>\n",
              "      <td>0.000</td>\n",
              "      <td>0.000</td>\n",
              "      <td>Jun-2016</td>\n",
              "      <td>926.350</td>\n",
              "      <td>NaN</td>\n",
              "      <td>Mar-2019</td>\n",
              "      <td>699.000</td>\n",
              "      <td>695.000</td>\n",
              "      <td>0.000</td>\n",
              "      <td>nan</td>\n",
              "      <td>1.000</td>\n",
              "      <td>Individual</td>\n",
              "      <td>nan</td>\n",
              "      <td>nan</td>\n",
              "      <td>NaN</td>\n",
              "      <td>0.000</td>\n",
              "      <td>0.000</td>\n",
              "      <td>204396.000</td>\n",
              "      <td>1.000</td>\n",
              "      <td>1.000</td>\n",
              "      <td>0.000</td>\n",
              "      <td>1.000</td>\n",
              "      <td>19.000</td>\n",
              "      <td>18005.000</td>\n",
              "      <td>73.000</td>\n",
              "      <td>2.000</td>\n",
              "      <td>3.000</td>\n",
              "      <td>6472.000</td>\n",
              "      <td>29.000</td>\n",
              "      <td>111800.000</td>\n",
              "      <td>0.000</td>\n",
              "      <td>0.000</td>\n",
              "      <td>6.000</td>\n",
              "      <td>4.000</td>\n",
              "      <td>9733.000</td>\n",
              "      <td>57830.000</td>\n",
              "      <td>27.100</td>\n",
              "      <td>0.000</td>\n",
              "      <td>0.000</td>\n",
              "      <td>113.000</td>\n",
              "      <td>192.000</td>\n",
              "      <td>2.000</td>\n",
              "      <td>2.000</td>\n",
              "      <td>4.000</td>\n",
              "      <td>2.000</td>\n",
              "      <td>nan</td>\n",
              "      <td>0.000</td>\n",
              "      <td>6.000</td>\n",
              "      <td>0.000</td>\n",
              "      <td>5.000</td>\n",
              "      <td>5.000</td>\n",
              "      <td>13.000</td>\n",
              "      <td>17.000</td>\n",
              "      <td>6.000</td>\n",
              "      <td>20.000</td>\n",
              "      <td>27.000</td>\n",
              "      <td>5.000</td>\n",
              "      <td>22.000</td>\n",
              "      <td>0.000</td>\n",
              "      <td>0.000</td>\n",
              "      <td>0.000</td>\n",
              "      <td>2.000</td>\n",
              "      <td>97.400</td>\n",
              "      <td>7.700</td>\n",
              "      <td>0.000</td>\n",
              "      <td>0.000</td>\n",
              "      <td>314017.000</td>\n",
              "      <td>39475.000</td>\n",
              "      <td>79300.000</td>\n",
              "      <td>24667.000</td>\n",
              "      <td>nan</td>\n",
              "      <td>nan</td>\n",
              "      <td>nan</td>\n",
              "      <td>NaN</td>\n",
              "      <td>nan</td>\n",
              "      <td>nan</td>\n",
              "      <td>nan</td>\n",
              "      <td>nan</td>\n",
              "      <td>nan</td>\n",
              "      <td>nan</td>\n",
              "      <td>nan</td>\n",
              "      <td>nan</td>\n",
              "      <td>nan</td>\n",
              "      <td>N</td>\n",
              "      <td>NaN</td>\n",
              "      <td>NaN</td>\n",
              "      <td>NaN</td>\n",
              "      <td>nan</td>\n",
              "      <td>nan</td>\n",
              "      <td>NaN</td>\n",
              "      <td>NaN</td>\n",
              "      <td>NaN</td>\n",
              "      <td>nan</td>\n",
              "      <td>nan</td>\n",
              "      <td>NaN</td>\n",
              "      <td>nan</td>\n",
              "      <td>nan</td>\n",
              "      <td>nan</td>\n",
              "      <td>Cash</td>\n",
              "      <td>N</td>\n",
              "      <td>NaN</td>\n",
              "      <td>NaN</td>\n",
              "      <td>NaN</td>\n",
              "      <td>nan</td>\n",
              "      <td>nan</td>\n",
              "      <td>nan</td>\n",
              "    </tr>\n",
              "    <tr>\n",
              "      <th>2</th>\n",
              "      <td>68341763</td>\n",
              "      <td>nan</td>\n",
              "      <td>20000.000</td>\n",
              "      <td>20000.000</td>\n",
              "      <td>20000.000</td>\n",
              "      <td>60 months</td>\n",
              "      <td>10.780</td>\n",
              "      <td>432.660</td>\n",
              "      <td>B</td>\n",
              "      <td>B4</td>\n",
              "      <td>truck driver</td>\n",
              "      <td>10+ years</td>\n",
              "      <td>MORTGAGE</td>\n",
              "      <td>63000.000</td>\n",
              "      <td>Not Verified</td>\n",
              "      <td>Dec-2015</td>\n",
              "      <td>Fully Paid</td>\n",
              "      <td>n</td>\n",
              "      <td>https://lendingclub.com/browse/loanDetail.action?loan_id=68341763</td>\n",
              "      <td>NaN</td>\n",
              "      <td>home_improvement</td>\n",
              "      <td>NaN</td>\n",
              "      <td>605xx</td>\n",
              "      <td>IL</td>\n",
              "      <td>10.780</td>\n",
              "      <td>0.000</td>\n",
              "      <td>Aug-2000</td>\n",
              "      <td>695.000</td>\n",
              "      <td>699.000</td>\n",
              "      <td>0.000</td>\n",
              "      <td>nan</td>\n",
              "      <td>nan</td>\n",
              "      <td>6.000</td>\n",
              "      <td>0.000</td>\n",
              "      <td>7869.000</td>\n",
              "      <td>56.200</td>\n",
              "      <td>18.000</td>\n",
              "      <td>w</td>\n",
              "      <td>0.000</td>\n",
              "      <td>0.000</td>\n",
              "      <td>22705.924</td>\n",
              "      <td>22705.920</td>\n",
              "      <td>20000.000</td>\n",
              "      <td>2705.920</td>\n",
              "      <td>0.000</td>\n",
              "      <td>0.000</td>\n",
              "      <td>0.000</td>\n",
              "      <td>Jun-2017</td>\n",
              "      <td>15813.300</td>\n",
              "      <td>NaN</td>\n",
              "      <td>Mar-2019</td>\n",
              "      <td>704.000</td>\n",
              "      <td>700.000</td>\n",
              "      <td>0.000</td>\n",
              "      <td>nan</td>\n",
              "      <td>1.000</td>\n",
              "      <td>Joint App</td>\n",
              "      <td>71000.000</td>\n",
              "      <td>13.850</td>\n",
              "      <td>Not Verified</td>\n",
              "      <td>0.000</td>\n",
              "      <td>0.000</td>\n",
              "      <td>189699.000</td>\n",
              "      <td>0.000</td>\n",
              "      <td>1.000</td>\n",
              "      <td>0.000</td>\n",
              "      <td>4.000</td>\n",
              "      <td>19.000</td>\n",
              "      <td>10827.000</td>\n",
              "      <td>73.000</td>\n",
              "      <td>0.000</td>\n",
              "      <td>2.000</td>\n",
              "      <td>2081.000</td>\n",
              "      <td>65.000</td>\n",
              "      <td>14000.000</td>\n",
              "      <td>2.000</td>\n",
              "      <td>5.000</td>\n",
              "      <td>1.000</td>\n",
              "      <td>6.000</td>\n",
              "      <td>31617.000</td>\n",
              "      <td>2737.000</td>\n",
              "      <td>55.900</td>\n",
              "      <td>0.000</td>\n",
              "      <td>0.000</td>\n",
              "      <td>125.000</td>\n",
              "      <td>184.000</td>\n",
              "      <td>14.000</td>\n",
              "      <td>14.000</td>\n",
              "      <td>5.000</td>\n",
              "      <td>101.000</td>\n",
              "      <td>nan</td>\n",
              "      <td>10.000</td>\n",
              "      <td>nan</td>\n",
              "      <td>0.000</td>\n",
              "      <td>2.000</td>\n",
              "      <td>3.000</td>\n",
              "      <td>2.000</td>\n",
              "      <td>4.000</td>\n",
              "      <td>6.000</td>\n",
              "      <td>4.000</td>\n",
              "      <td>7.000</td>\n",
              "      <td>3.000</td>\n",
              "      <td>6.000</td>\n",
              "      <td>0.000</td>\n",
              "      <td>0.000</td>\n",
              "      <td>0.000</td>\n",
              "      <td>0.000</td>\n",
              "      <td>100.000</td>\n",
              "      <td>50.000</td>\n",
              "      <td>0.000</td>\n",
              "      <td>0.000</td>\n",
              "      <td>218418.000</td>\n",
              "      <td>18696.000</td>\n",
              "      <td>6200.000</td>\n",
              "      <td>14877.000</td>\n",
              "      <td>nan</td>\n",
              "      <td>nan</td>\n",
              "      <td>nan</td>\n",
              "      <td>NaN</td>\n",
              "      <td>nan</td>\n",
              "      <td>nan</td>\n",
              "      <td>nan</td>\n",
              "      <td>nan</td>\n",
              "      <td>nan</td>\n",
              "      <td>nan</td>\n",
              "      <td>nan</td>\n",
              "      <td>nan</td>\n",
              "      <td>nan</td>\n",
              "      <td>N</td>\n",
              "      <td>NaN</td>\n",
              "      <td>NaN</td>\n",
              "      <td>NaN</td>\n",
              "      <td>nan</td>\n",
              "      <td>nan</td>\n",
              "      <td>NaN</td>\n",
              "      <td>NaN</td>\n",
              "      <td>NaN</td>\n",
              "      <td>nan</td>\n",
              "      <td>nan</td>\n",
              "      <td>NaN</td>\n",
              "      <td>nan</td>\n",
              "      <td>nan</td>\n",
              "      <td>nan</td>\n",
              "      <td>Cash</td>\n",
              "      <td>N</td>\n",
              "      <td>NaN</td>\n",
              "      <td>NaN</td>\n",
              "      <td>NaN</td>\n",
              "      <td>nan</td>\n",
              "      <td>nan</td>\n",
              "      <td>nan</td>\n",
              "    </tr>\n",
              "    <tr>\n",
              "      <th>3</th>\n",
              "      <td>66310712</td>\n",
              "      <td>nan</td>\n",
              "      <td>35000.000</td>\n",
              "      <td>35000.000</td>\n",
              "      <td>35000.000</td>\n",
              "      <td>60 months</td>\n",
              "      <td>14.850</td>\n",
              "      <td>829.900</td>\n",
              "      <td>C</td>\n",
              "      <td>C5</td>\n",
              "      <td>Information Systems Officer</td>\n",
              "      <td>10+ years</td>\n",
              "      <td>MORTGAGE</td>\n",
              "      <td>110000.000</td>\n",
              "      <td>Source Verified</td>\n",
              "      <td>Dec-2015</td>\n",
              "      <td>Current</td>\n",
              "      <td>n</td>\n",
              "      <td>https://lendingclub.com/browse/loanDetail.action?loan_id=66310712</td>\n",
              "      <td>NaN</td>\n",
              "      <td>debt_consolidation</td>\n",
              "      <td>Debt consolidation</td>\n",
              "      <td>076xx</td>\n",
              "      <td>NJ</td>\n",
              "      <td>17.060</td>\n",
              "      <td>0.000</td>\n",
              "      <td>Sep-2008</td>\n",
              "      <td>785.000</td>\n",
              "      <td>789.000</td>\n",
              "      <td>0.000</td>\n",
              "      <td>nan</td>\n",
              "      <td>nan</td>\n",
              "      <td>13.000</td>\n",
              "      <td>0.000</td>\n",
              "      <td>7802.000</td>\n",
              "      <td>11.600</td>\n",
              "      <td>17.000</td>\n",
              "      <td>w</td>\n",
              "      <td>15897.650</td>\n",
              "      <td>15897.650</td>\n",
              "      <td>31464.010</td>\n",
              "      <td>31464.010</td>\n",
              "      <td>19102.350</td>\n",
              "      <td>12361.660</td>\n",
              "      <td>0.000</td>\n",
              "      <td>0.000</td>\n",
              "      <td>0.000</td>\n",
              "      <td>Feb-2019</td>\n",
              "      <td>829.900</td>\n",
              "      <td>Apr-2019</td>\n",
              "      <td>Mar-2019</td>\n",
              "      <td>679.000</td>\n",
              "      <td>675.000</td>\n",
              "      <td>0.000</td>\n",
              "      <td>nan</td>\n",
              "      <td>1.000</td>\n",
              "      <td>Individual</td>\n",
              "      <td>nan</td>\n",
              "      <td>nan</td>\n",
              "      <td>NaN</td>\n",
              "      <td>0.000</td>\n",
              "      <td>0.000</td>\n",
              "      <td>301500.000</td>\n",
              "      <td>1.000</td>\n",
              "      <td>1.000</td>\n",
              "      <td>0.000</td>\n",
              "      <td>1.000</td>\n",
              "      <td>23.000</td>\n",
              "      <td>12609.000</td>\n",
              "      <td>70.000</td>\n",
              "      <td>1.000</td>\n",
              "      <td>1.000</td>\n",
              "      <td>6987.000</td>\n",
              "      <td>45.000</td>\n",
              "      <td>67300.000</td>\n",
              "      <td>0.000</td>\n",
              "      <td>1.000</td>\n",
              "      <td>0.000</td>\n",
              "      <td>2.000</td>\n",
              "      <td>23192.000</td>\n",
              "      <td>54962.000</td>\n",
              "      <td>12.100</td>\n",
              "      <td>0.000</td>\n",
              "      <td>0.000</td>\n",
              "      <td>36.000</td>\n",
              "      <td>87.000</td>\n",
              "      <td>2.000</td>\n",
              "      <td>2.000</td>\n",
              "      <td>1.000</td>\n",
              "      <td>2.000</td>\n",
              "      <td>nan</td>\n",
              "      <td>nan</td>\n",
              "      <td>nan</td>\n",
              "      <td>0.000</td>\n",
              "      <td>4.000</td>\n",
              "      <td>5.000</td>\n",
              "      <td>8.000</td>\n",
              "      <td>10.000</td>\n",
              "      <td>2.000</td>\n",
              "      <td>10.000</td>\n",
              "      <td>13.000</td>\n",
              "      <td>5.000</td>\n",
              "      <td>13.000</td>\n",
              "      <td>0.000</td>\n",
              "      <td>0.000</td>\n",
              "      <td>0.000</td>\n",
              "      <td>1.000</td>\n",
              "      <td>100.000</td>\n",
              "      <td>0.000</td>\n",
              "      <td>0.000</td>\n",
              "      <td>0.000</td>\n",
              "      <td>381215.000</td>\n",
              "      <td>52226.000</td>\n",
              "      <td>62500.000</td>\n",
              "      <td>18000.000</td>\n",
              "      <td>nan</td>\n",
              "      <td>nan</td>\n",
              "      <td>nan</td>\n",
              "      <td>NaN</td>\n",
              "      <td>nan</td>\n",
              "      <td>nan</td>\n",
              "      <td>nan</td>\n",
              "      <td>nan</td>\n",
              "      <td>nan</td>\n",
              "      <td>nan</td>\n",
              "      <td>nan</td>\n",
              "      <td>nan</td>\n",
              "      <td>nan</td>\n",
              "      <td>N</td>\n",
              "      <td>NaN</td>\n",
              "      <td>NaN</td>\n",
              "      <td>NaN</td>\n",
              "      <td>nan</td>\n",
              "      <td>nan</td>\n",
              "      <td>NaN</td>\n",
              "      <td>NaN</td>\n",
              "      <td>NaN</td>\n",
              "      <td>nan</td>\n",
              "      <td>nan</td>\n",
              "      <td>NaN</td>\n",
              "      <td>nan</td>\n",
              "      <td>nan</td>\n",
              "      <td>nan</td>\n",
              "      <td>Cash</td>\n",
              "      <td>N</td>\n",
              "      <td>NaN</td>\n",
              "      <td>NaN</td>\n",
              "      <td>NaN</td>\n",
              "      <td>nan</td>\n",
              "      <td>nan</td>\n",
              "      <td>nan</td>\n",
              "    </tr>\n",
              "    <tr>\n",
              "      <th>4</th>\n",
              "      <td>68476807</td>\n",
              "      <td>nan</td>\n",
              "      <td>10400.000</td>\n",
              "      <td>10400.000</td>\n",
              "      <td>10400.000</td>\n",
              "      <td>60 months</td>\n",
              "      <td>22.450</td>\n",
              "      <td>289.910</td>\n",
              "      <td>F</td>\n",
              "      <td>F1</td>\n",
              "      <td>Contract Specialist</td>\n",
              "      <td>3 years</td>\n",
              "      <td>MORTGAGE</td>\n",
              "      <td>104433.000</td>\n",
              "      <td>Source Verified</td>\n",
              "      <td>Dec-2015</td>\n",
              "      <td>Fully Paid</td>\n",
              "      <td>n</td>\n",
              "      <td>https://lendingclub.com/browse/loanDetail.action?loan_id=68476807</td>\n",
              "      <td>NaN</td>\n",
              "      <td>major_purchase</td>\n",
              "      <td>Major purchase</td>\n",
              "      <td>174xx</td>\n",
              "      <td>PA</td>\n",
              "      <td>25.370</td>\n",
              "      <td>1.000</td>\n",
              "      <td>Jun-1998</td>\n",
              "      <td>695.000</td>\n",
              "      <td>699.000</td>\n",
              "      <td>3.000</td>\n",
              "      <td>12.000</td>\n",
              "      <td>nan</td>\n",
              "      <td>12.000</td>\n",
              "      <td>0.000</td>\n",
              "      <td>21929.000</td>\n",
              "      <td>64.500</td>\n",
              "      <td>35.000</td>\n",
              "      <td>w</td>\n",
              "      <td>0.000</td>\n",
              "      <td>0.000</td>\n",
              "      <td>11740.500</td>\n",
              "      <td>11740.500</td>\n",
              "      <td>10400.000</td>\n",
              "      <td>1340.500</td>\n",
              "      <td>0.000</td>\n",
              "      <td>0.000</td>\n",
              "      <td>0.000</td>\n",
              "      <td>Jul-2016</td>\n",
              "      <td>10128.960</td>\n",
              "      <td>NaN</td>\n",
              "      <td>Mar-2018</td>\n",
              "      <td>704.000</td>\n",
              "      <td>700.000</td>\n",
              "      <td>0.000</td>\n",
              "      <td>nan</td>\n",
              "      <td>1.000</td>\n",
              "      <td>Individual</td>\n",
              "      <td>nan</td>\n",
              "      <td>nan</td>\n",
              "      <td>NaN</td>\n",
              "      <td>0.000</td>\n",
              "      <td>0.000</td>\n",
              "      <td>331730.000</td>\n",
              "      <td>1.000</td>\n",
              "      <td>3.000</td>\n",
              "      <td>0.000</td>\n",
              "      <td>3.000</td>\n",
              "      <td>14.000</td>\n",
              "      <td>73839.000</td>\n",
              "      <td>84.000</td>\n",
              "      <td>4.000</td>\n",
              "      <td>7.000</td>\n",
              "      <td>9702.000</td>\n",
              "      <td>78.000</td>\n",
              "      <td>34000.000</td>\n",
              "      <td>2.000</td>\n",
              "      <td>1.000</td>\n",
              "      <td>3.000</td>\n",
              "      <td>10.000</td>\n",
              "      <td>27644.000</td>\n",
              "      <td>4567.000</td>\n",
              "      <td>77.500</td>\n",
              "      <td>0.000</td>\n",
              "      <td>0.000</td>\n",
              "      <td>128.000</td>\n",
              "      <td>210.000</td>\n",
              "      <td>4.000</td>\n",
              "      <td>4.000</td>\n",
              "      <td>6.000</td>\n",
              "      <td>4.000</td>\n",
              "      <td>12.000</td>\n",
              "      <td>1.000</td>\n",
              "      <td>12.000</td>\n",
              "      <td>0.000</td>\n",
              "      <td>4.000</td>\n",
              "      <td>6.000</td>\n",
              "      <td>5.000</td>\n",
              "      <td>9.000</td>\n",
              "      <td>10.000</td>\n",
              "      <td>7.000</td>\n",
              "      <td>19.000</td>\n",
              "      <td>6.000</td>\n",
              "      <td>12.000</td>\n",
              "      <td>0.000</td>\n",
              "      <td>0.000</td>\n",
              "      <td>0.000</td>\n",
              "      <td>4.000</td>\n",
              "      <td>96.600</td>\n",
              "      <td>60.000</td>\n",
              "      <td>0.000</td>\n",
              "      <td>0.000</td>\n",
              "      <td>439570.000</td>\n",
              "      <td>95768.000</td>\n",
              "      <td>20300.000</td>\n",
              "      <td>88097.000</td>\n",
              "      <td>nan</td>\n",
              "      <td>nan</td>\n",
              "      <td>nan</td>\n",
              "      <td>NaN</td>\n",
              "      <td>nan</td>\n",
              "      <td>nan</td>\n",
              "      <td>nan</td>\n",
              "      <td>nan</td>\n",
              "      <td>nan</td>\n",
              "      <td>nan</td>\n",
              "      <td>nan</td>\n",
              "      <td>nan</td>\n",
              "      <td>nan</td>\n",
              "      <td>N</td>\n",
              "      <td>NaN</td>\n",
              "      <td>NaN</td>\n",
              "      <td>NaN</td>\n",
              "      <td>nan</td>\n",
              "      <td>nan</td>\n",
              "      <td>NaN</td>\n",
              "      <td>NaN</td>\n",
              "      <td>NaN</td>\n",
              "      <td>nan</td>\n",
              "      <td>nan</td>\n",
              "      <td>NaN</td>\n",
              "      <td>nan</td>\n",
              "      <td>nan</td>\n",
              "      <td>nan</td>\n",
              "      <td>Cash</td>\n",
              "      <td>N</td>\n",
              "      <td>NaN</td>\n",
              "      <td>NaN</td>\n",
              "      <td>NaN</td>\n",
              "      <td>nan</td>\n",
              "      <td>nan</td>\n",
              "      <td>nan</td>\n",
              "    </tr>\n",
              "  </tbody>\n",
              "</table>\n",
              "</div>\n",
              "      <button class=\"colab-df-convert\" onclick=\"convertToInteractive('df-6023b8f1-8833-45e2-a77d-71fa94fda76a')\"\n",
              "              title=\"Convert this dataframe to an interactive table.\"\n",
              "              style=\"display:none;\">\n",
              "        \n",
              "  <svg xmlns=\"http://www.w3.org/2000/svg\" height=\"24px\"viewBox=\"0 0 24 24\"\n",
              "       width=\"24px\">\n",
              "    <path d=\"M0 0h24v24H0V0z\" fill=\"none\"/>\n",
              "    <path d=\"M18.56 5.44l.94 2.06.94-2.06 2.06-.94-2.06-.94-.94-2.06-.94 2.06-2.06.94zm-11 1L8.5 8.5l.94-2.06 2.06-.94-2.06-.94L8.5 2.5l-.94 2.06-2.06.94zm10 10l.94 2.06.94-2.06 2.06-.94-2.06-.94-.94-2.06-.94 2.06-2.06.94z\"/><path d=\"M17.41 7.96l-1.37-1.37c-.4-.4-.92-.59-1.43-.59-.52 0-1.04.2-1.43.59L10.3 9.45l-7.72 7.72c-.78.78-.78 2.05 0 2.83L4 21.41c.39.39.9.59 1.41.59.51 0 1.02-.2 1.41-.59l7.78-7.78 2.81-2.81c.8-.78.8-2.07 0-2.86zM5.41 20L4 18.59l7.72-7.72 1.47 1.35L5.41 20z\"/>\n",
              "  </svg>\n",
              "      </button>\n",
              "      \n",
              "  <style>\n",
              "    .colab-df-container {\n",
              "      display:flex;\n",
              "      flex-wrap:wrap;\n",
              "      gap: 12px;\n",
              "    }\n",
              "\n",
              "    .colab-df-convert {\n",
              "      background-color: #E8F0FE;\n",
              "      border: none;\n",
              "      border-radius: 50%;\n",
              "      cursor: pointer;\n",
              "      display: none;\n",
              "      fill: #1967D2;\n",
              "      height: 32px;\n",
              "      padding: 0 0 0 0;\n",
              "      width: 32px;\n",
              "    }\n",
              "\n",
              "    .colab-df-convert:hover {\n",
              "      background-color: #E2EBFA;\n",
              "      box-shadow: 0px 1px 2px rgba(60, 64, 67, 0.3), 0px 1px 3px 1px rgba(60, 64, 67, 0.15);\n",
              "      fill: #174EA6;\n",
              "    }\n",
              "\n",
              "    [theme=dark] .colab-df-convert {\n",
              "      background-color: #3B4455;\n",
              "      fill: #D2E3FC;\n",
              "    }\n",
              "\n",
              "    [theme=dark] .colab-df-convert:hover {\n",
              "      background-color: #434B5C;\n",
              "      box-shadow: 0px 1px 3px 1px rgba(0, 0, 0, 0.15);\n",
              "      filter: drop-shadow(0px 1px 2px rgba(0, 0, 0, 0.3));\n",
              "      fill: #FFFFFF;\n",
              "    }\n",
              "  </style>\n",
              "\n",
              "      <script>\n",
              "        const buttonEl =\n",
              "          document.querySelector('#df-6023b8f1-8833-45e2-a77d-71fa94fda76a button.colab-df-convert');\n",
              "        buttonEl.style.display =\n",
              "          google.colab.kernel.accessAllowed ? 'block' : 'none';\n",
              "\n",
              "        async function convertToInteractive(key) {\n",
              "          const element = document.querySelector('#df-6023b8f1-8833-45e2-a77d-71fa94fda76a');\n",
              "          const dataTable =\n",
              "            await google.colab.kernel.invokeFunction('convertToInteractive',\n",
              "                                                     [key], {});\n",
              "          if (!dataTable) return;\n",
              "\n",
              "          const docLinkHtml = 'Like what you see? Visit the ' +\n",
              "            '<a target=\"_blank\" href=https://colab.research.google.com/notebooks/data_table.ipynb>data table notebook</a>'\n",
              "            + ' to learn more about interactive tables.';\n",
              "          element.innerHTML = '';\n",
              "          dataTable['output_type'] = 'display_data';\n",
              "          await google.colab.output.renderOutput(dataTable, element);\n",
              "          const docLink = document.createElement('div');\n",
              "          docLink.innerHTML = docLinkHtml;\n",
              "          element.appendChild(docLink);\n",
              "        }\n",
              "      </script>\n",
              "    </div>\n",
              "  </div>\n",
              "  "
            ],
            "text/plain": [
              "         id  member_id  loan_amnt  funded_amnt  funded_amnt_inv        term  \\\n",
              "0  68407277        nan   3600.000     3600.000         3600.000   36 months   \n",
              "1  68355089        nan  24700.000    24700.000        24700.000   36 months   \n",
              "2  68341763        nan  20000.000    20000.000        20000.000   60 months   \n",
              "3  66310712        nan  35000.000    35000.000        35000.000   60 months   \n",
              "4  68476807        nan  10400.000    10400.000        10400.000   60 months   \n",
              "\n",
              "   int_rate  installment grade sub_grade                    emp_title  \\\n",
              "0    13.990      123.030     C        C4                      leadman   \n",
              "1    11.990      820.280     C        C1                     Engineer   \n",
              "2    10.780      432.660     B        B4                 truck driver   \n",
              "3    14.850      829.900     C        C5  Information Systems Officer   \n",
              "4    22.450      289.910     F        F1          Contract Specialist   \n",
              "\n",
              "  emp_length home_ownership  annual_inc verification_status   issue_d  \\\n",
              "0  10+ years       MORTGAGE   55000.000        Not Verified  Dec-2015   \n",
              "1  10+ years       MORTGAGE   65000.000        Not Verified  Dec-2015   \n",
              "2  10+ years       MORTGAGE   63000.000        Not Verified  Dec-2015   \n",
              "3  10+ years       MORTGAGE  110000.000     Source Verified  Dec-2015   \n",
              "4    3 years       MORTGAGE  104433.000     Source Verified  Dec-2015   \n",
              "\n",
              "  loan_status pymnt_plan  \\\n",
              "0  Fully Paid          n   \n",
              "1  Fully Paid          n   \n",
              "2  Fully Paid          n   \n",
              "3     Current          n   \n",
              "4  Fully Paid          n   \n",
              "\n",
              "                                                                 url desc  \\\n",
              "0  https://lendingclub.com/browse/loanDetail.action?loan_id=68407277  NaN   \n",
              "1  https://lendingclub.com/browse/loanDetail.action?loan_id=68355089  NaN   \n",
              "2  https://lendingclub.com/browse/loanDetail.action?loan_id=68341763  NaN   \n",
              "3  https://lendingclub.com/browse/loanDetail.action?loan_id=66310712  NaN   \n",
              "4  https://lendingclub.com/browse/loanDetail.action?loan_id=68476807  NaN   \n",
              "\n",
              "              purpose               title zip_code addr_state    dti  \\\n",
              "0  debt_consolidation  Debt consolidation    190xx         PA  5.910   \n",
              "1      small_business            Business    577xx         SD 16.060   \n",
              "2    home_improvement                 NaN    605xx         IL 10.780   \n",
              "3  debt_consolidation  Debt consolidation    076xx         NJ 17.060   \n",
              "4      major_purchase      Major purchase    174xx         PA 25.370   \n",
              "\n",
              "   delinq_2yrs earliest_cr_line  fico_range_low  fico_range_high  \\\n",
              "0        0.000         Aug-2003         675.000          679.000   \n",
              "1        1.000         Dec-1999         715.000          719.000   \n",
              "2        0.000         Aug-2000         695.000          699.000   \n",
              "3        0.000         Sep-2008         785.000          789.000   \n",
              "4        1.000         Jun-1998         695.000          699.000   \n",
              "\n",
              "   inq_last_6mths  mths_since_last_delinq  mths_since_last_record  open_acc  \\\n",
              "0           1.000                  30.000                     nan     7.000   \n",
              "1           4.000                   6.000                     nan    22.000   \n",
              "2           0.000                     nan                     nan     6.000   \n",
              "3           0.000                     nan                     nan    13.000   \n",
              "4           3.000                  12.000                     nan    12.000   \n",
              "\n",
              "   pub_rec  revol_bal  revol_util  total_acc initial_list_status  out_prncp  \\\n",
              "0    0.000   2765.000      29.700     13.000                   w      0.000   \n",
              "1    0.000  21470.000      19.200     38.000                   w      0.000   \n",
              "2    0.000   7869.000      56.200     18.000                   w      0.000   \n",
              "3    0.000   7802.000      11.600     17.000                   w  15897.650   \n",
              "4    0.000  21929.000      64.500     35.000                   w      0.000   \n",
              "\n",
              "   out_prncp_inv  total_pymnt  total_pymnt_inv  total_rec_prncp  \\\n",
              "0          0.000     4421.724         4421.720         3600.000   \n",
              "1          0.000    25679.660        25679.660        24700.000   \n",
              "2          0.000    22705.924        22705.920        20000.000   \n",
              "3      15897.650    31464.010        31464.010        19102.350   \n",
              "4          0.000    11740.500        11740.500        10400.000   \n",
              "\n",
              "   total_rec_int  total_rec_late_fee  recoveries  collection_recovery_fee  \\\n",
              "0        821.720               0.000       0.000                    0.000   \n",
              "1        979.660               0.000       0.000                    0.000   \n",
              "2       2705.920               0.000       0.000                    0.000   \n",
              "3      12361.660               0.000       0.000                    0.000   \n",
              "4       1340.500               0.000       0.000                    0.000   \n",
              "\n",
              "  last_pymnt_d  last_pymnt_amnt next_pymnt_d last_credit_pull_d  \\\n",
              "0     Jan-2019          122.670          NaN           Mar-2019   \n",
              "1     Jun-2016          926.350          NaN           Mar-2019   \n",
              "2     Jun-2017        15813.300          NaN           Mar-2019   \n",
              "3     Feb-2019          829.900     Apr-2019           Mar-2019   \n",
              "4     Jul-2016        10128.960          NaN           Mar-2018   \n",
              "\n",
              "   last_fico_range_high  last_fico_range_low  collections_12_mths_ex_med  \\\n",
              "0               564.000              560.000                       0.000   \n",
              "1               699.000              695.000                       0.000   \n",
              "2               704.000              700.000                       0.000   \n",
              "3               679.000              675.000                       0.000   \n",
              "4               704.000              700.000                       0.000   \n",
              "\n",
              "   mths_since_last_major_derog  policy_code application_type  \\\n",
              "0                       30.000        1.000       Individual   \n",
              "1                          nan        1.000       Individual   \n",
              "2                          nan        1.000        Joint App   \n",
              "3                          nan        1.000       Individual   \n",
              "4                          nan        1.000       Individual   \n",
              "\n",
              "   annual_inc_joint  dti_joint verification_status_joint  acc_now_delinq  \\\n",
              "0               nan        nan                       NaN           0.000   \n",
              "1               nan        nan                       NaN           0.000   \n",
              "2         71000.000     13.850              Not Verified           0.000   \n",
              "3               nan        nan                       NaN           0.000   \n",
              "4               nan        nan                       NaN           0.000   \n",
              "\n",
              "   tot_coll_amt  tot_cur_bal  open_acc_6m  open_act_il  open_il_12m  \\\n",
              "0       722.000   144904.000        2.000        2.000        0.000   \n",
              "1         0.000   204396.000        1.000        1.000        0.000   \n",
              "2         0.000   189699.000        0.000        1.000        0.000   \n",
              "3         0.000   301500.000        1.000        1.000        0.000   \n",
              "4         0.000   331730.000        1.000        3.000        0.000   \n",
              "\n",
              "   open_il_24m  mths_since_rcnt_il  total_bal_il  il_util  open_rv_12m  \\\n",
              "0        1.000              21.000      4981.000   36.000        3.000   \n",
              "1        1.000              19.000     18005.000   73.000        2.000   \n",
              "2        4.000              19.000     10827.000   73.000        0.000   \n",
              "3        1.000              23.000     12609.000   70.000        1.000   \n",
              "4        3.000              14.000     73839.000   84.000        4.000   \n",
              "\n",
              "   open_rv_24m  max_bal_bc  all_util  total_rev_hi_lim  inq_fi  total_cu_tl  \\\n",
              "0        3.000     722.000    34.000          9300.000   3.000        1.000   \n",
              "1        3.000    6472.000    29.000        111800.000   0.000        0.000   \n",
              "2        2.000    2081.000    65.000         14000.000   2.000        5.000   \n",
              "3        1.000    6987.000    45.000         67300.000   0.000        1.000   \n",
              "4        7.000    9702.000    78.000         34000.000   2.000        1.000   \n",
              "\n",
              "   inq_last_12m  acc_open_past_24mths  avg_cur_bal  bc_open_to_buy  bc_util  \\\n",
              "0         4.000                 4.000    20701.000        1506.000   37.200   \n",
              "1         6.000                 4.000     9733.000       57830.000   27.100   \n",
              "2         1.000                 6.000    31617.000        2737.000   55.900   \n",
              "3         0.000                 2.000    23192.000       54962.000   12.100   \n",
              "4         3.000                10.000    27644.000        4567.000   77.500   \n",
              "\n",
              "   chargeoff_within_12_mths  delinq_amnt  mo_sin_old_il_acct  \\\n",
              "0                     0.000        0.000             148.000   \n",
              "1                     0.000        0.000             113.000   \n",
              "2                     0.000        0.000             125.000   \n",
              "3                     0.000        0.000              36.000   \n",
              "4                     0.000        0.000             128.000   \n",
              "\n",
              "   mo_sin_old_rev_tl_op  mo_sin_rcnt_rev_tl_op  mo_sin_rcnt_tl  mort_acc  \\\n",
              "0               128.000                  3.000           3.000     1.000   \n",
              "1               192.000                  2.000           2.000     4.000   \n",
              "2               184.000                 14.000          14.000     5.000   \n",
              "3                87.000                  2.000           2.000     1.000   \n",
              "4               210.000                  4.000           4.000     6.000   \n",
              "\n",
              "   mths_since_recent_bc  mths_since_recent_bc_dlq  mths_since_recent_inq  \\\n",
              "0                 4.000                    69.000                  4.000   \n",
              "1                 2.000                       nan                  0.000   \n",
              "2               101.000                       nan                 10.000   \n",
              "3                 2.000                       nan                    nan   \n",
              "4                 4.000                    12.000                  1.000   \n",
              "\n",
              "   mths_since_recent_revol_delinq  num_accts_ever_120_pd  num_actv_bc_tl  \\\n",
              "0                          69.000                  2.000           2.000   \n",
              "1                           6.000                  0.000           5.000   \n",
              "2                             nan                  0.000           2.000   \n",
              "3                             nan                  0.000           4.000   \n",
              "4                          12.000                  0.000           4.000   \n",
              "\n",
              "   num_actv_rev_tl  num_bc_sats  num_bc_tl  num_il_tl  num_op_rev_tl  \\\n",
              "0            4.000        2.000      5.000      3.000          4.000   \n",
              "1            5.000       13.000     17.000      6.000         20.000   \n",
              "2            3.000        2.000      4.000      6.000          4.000   \n",
              "3            5.000        8.000     10.000      2.000         10.000   \n",
              "4            6.000        5.000      9.000     10.000          7.000   \n",
              "\n",
              "   num_rev_accts  num_rev_tl_bal_gt_0  num_sats  num_tl_120dpd_2m  \\\n",
              "0          9.000                4.000     7.000             0.000   \n",
              "1         27.000                5.000    22.000             0.000   \n",
              "2          7.000                3.000     6.000             0.000   \n",
              "3         13.000                5.000    13.000             0.000   \n",
              "4         19.000                6.000    12.000             0.000   \n",
              "\n",
              "   num_tl_30dpd  num_tl_90g_dpd_24m  num_tl_op_past_12m  pct_tl_nvr_dlq  \\\n",
              "0         0.000               0.000               3.000          76.900   \n",
              "1         0.000               0.000               2.000          97.400   \n",
              "2         0.000               0.000               0.000         100.000   \n",
              "3         0.000               0.000               1.000         100.000   \n",
              "4         0.000               0.000               4.000          96.600   \n",
              "\n",
              "   percent_bc_gt_75  pub_rec_bankruptcies  tax_liens  tot_hi_cred_lim  \\\n",
              "0             0.000                 0.000      0.000       178050.000   \n",
              "1             7.700                 0.000      0.000       314017.000   \n",
              "2            50.000                 0.000      0.000       218418.000   \n",
              "3             0.000                 0.000      0.000       381215.000   \n",
              "4            60.000                 0.000      0.000       439570.000   \n",
              "\n",
              "   total_bal_ex_mort  total_bc_limit  total_il_high_credit_limit  \\\n",
              "0           7746.000        2400.000                   13734.000   \n",
              "1          39475.000       79300.000                   24667.000   \n",
              "2          18696.000        6200.000                   14877.000   \n",
              "3          52226.000       62500.000                   18000.000   \n",
              "4          95768.000       20300.000                   88097.000   \n",
              "\n",
              "   revol_bal_joint  sec_app_fico_range_low  sec_app_fico_range_high  \\\n",
              "0              nan                     nan                      nan   \n",
              "1              nan                     nan                      nan   \n",
              "2              nan                     nan                      nan   \n",
              "3              nan                     nan                      nan   \n",
              "4              nan                     nan                      nan   \n",
              "\n",
              "  sec_app_earliest_cr_line  sec_app_inq_last_6mths  sec_app_mort_acc  \\\n",
              "0                      NaN                     nan               nan   \n",
              "1                      NaN                     nan               nan   \n",
              "2                      NaN                     nan               nan   \n",
              "3                      NaN                     nan               nan   \n",
              "4                      NaN                     nan               nan   \n",
              "\n",
              "   sec_app_open_acc  sec_app_revol_util  sec_app_open_act_il  \\\n",
              "0               nan                 nan                  nan   \n",
              "1               nan                 nan                  nan   \n",
              "2               nan                 nan                  nan   \n",
              "3               nan                 nan                  nan   \n",
              "4               nan                 nan                  nan   \n",
              "\n",
              "   sec_app_num_rev_accts  sec_app_chargeoff_within_12_mths  \\\n",
              "0                    nan                               nan   \n",
              "1                    nan                               nan   \n",
              "2                    nan                               nan   \n",
              "3                    nan                               nan   \n",
              "4                    nan                               nan   \n",
              "\n",
              "   sec_app_collections_12_mths_ex_med  sec_app_mths_since_last_major_derog  \\\n",
              "0                                 nan                                  nan   \n",
              "1                                 nan                                  nan   \n",
              "2                                 nan                                  nan   \n",
              "3                                 nan                                  nan   \n",
              "4                                 nan                                  nan   \n",
              "\n",
              "  hardship_flag hardship_type hardship_reason hardship_status  deferral_term  \\\n",
              "0             N           NaN             NaN             NaN            nan   \n",
              "1             N           NaN             NaN             NaN            nan   \n",
              "2             N           NaN             NaN             NaN            nan   \n",
              "3             N           NaN             NaN             NaN            nan   \n",
              "4             N           NaN             NaN             NaN            nan   \n",
              "\n",
              "   hardship_amount hardship_start_date hardship_end_date  \\\n",
              "0              nan                 NaN               NaN   \n",
              "1              nan                 NaN               NaN   \n",
              "2              nan                 NaN               NaN   \n",
              "3              nan                 NaN               NaN   \n",
              "4              nan                 NaN               NaN   \n",
              "\n",
              "  payment_plan_start_date  hardship_length  hardship_dpd hardship_loan_status  \\\n",
              "0                     NaN              nan           nan                  NaN   \n",
              "1                     NaN              nan           nan                  NaN   \n",
              "2                     NaN              nan           nan                  NaN   \n",
              "3                     NaN              nan           nan                  NaN   \n",
              "4                     NaN              nan           nan                  NaN   \n",
              "\n",
              "   orig_projected_additional_accrued_interest  hardship_payoff_balance_amount  \\\n",
              "0                                         nan                             nan   \n",
              "1                                         nan                             nan   \n",
              "2                                         nan                             nan   \n",
              "3                                         nan                             nan   \n",
              "4                                         nan                             nan   \n",
              "\n",
              "   hardship_last_payment_amount disbursement_method debt_settlement_flag  \\\n",
              "0                           nan                Cash                    N   \n",
              "1                           nan                Cash                    N   \n",
              "2                           nan                Cash                    N   \n",
              "3                           nan                Cash                    N   \n",
              "4                           nan                Cash                    N   \n",
              "\n",
              "  debt_settlement_flag_date settlement_status settlement_date  \\\n",
              "0                       NaN               NaN             NaN   \n",
              "1                       NaN               NaN             NaN   \n",
              "2                       NaN               NaN             NaN   \n",
              "3                       NaN               NaN             NaN   \n",
              "4                       NaN               NaN             NaN   \n",
              "\n",
              "   settlement_amount  settlement_percentage  settlement_term  \n",
              "0                nan                    nan              nan  \n",
              "1                nan                    nan              nan  \n",
              "2                nan                    nan              nan  \n",
              "3                nan                    nan              nan  \n",
              "4                nan                    nan              nan  "
            ]
          },
          "metadata": {},
          "execution_count": 10
        }
      ]
    },
    {
      "cell_type": "code",
      "source": [
        "df.info(verbose=True, null_counts=True)"
      ],
      "metadata": {
        "colab": {
          "base_uri": "https://localhost:8080/"
        },
        "id": "-AivWt8vwZbQ",
        "outputId": "ecf8cc9b-5782-42b8-a2a9-3ef053f46f3b"
      },
      "execution_count": 11,
      "outputs": [
        {
          "output_type": "stream",
          "name": "stdout",
          "text": [
            "<class 'pandas.core.frame.DataFrame'>\n",
            "RangeIndex: 2260701 entries, 0 to 2260700\n",
            "Data columns (total 151 columns):\n",
            " #   Column                                      Non-Null Count    Dtype  \n",
            "---  ------                                      --------------    -----  \n",
            " 0   id                                          2260701 non-null  object \n",
            " 1   member_id                                   0 non-null        float64\n",
            " 2   loan_amnt                                   2260668 non-null  float64\n",
            " 3   funded_amnt                                 2260668 non-null  float64\n",
            " 4   funded_amnt_inv                             2260668 non-null  float64\n",
            " 5   term                                        2260668 non-null  object \n",
            " 6   int_rate                                    2260668 non-null  float64\n",
            " 7   installment                                 2260668 non-null  float64\n",
            " 8   grade                                       2260668 non-null  object \n",
            " 9   sub_grade                                   2260668 non-null  object \n",
            " 10  emp_title                                   2093699 non-null  object \n",
            " 11  emp_length                                  2113761 non-null  object \n",
            " 12  home_ownership                              2260668 non-null  object \n",
            " 13  annual_inc                                  2260664 non-null  float64\n",
            " 14  verification_status                         2260668 non-null  object \n",
            " 15  issue_d                                     2260668 non-null  object \n",
            " 16  loan_status                                 2260668 non-null  object \n",
            " 17  pymnt_plan                                  2260668 non-null  object \n",
            " 18  url                                         2260668 non-null  object \n",
            " 19  desc                                        126067 non-null   object \n",
            " 20  purpose                                     2260668 non-null  object \n",
            " 21  title                                       2237343 non-null  object \n",
            " 22  zip_code                                    2260667 non-null  object \n",
            " 23  addr_state                                  2260668 non-null  object \n",
            " 24  dti                                         2258957 non-null  float64\n",
            " 25  delinq_2yrs                                 2260639 non-null  float64\n",
            " 26  earliest_cr_line                            2260639 non-null  object \n",
            " 27  fico_range_low                              2260668 non-null  float64\n",
            " 28  fico_range_high                             2260668 non-null  float64\n",
            " 29  inq_last_6mths                              2260638 non-null  float64\n",
            " 30  mths_since_last_delinq                      1102166 non-null  float64\n",
            " 31  mths_since_last_record                      359156 non-null   float64\n",
            " 32  open_acc                                    2260639 non-null  float64\n",
            " 33  pub_rec                                     2260639 non-null  float64\n",
            " 34  revol_bal                                   2260668 non-null  float64\n",
            " 35  revol_util                                  2258866 non-null  float64\n",
            " 36  total_acc                                   2260639 non-null  float64\n",
            " 37  initial_list_status                         2260668 non-null  object \n",
            " 38  out_prncp                                   2260668 non-null  float64\n",
            " 39  out_prncp_inv                               2260668 non-null  float64\n",
            " 40  total_pymnt                                 2260668 non-null  float64\n",
            " 41  total_pymnt_inv                             2260668 non-null  float64\n",
            " 42  total_rec_prncp                             2260668 non-null  float64\n",
            " 43  total_rec_int                               2260668 non-null  float64\n",
            " 44  total_rec_late_fee                          2260668 non-null  float64\n",
            " 45  recoveries                                  2260668 non-null  float64\n",
            " 46  collection_recovery_fee                     2260668 non-null  float64\n",
            " 47  last_pymnt_d                                2258241 non-null  object \n",
            " 48  last_pymnt_amnt                             2260668 non-null  float64\n",
            " 49  next_pymnt_d                                915358 non-null   object \n",
            " 50  last_credit_pull_d                          2260596 non-null  object \n",
            " 51  last_fico_range_high                        2260668 non-null  float64\n",
            " 52  last_fico_range_low                         2260668 non-null  float64\n",
            " 53  collections_12_mths_ex_med                  2260523 non-null  float64\n",
            " 54  mths_since_last_major_derog                 580775 non-null   float64\n",
            " 55  policy_code                                 2260668 non-null  float64\n",
            " 56  application_type                            2260668 non-null  object \n",
            " 57  annual_inc_joint                            120710 non-null   float64\n",
            " 58  dti_joint                                   120706 non-null   float64\n",
            " 59  verification_status_joint                   115730 non-null   object \n",
            " 60  acc_now_delinq                              2260639 non-null  float64\n",
            " 61  tot_coll_amt                                2190392 non-null  float64\n",
            " 62  tot_cur_bal                                 2190392 non-null  float64\n",
            " 63  open_acc_6m                                 1394538 non-null  float64\n",
            " 64  open_act_il                                 1394539 non-null  float64\n",
            " 65  open_il_12m                                 1394539 non-null  float64\n",
            " 66  open_il_24m                                 1394539 non-null  float64\n",
            " 67  mths_since_rcnt_il                          1350744 non-null  float64\n",
            " 68  total_bal_il                                1394539 non-null  float64\n",
            " 69  il_util                                     1191818 non-null  float64\n",
            " 70  open_rv_12m                                 1394539 non-null  float64\n",
            " 71  open_rv_24m                                 1394539 non-null  float64\n",
            " 72  max_bal_bc                                  1394539 non-null  float64\n",
            " 73  all_util                                    1394320 non-null  float64\n",
            " 74  total_rev_hi_lim                            2190392 non-null  float64\n",
            " 75  inq_fi                                      1394539 non-null  float64\n",
            " 76  total_cu_tl                                 1394538 non-null  float64\n",
            " 77  inq_last_12m                                1394538 non-null  float64\n",
            " 78  acc_open_past_24mths                        2210638 non-null  float64\n",
            " 79  avg_cur_bal                                 2190322 non-null  float64\n",
            " 80  bc_open_to_buy                              2185733 non-null  float64\n",
            " 81  bc_util                                     2184597 non-null  float64\n",
            " 82  chargeoff_within_12_mths                    2260523 non-null  float64\n",
            " 83  delinq_amnt                                 2260639 non-null  float64\n",
            " 84  mo_sin_old_il_acct                          2121597 non-null  float64\n",
            " 85  mo_sin_old_rev_tl_op                        2190391 non-null  float64\n",
            " 86  mo_sin_rcnt_rev_tl_op                       2190391 non-null  float64\n",
            " 87  mo_sin_rcnt_tl                              2190392 non-null  float64\n",
            " 88  mort_acc                                    2210638 non-null  float64\n",
            " 89  mths_since_recent_bc                        2187256 non-null  float64\n",
            " 90  mths_since_recent_bc_dlq                    519701 non-null   float64\n",
            " 91  mths_since_recent_inq                       1965233 non-null  float64\n",
            " 92  mths_since_recent_revol_delinq              740359 non-null   float64\n",
            " 93  num_accts_ever_120_pd                       2190392 non-null  float64\n",
            " 94  num_actv_bc_tl                              2190392 non-null  float64\n",
            " 95  num_actv_rev_tl                             2190392 non-null  float64\n",
            " 96  num_bc_sats                                 2202078 non-null  float64\n",
            " 97  num_bc_tl                                   2190392 non-null  float64\n",
            " 98  num_il_tl                                   2190392 non-null  float64\n",
            " 99  num_op_rev_tl                               2190392 non-null  float64\n",
            " 100 num_rev_accts                               2190391 non-null  float64\n",
            " 101 num_rev_tl_bal_gt_0                         2190392 non-null  float64\n",
            " 102 num_sats                                    2202078 non-null  float64\n",
            " 103 num_tl_120dpd_2m                            2107011 non-null  float64\n",
            " 104 num_tl_30dpd                                2190392 non-null  float64\n",
            " 105 num_tl_90g_dpd_24m                          2190392 non-null  float64\n",
            " 106 num_tl_op_past_12m                          2190392 non-null  float64\n",
            " 107 pct_tl_nvr_dlq                              2190237 non-null  float64\n",
            " 108 percent_bc_gt_75                            2185289 non-null  float64\n",
            " 109 pub_rec_bankruptcies                        2259303 non-null  float64\n",
            " 110 tax_liens                                   2260563 non-null  float64\n",
            " 111 tot_hi_cred_lim                             2190392 non-null  float64\n",
            " 112 total_bal_ex_mort                           2210638 non-null  float64\n",
            " 113 total_bc_limit                              2210638 non-null  float64\n",
            " 114 total_il_high_credit_limit                  2190392 non-null  float64\n",
            " 115 revol_bal_joint                             108020 non-null   float64\n",
            " 116 sec_app_fico_range_low                      108021 non-null   float64\n",
            " 117 sec_app_fico_range_high                     108021 non-null   float64\n",
            " 118 sec_app_earliest_cr_line                    108021 non-null   object \n",
            " 119 sec_app_inq_last_6mths                      108021 non-null   float64\n",
            " 120 sec_app_mort_acc                            108021 non-null   float64\n",
            " 121 sec_app_open_acc                            108021 non-null   float64\n",
            " 122 sec_app_revol_util                          106184 non-null   float64\n",
            " 123 sec_app_open_act_il                         108021 non-null   float64\n",
            " 124 sec_app_num_rev_accts                       108021 non-null   float64\n",
            " 125 sec_app_chargeoff_within_12_mths            108021 non-null   float64\n",
            " 126 sec_app_collections_12_mths_ex_med          108021 non-null   float64\n",
            " 127 sec_app_mths_since_last_major_derog         35942 non-null    float64\n",
            " 128 hardship_flag                               2260668 non-null  object \n",
            " 129 hardship_type                               10917 non-null    object \n",
            " 130 hardship_reason                             10917 non-null    object \n",
            " 131 hardship_status                             10917 non-null    object \n",
            " 132 deferral_term                               10917 non-null    float64\n",
            " 133 hardship_amount                             10917 non-null    float64\n",
            " 134 hardship_start_date                         10917 non-null    object \n",
            " 135 hardship_end_date                           10917 non-null    object \n",
            " 136 payment_plan_start_date                     10917 non-null    object \n",
            " 137 hardship_length                             10917 non-null    float64\n",
            " 138 hardship_dpd                                10917 non-null    float64\n",
            " 139 hardship_loan_status                        10917 non-null    object \n",
            " 140 orig_projected_additional_accrued_interest  8651 non-null     float64\n",
            " 141 hardship_payoff_balance_amount              10917 non-null    float64\n",
            " 142 hardship_last_payment_amount                10917 non-null    float64\n",
            " 143 disbursement_method                         2260668 non-null  object \n",
            " 144 debt_settlement_flag                        2260668 non-null  object \n",
            " 145 debt_settlement_flag_date                   34246 non-null    object \n",
            " 146 settlement_status                           34246 non-null    object \n",
            " 147 settlement_date                             34246 non-null    object \n",
            " 148 settlement_amount                           34246 non-null    float64\n",
            " 149 settlement_percentage                       34246 non-null    float64\n",
            " 150 settlement_term                             34246 non-null    float64\n",
            "dtypes: float64(113), object(38)\n",
            "memory usage: 2.5+ GB\n"
          ]
        }
      ]
    },
    {
      "cell_type": "markdown",
      "source": [
        "# Part 2: Feature Space\n",
        "Reducing feature space can be done before splitting the data, because it will remove the whole columns. It won't cause any info leak.\n",
        "\n",
        "This part includes:\n",
        "\n",
        "*   Dropping columns with unique values\n",
        "*   Dropping columns that give duplicate infomation\n",
        "\n",
        "But before that, let's define the target feature first:"
      ],
      "metadata": {
        "id": "d6ncB1k4CaW6"
      }
    },
    {
      "cell_type": "code",
      "source": [
        "df['loan_status'].value_counts(dropna=False)"
      ],
      "metadata": {
        "colab": {
          "base_uri": "https://localhost:8080/"
        },
        "id": "pdHPgNOebuCo",
        "outputId": "8cb9690c-c312-40f7-c02a-1a321b0c6956"
      },
      "execution_count": 12,
      "outputs": [
        {
          "output_type": "execute_result",
          "data": {
            "text/plain": [
              "Fully Paid                                             1076751\n",
              "Current                                                 878317\n",
              "Charged Off                                             268559\n",
              "Late (31-120 days)                                       21467\n",
              "In Grace Period                                           8436\n",
              "Late (16-30 days)                                         4349\n",
              "Does not meet the credit policy. Status:Fully Paid        1988\n",
              "Does not meet the credit policy. Status:Charged Off        761\n",
              "Default                                                     40\n",
              "NaN                                                         33\n",
              "Name: loan_status, dtype: int64"
            ]
          },
          "metadata": {},
          "execution_count": 12
        }
      ]
    },
    {
      "cell_type": "markdown",
      "source": [
        "Keep only 'Fully Paid' and 'Charged Off':\n"
      ],
      "metadata": {
        "id": "zdKYqzPWrwVy"
      }
    },
    {
      "cell_type": "code",
      "source": [
        "df = df.loc[df['loan_status'].isin(['Fully Paid', 'Charged Off'])]"
      ],
      "metadata": {
        "id": "fNYSuy4ErjCJ"
      },
      "execution_count": 13,
      "outputs": []
    },
    {
      "cell_type": "code",
      "source": [
        "# status counts as percentage\n",
        "df['loan_status'].value_counts(normalize=True)"
      ],
      "metadata": {
        "colab": {
          "base_uri": "https://localhost:8080/"
        },
        "id": "o_L1LXHmrmHJ",
        "outputId": "b3ed705c-77ed-4a72-b4f3-196ed3b79cc2"
      },
      "execution_count": 14,
      "outputs": [
        {
          "output_type": "execute_result",
          "data": {
            "text/plain": [
              "Fully Paid    0.800\n",
              "Charged Off   0.200\n",
              "Name: loan_status, dtype: float64"
            ]
          },
          "metadata": {},
          "execution_count": 14
        }
      ]
    },
    {
      "cell_type": "markdown",
      "source": [
        "**Dropping columns with unique values**"
      ],
      "metadata": {
        "id": "M2eRiVIeYMIX"
      }
    },
    {
      "cell_type": "code",
      "source": [
        "df.nunique(dropna=False).sort_values()"
      ],
      "metadata": {
        "id": "bDkoyndzAAwi",
        "colab": {
          "base_uri": "https://localhost:8080/"
        },
        "outputId": "d76e3051-51a6-4828-a25f-1bbf73fee810"
      },
      "execution_count": 15,
      "outputs": [
        {
          "output_type": "execute_result",
          "data": {
            "text/plain": [
              "next_pymnt_d                                        1\n",
              "member_id                                           1\n",
              "out_prncp                                           1\n",
              "out_prncp_inv                                       1\n",
              "pymnt_plan                                          1\n",
              "hardship_flag                                       1\n",
              "policy_code                                         1\n",
              "deferral_term                                       2\n",
              "loan_status                                         2\n",
              "hardship_type                                       2\n",
              "initial_list_status                                 2\n",
              "application_type                                    2\n",
              "term                                                2\n",
              "disbursement_method                                 2\n",
              "debt_settlement_flag                                2\n",
              "hardship_length                                     2\n",
              "hardship_status                                     3\n",
              "verification_status                                 3\n",
              "settlement_status                                   4\n",
              "verification_status_joint                           4\n",
              "home_ownership                                      6\n",
              "num_tl_30dpd                                        6\n",
              "hardship_loan_status                                6\n",
              "num_tl_120dpd_2m                                    7\n",
              "grade                                               7\n",
              "sec_app_inq_last_6mths                              8\n",
              "acc_now_delinq                                      8\n",
              "inq_last_6mths                                     10\n",
              "hardship_reason                                    10\n",
              "chargeoff_within_12_mths                           12\n",
              "emp_length                                         12\n",
              "pub_rec_bankruptcies                               13\n",
              "sec_app_collections_12_mths_ex_med                 13\n",
              "purpose                                            14\n",
              "sec_app_chargeoff_within_12_mths                   16\n",
              "collections_12_mths_ex_med                         16\n",
              "sec_app_mort_acc                                   19\n",
              "open_acc_6m                                        20\n",
              "open_il_12m                                        20\n",
              "hardship_end_date                                  26\n",
              "payment_plan_start_date                            26\n",
              "hardship_start_date                                27\n",
              "mths_since_recent_inq                              27\n",
              "open_rv_12m                                        28\n",
              "num_tl_90g_dpd_24m                                 30\n",
              "inq_fi                                             31\n",
              "delinq_2yrs                                        31\n",
              "open_il_24m                                        32\n",
              "num_tl_op_past_12m                                 33\n",
              "num_actv_bc_tl                                     35\n",
              "sub_grade                                          35\n",
              "hardship_dpd                                       35\n",
              "sec_app_open_act_il                                36\n",
              "tax_liens                                          37\n",
              "pub_rec                                            37\n",
              "mort_acc                                           40\n",
              "fico_range_low                                     40\n",
              "num_accts_ever_120_pd                              40\n",
              "fico_range_high                                    40\n",
              "settlement_term                                    41\n",
              "inq_last_12m                                       44\n",
              "num_rev_tl_bal_gt_0                                47\n",
              "open_rv_24m                                        48\n",
              "addr_state                                         51\n",
              "open_act_il                                        51\n",
              "num_actv_rev_tl                                    53\n",
              "num_bc_sats                                        53\n",
              "total_cu_tl                                        54\n",
              "sec_app_open_acc                                   55\n",
              "acc_open_past_24mths                               56\n",
              "sec_app_fico_range_low                             61\n",
              "sec_app_fico_range_high                            61\n",
              "num_bc_tl                                          69\n",
              "sec_app_num_rev_accts                              69\n",
              "last_fico_range_low                                71\n",
              "last_fico_range_high                               72\n",
              "num_op_rev_tl                                      75\n",
              "debt_settlement_flag_date                          84\n",
              "open_acc                                           84\n",
              "num_sats                                           84\n",
              "settlement_date                                    90\n",
              "num_rev_accts                                     108\n",
              "sec_app_mths_since_last_major_derog               114\n",
              "num_il_tl                                         115\n",
              "mths_since_last_record                            127\n",
              "last_pymnt_d                                      136\n",
              "issue_d                                           139\n",
              "last_credit_pull_d                                141\n",
              "total_acc                                         142\n",
              "mths_since_last_delinq                            164\n",
              "mths_since_recent_bc_dlq                          169\n",
              "mths_since_recent_revol_delinq                    169\n",
              "all_util                                          172\n",
              "mths_since_last_major_derog                       174\n",
              "mo_sin_rcnt_tl                                    197\n",
              "il_util                                           237\n",
              "percent_bc_gt_75                                  246\n",
              "mo_sin_rcnt_rev_tl_op                             287\n",
              "mths_since_rcnt_il                                343\n",
              "mths_since_recent_bc                              492\n",
              "mo_sin_old_il_acct                                523\n",
              "sec_app_earliest_cr_line                          571\n",
              "pct_tl_nvr_dlq                                    632\n",
              "int_rate                                          654\n",
              "earliest_cr_line                                  739\n",
              "mo_sin_old_rev_tl_op                              757\n",
              "zip_code                                          944\n",
              "sec_app_revol_util                               1113\n",
              "revol_util                                       1374\n",
              "bc_util                                          1445\n",
              "funded_amnt                                      1556\n",
              "loan_amnt                                        1556\n",
              "delinq_amnt                                      2005\n",
              "settlement_percentage                            2060\n",
              "orig_projected_additional_accrued_interest       3481\n",
              "dti_joint                                        3659\n",
              "hardship_last_payment_amount                     5049\n",
              "annual_inc_joint                                 5160\n",
              "hardship_amount                                  5183\n",
              "hardship_payoff_balance_amount                   5749\n",
              "dti                                              7068\n",
              "funded_amnt_inv                                  9016\n",
              "tot_coll_amt                                    12872\n",
              "total_rec_late_fee                              15929\n",
              "revol_bal_joint                                 16152\n",
              "total_bc_limit                                  17087\n",
              "settlement_amount                               21761\n",
              "total_rev_hi_lim                                26800\n",
              "max_bal_bc                                      27511\n",
              "title                                           61683\n",
              "annual_inc                                      64362\n",
              "bc_open_to_buy                                  74925\n",
              "avg_cur_bal                                     76865\n",
              "installment                                     83307\n",
              "revol_bal                                       83810\n",
              "total_bal_il                                   118365\n",
              "desc                                           122006\n",
              "recoveries                                     132470\n",
              "collection_recovery_fee                        146053\n",
              "total_il_high_credit_limit                     162549\n",
              "total_bal_ex_mort                              177996\n",
              "total_rec_prncp                                204881\n",
              "emp_title                                      378354\n",
              "tot_cur_bal                                    400460\n",
              "tot_hi_cred_lim                                427441\n",
              "total_rec_int                                  517185\n",
              "last_pymnt_amnt                                693278\n",
              "total_pymnt_inv                               1012584\n",
              "total_pymnt                                   1261705\n",
              "url                                           1345310\n",
              "id                                            1345310\n",
              "dtype: int64"
            ]
          },
          "metadata": {},
          "execution_count": 15
        }
      ]
    },
    {
      "cell_type": "code",
      "source": [
        "unique_num = df.nunique(dropna=False)\n",
        "unique_cols = unique_num[unique_num == 1].index\n",
        "unique_cols"
      ],
      "metadata": {
        "colab": {
          "base_uri": "https://localhost:8080/"
        },
        "id": "X3EO42EEHTz4",
        "outputId": "fa19b2a2-2b74-4260-a809-86d482c5a582"
      },
      "execution_count": 16,
      "outputs": [
        {
          "output_type": "execute_result",
          "data": {
            "text/plain": [
              "Index(['member_id', 'pymnt_plan', 'out_prncp', 'out_prncp_inv', 'next_pymnt_d',\n",
              "       'policy_code', 'hardship_flag'],\n",
              "      dtype='object')"
            ]
          },
          "metadata": {},
          "execution_count": 16
        }
      ]
    },
    {
      "cell_type": "code",
      "source": [
        "df = df.drop(columns=unique_cols)"
      ],
      "metadata": {
        "id": "G9Fcz6qzuJyo"
      },
      "execution_count": 17,
      "outputs": []
    },
    {
      "cell_type": "markdown",
      "source": [
        "Feature `id` and `url` have a unique value for each row and should also be removed, otherwise the model will overfit."
      ],
      "metadata": {
        "id": "7ScvSgNOar0P"
      }
    },
    {
      "cell_type": "code",
      "source": [
        "df = df.drop(columns=['id', 'url'])"
      ],
      "metadata": {
        "id": "ZyYUU3trarRe"
      },
      "execution_count": 18,
      "outputs": []
    },
    {
      "cell_type": "markdown",
      "source": [
        "(Easy drop try: Because it's generally very difficult to accurately impute data with more than 30% missing values, we drop such columns.)"
      ],
      "metadata": {
        "id": "tcDxEnJHbWl9"
      }
    },
    {
      "cell_type": "code",
      "source": [
        "missing_fractions = df.isnull().mean().sort_values(ascending=False)\n",
        "missing_fractions"
      ],
      "metadata": {
        "colab": {
          "base_uri": "https://localhost:8080/"
        },
        "id": "tThCZ3vbbb4X",
        "outputId": "b542f2a2-2f19-4efc-8397-37b16f57a995"
      },
      "execution_count": 19,
      "outputs": [
        {
          "output_type": "execute_result",
          "data": {
            "text/plain": [
              "orig_projected_additional_accrued_interest   0.997\n",
              "payment_plan_start_date                      0.996\n",
              "hardship_end_date                            0.996\n",
              "hardship_type                                0.996\n",
              "hardship_reason                              0.996\n",
              "hardship_status                              0.996\n",
              "deferral_term                                0.996\n",
              "hardship_amount                              0.996\n",
              "hardship_last_payment_amount                 0.996\n",
              "hardship_payoff_balance_amount               0.996\n",
              "hardship_loan_status                         0.996\n",
              "hardship_dpd                                 0.996\n",
              "hardship_length                              0.996\n",
              "hardship_start_date                          0.996\n",
              "sec_app_mths_since_last_major_derog          0.995\n",
              "sec_app_revol_util                           0.986\n",
              "revol_bal_joint                              0.986\n",
              "sec_app_open_acc                             0.986\n",
              "sec_app_mort_acc                             0.986\n",
              "sec_app_inq_last_6mths                       0.986\n",
              "sec_app_earliest_cr_line                     0.986\n",
              "sec_app_fico_range_high                      0.986\n",
              "sec_app_collections_12_mths_ex_med           0.986\n",
              "sec_app_chargeoff_within_12_mths             0.986\n",
              "sec_app_num_rev_accts                        0.986\n",
              "sec_app_open_act_il                          0.986\n",
              "sec_app_fico_range_low                       0.986\n",
              "verification_status_joint                    0.981\n",
              "dti_joint                                    0.981\n",
              "annual_inc_joint                             0.981\n",
              "settlement_term                              0.975\n",
              "debt_settlement_flag_date                    0.975\n",
              "settlement_status                            0.975\n",
              "settlement_date                              0.975\n",
              "settlement_amount                            0.975\n",
              "settlement_percentage                        0.975\n",
              "desc                                         0.908\n",
              "mths_since_last_record                       0.830\n",
              "mths_since_recent_bc_dlq                     0.763\n",
              "mths_since_last_major_derog                  0.737\n",
              "mths_since_recent_revol_delinq               0.666\n",
              "il_util                                      0.654\n",
              "mths_since_rcnt_il                           0.611\n",
              "all_util                                     0.600\n",
              "open_acc_6m                                  0.600\n",
              "inq_last_12m                                 0.600\n",
              "total_cu_tl                                  0.600\n",
              "open_rv_24m                                  0.600\n",
              "inq_fi                                       0.600\n",
              "max_bal_bc                                   0.600\n",
              "open_rv_12m                                  0.600\n",
              "total_bal_il                                 0.600\n",
              "open_il_24m                                  0.600\n",
              "open_il_12m                                  0.600\n",
              "open_act_il                                  0.600\n",
              "mths_since_last_delinq                       0.505\n",
              "mths_since_recent_inq                        0.129\n",
              "num_tl_120dpd_2m                             0.087\n",
              "mo_sin_old_il_acct                           0.078\n",
              "emp_title                                    0.064\n",
              "emp_length                                   0.058\n",
              "pct_tl_nvr_dlq                               0.050\n",
              "avg_cur_bal                                  0.050\n",
              "num_rev_accts                                0.050\n",
              "mo_sin_rcnt_rev_tl_op                        0.050\n",
              "mo_sin_old_rev_tl_op                         0.050\n",
              "total_rev_hi_lim                             0.050\n",
              "num_tl_90g_dpd_24m                           0.050\n",
              "num_op_rev_tl                                0.050\n",
              "num_il_tl                                    0.050\n",
              "total_il_high_credit_limit                   0.050\n",
              "tot_hi_cred_lim                              0.050\n",
              "num_tl_op_past_12m                           0.050\n",
              "tot_coll_amt                                 0.050\n",
              "num_tl_30dpd                                 0.050\n",
              "num_rev_tl_bal_gt_0                          0.050\n",
              "tot_cur_bal                                  0.050\n",
              "num_bc_tl                                    0.050\n",
              "num_actv_rev_tl                              0.050\n",
              "num_actv_bc_tl                               0.050\n",
              "num_accts_ever_120_pd                        0.050\n",
              "mo_sin_rcnt_tl                               0.050\n",
              "bc_util                                      0.046\n",
              "percent_bc_gt_75                             0.046\n",
              "bc_open_to_buy                               0.045\n",
              "mths_since_recent_bc                         0.045\n",
              "num_bc_sats                                  0.042\n",
              "num_sats                                     0.042\n",
              "acc_open_past_24mths                         0.035\n",
              "total_bal_ex_mort                            0.035\n",
              "mort_acc                                     0.035\n",
              "total_bc_limit                               0.035\n",
              "title                                        0.012\n",
              "last_pymnt_d                                 0.002\n",
              "revol_util                                   0.001\n",
              "pub_rec_bankruptcies                         0.001\n",
              "dti                                          0.000\n",
              "chargeoff_within_12_mths                     0.000\n",
              "collections_12_mths_ex_med                   0.000\n",
              "last_credit_pull_d                           0.000\n",
              "tax_liens                                    0.000\n",
              "zip_code                                     0.000\n",
              "inq_last_6mths                               0.000\n",
              "int_rate                                     0.000\n",
              "loan_status                                  0.000\n",
              "addr_state                                   0.000\n",
              "funded_amnt                                  0.000\n",
              "purpose                                      0.000\n",
              "funded_amnt_inv                              0.000\n",
              "issue_d                                      0.000\n",
              "verification_status                          0.000\n",
              "annual_inc                                   0.000\n",
              "home_ownership                               0.000\n",
              "delinq_2yrs                                  0.000\n",
              "debt_settlement_flag                         0.000\n",
              "sub_grade                                    0.000\n",
              "grade                                        0.000\n",
              "term                                         0.000\n",
              "installment                                  0.000\n",
              "disbursement_method                          0.000\n",
              "acc_now_delinq                               0.000\n",
              "earliest_cr_line                             0.000\n",
              "total_rec_int                                0.000\n",
              "delinq_amnt                                  0.000\n",
              "application_type                             0.000\n",
              "last_fico_range_low                          0.000\n",
              "last_fico_range_high                         0.000\n",
              "last_pymnt_amnt                              0.000\n",
              "collection_recovery_fee                      0.000\n",
              "recoveries                                   0.000\n",
              "total_rec_late_fee                           0.000\n",
              "total_rec_prncp                              0.000\n",
              "fico_range_low                               0.000\n",
              "total_pymnt_inv                              0.000\n",
              "total_pymnt                                  0.000\n",
              "initial_list_status                          0.000\n",
              "total_acc                                    0.000\n",
              "revol_bal                                    0.000\n",
              "pub_rec                                      0.000\n",
              "open_acc                                     0.000\n",
              "fico_range_high                              0.000\n",
              "loan_amnt                                    0.000\n",
              "dtype: float64"
            ]
          },
          "metadata": {},
          "execution_count": 19
        }
      ]
    },
    {
      "cell_type": "code",
      "source": [
        "drop_list = sorted(missing_fractions[missing_fractions > 0.3].index)\n",
        "drop_list"
      ],
      "metadata": {
        "colab": {
          "base_uri": "https://localhost:8080/"
        },
        "id": "kY5Miyxlbhzf",
        "outputId": "912931b2-dc05-4898-b3ca-52a9d5372797"
      },
      "execution_count": 20,
      "outputs": [
        {
          "output_type": "execute_result",
          "data": {
            "text/plain": [
              "['all_util',\n",
              " 'annual_inc_joint',\n",
              " 'debt_settlement_flag_date',\n",
              " 'deferral_term',\n",
              " 'desc',\n",
              " 'dti_joint',\n",
              " 'hardship_amount',\n",
              " 'hardship_dpd',\n",
              " 'hardship_end_date',\n",
              " 'hardship_last_payment_amount',\n",
              " 'hardship_length',\n",
              " 'hardship_loan_status',\n",
              " 'hardship_payoff_balance_amount',\n",
              " 'hardship_reason',\n",
              " 'hardship_start_date',\n",
              " 'hardship_status',\n",
              " 'hardship_type',\n",
              " 'il_util',\n",
              " 'inq_fi',\n",
              " 'inq_last_12m',\n",
              " 'max_bal_bc',\n",
              " 'mths_since_last_delinq',\n",
              " 'mths_since_last_major_derog',\n",
              " 'mths_since_last_record',\n",
              " 'mths_since_rcnt_il',\n",
              " 'mths_since_recent_bc_dlq',\n",
              " 'mths_since_recent_revol_delinq',\n",
              " 'open_acc_6m',\n",
              " 'open_act_il',\n",
              " 'open_il_12m',\n",
              " 'open_il_24m',\n",
              " 'open_rv_12m',\n",
              " 'open_rv_24m',\n",
              " 'orig_projected_additional_accrued_interest',\n",
              " 'payment_plan_start_date',\n",
              " 'revol_bal_joint',\n",
              " 'sec_app_chargeoff_within_12_mths',\n",
              " 'sec_app_collections_12_mths_ex_med',\n",
              " 'sec_app_earliest_cr_line',\n",
              " 'sec_app_fico_range_high',\n",
              " 'sec_app_fico_range_low',\n",
              " 'sec_app_inq_last_6mths',\n",
              " 'sec_app_mort_acc',\n",
              " 'sec_app_mths_since_last_major_derog',\n",
              " 'sec_app_num_rev_accts',\n",
              " 'sec_app_open_acc',\n",
              " 'sec_app_open_act_il',\n",
              " 'sec_app_revol_util',\n",
              " 'settlement_amount',\n",
              " 'settlement_date',\n",
              " 'settlement_percentage',\n",
              " 'settlement_status',\n",
              " 'settlement_term',\n",
              " 'total_bal_il',\n",
              " 'total_cu_tl',\n",
              " 'verification_status_joint']"
            ]
          },
          "metadata": {},
          "execution_count": 20
        }
      ]
    },
    {
      "cell_type": "code",
      "source": [
        "df = df.drop(columns=drop_list)\n",
        "df.shape"
      ],
      "metadata": {
        "colab": {
          "base_uri": "https://localhost:8080/"
        },
        "id": "dbvieJnIbmtH",
        "outputId": "b5a742c8-c887-4f73-fc87-e66c45a83cec"
      },
      "execution_count": 21,
      "outputs": [
        {
          "output_type": "execute_result",
          "data": {
            "text/plain": [
              "(1345310, 86)"
            ]
          },
          "metadata": {},
          "execution_count": 21
        }
      ]
    },
    {
      "cell_type": "markdown",
      "source": [
        "(Drop some features hard to handle)"
      ],
      "metadata": {
        "id": "O-_Qok5Fbu9S"
      }
    },
    {
      "cell_type": "code",
      "source": [
        "keep_list = ['addr_state', 'annual_inc', 'application_type', 'dti', 'earliest_cr_line', 'emp_length', 'emp_title', 'fico_range_high', 'fico_range_low', 'grade', 'home_ownership', 'initial_list_status', 'installment', 'int_rate', 'issue_d', 'loan_amnt', 'loan_status', 'mort_acc', 'open_acc', 'pub_rec', 'pub_rec_bankruptcies', 'purpose', 'revol_bal', 'revol_util', 'sub_grade', 'term', 'title', 'total_acc', 'verification_status', 'zip_code']\n",
        "drop_list_2 = [col for col in df.columns if col not in keep_list]"
      ],
      "metadata": {
        "id": "g4h1Sn5Mbv_5"
      },
      "execution_count": 22,
      "outputs": []
    },
    {
      "cell_type": "code",
      "source": [
        "drop_list_2"
      ],
      "metadata": {
        "colab": {
          "base_uri": "https://localhost:8080/"
        },
        "id": "ibkozWS9s1UM",
        "outputId": "a9855d32-4707-4999-81dc-1b75e0142db8"
      },
      "execution_count": 23,
      "outputs": [
        {
          "output_type": "execute_result",
          "data": {
            "text/plain": [
              "['funded_amnt',\n",
              " 'funded_amnt_inv',\n",
              " 'delinq_2yrs',\n",
              " 'inq_last_6mths',\n",
              " 'total_pymnt',\n",
              " 'total_pymnt_inv',\n",
              " 'total_rec_prncp',\n",
              " 'total_rec_int',\n",
              " 'total_rec_late_fee',\n",
              " 'recoveries',\n",
              " 'collection_recovery_fee',\n",
              " 'last_pymnt_d',\n",
              " 'last_pymnt_amnt',\n",
              " 'last_credit_pull_d',\n",
              " 'last_fico_range_high',\n",
              " 'last_fico_range_low',\n",
              " 'collections_12_mths_ex_med',\n",
              " 'acc_now_delinq',\n",
              " 'tot_coll_amt',\n",
              " 'tot_cur_bal',\n",
              " 'total_rev_hi_lim',\n",
              " 'acc_open_past_24mths',\n",
              " 'avg_cur_bal',\n",
              " 'bc_open_to_buy',\n",
              " 'bc_util',\n",
              " 'chargeoff_within_12_mths',\n",
              " 'delinq_amnt',\n",
              " 'mo_sin_old_il_acct',\n",
              " 'mo_sin_old_rev_tl_op',\n",
              " 'mo_sin_rcnt_rev_tl_op',\n",
              " 'mo_sin_rcnt_tl',\n",
              " 'mths_since_recent_bc',\n",
              " 'mths_since_recent_inq',\n",
              " 'num_accts_ever_120_pd',\n",
              " 'num_actv_bc_tl',\n",
              " 'num_actv_rev_tl',\n",
              " 'num_bc_sats',\n",
              " 'num_bc_tl',\n",
              " 'num_il_tl',\n",
              " 'num_op_rev_tl',\n",
              " 'num_rev_accts',\n",
              " 'num_rev_tl_bal_gt_0',\n",
              " 'num_sats',\n",
              " 'num_tl_120dpd_2m',\n",
              " 'num_tl_30dpd',\n",
              " 'num_tl_90g_dpd_24m',\n",
              " 'num_tl_op_past_12m',\n",
              " 'pct_tl_nvr_dlq',\n",
              " 'percent_bc_gt_75',\n",
              " 'tax_liens',\n",
              " 'tot_hi_cred_lim',\n",
              " 'total_bal_ex_mort',\n",
              " 'total_bc_limit',\n",
              " 'total_il_high_credit_limit',\n",
              " 'disbursement_method',\n",
              " 'debt_settlement_flag']"
            ]
          },
          "metadata": {},
          "execution_count": 23
        }
      ]
    },
    {
      "cell_type": "code",
      "source": [
        "df = df.drop(columns=drop_list_2)"
      ],
      "metadata": {
        "id": "0i8eFvAhtKtV"
      },
      "execution_count": 24,
      "outputs": []
    },
    {
      "cell_type": "code",
      "source": [
        "df.shape"
      ],
      "metadata": {
        "colab": {
          "base_uri": "https://localhost:8080/"
        },
        "id": "zu2_jERwb6uJ",
        "outputId": "9706b992-2daa-4120-8be1-047ccae107d8"
      },
      "execution_count": 25,
      "outputs": [
        {
          "output_type": "execute_result",
          "data": {
            "text/plain": [
              "(1345310, 30)"
            ]
          },
          "metadata": {},
          "execution_count": 25
        }
      ]
    },
    {
      "cell_type": "markdown",
      "source": [
        "Todo: (Features regarding hardship plan)\n",
        "\n",
        "We found that features regarding hardship plan have same number of null values, which means these records with null values represent borrowers without a hardship plan."
      ],
      "metadata": {
        "id": "FTU4u8UycD2V"
      }
    },
    {
      "cell_type": "code",
      "source": [
        ""
      ],
      "metadata": {
        "id": "xsQ7eiv2cJ5g"
      },
      "execution_count": 25,
      "outputs": []
    },
    {
      "cell_type": "markdown",
      "source": [
        "**Dropping columns that give duplicate infomation**"
      ],
      "metadata": {
        "id": "Vi7sLEH_cuVH"
      }
    },
    {
      "cell_type": "markdown",
      "source": [
        "### `fico_range_low` & `fico_range_high`"
      ],
      "metadata": {
        "id": "dJmnL9QxcMlv"
      }
    },
    {
      "cell_type": "code",
      "source": [
        "df[['fico_range_low','fico_range_high']].describe()"
      ],
      "metadata": {
        "colab": {
          "base_uri": "https://localhost:8080/",
          "height": 300
        },
        "id": "ayNOun8rc_c2",
        "outputId": "eb03c679-36cc-4359-e6b8-ba90010ceafb"
      },
      "execution_count": 26,
      "outputs": [
        {
          "output_type": "execute_result",
          "data": {
            "text/html": [
              "\n",
              "  <div id=\"df-bcad34ef-d04a-4232-a9cb-d8334cbaba6f\">\n",
              "    <div class=\"colab-df-container\">\n",
              "      <div>\n",
              "<style scoped>\n",
              "    .dataframe tbody tr th:only-of-type {\n",
              "        vertical-align: middle;\n",
              "    }\n",
              "\n",
              "    .dataframe tbody tr th {\n",
              "        vertical-align: top;\n",
              "    }\n",
              "\n",
              "    .dataframe thead th {\n",
              "        text-align: right;\n",
              "    }\n",
              "</style>\n",
              "<table border=\"1\" class=\"dataframe\">\n",
              "  <thead>\n",
              "    <tr style=\"text-align: right;\">\n",
              "      <th></th>\n",
              "      <th>fico_range_low</th>\n",
              "      <th>fico_range_high</th>\n",
              "    </tr>\n",
              "  </thead>\n",
              "  <tbody>\n",
              "    <tr>\n",
              "      <th>count</th>\n",
              "      <td>1345310.000</td>\n",
              "      <td>1345310.000</td>\n",
              "    </tr>\n",
              "    <tr>\n",
              "      <th>mean</th>\n",
              "      <td>696.185</td>\n",
              "      <td>700.185</td>\n",
              "    </tr>\n",
              "    <tr>\n",
              "      <th>std</th>\n",
              "      <td>31.853</td>\n",
              "      <td>31.853</td>\n",
              "    </tr>\n",
              "    <tr>\n",
              "      <th>min</th>\n",
              "      <td>625.000</td>\n",
              "      <td>629.000</td>\n",
              "    </tr>\n",
              "    <tr>\n",
              "      <th>25%</th>\n",
              "      <td>670.000</td>\n",
              "      <td>674.000</td>\n",
              "    </tr>\n",
              "    <tr>\n",
              "      <th>50%</th>\n",
              "      <td>690.000</td>\n",
              "      <td>694.000</td>\n",
              "    </tr>\n",
              "    <tr>\n",
              "      <th>75%</th>\n",
              "      <td>710.000</td>\n",
              "      <td>714.000</td>\n",
              "    </tr>\n",
              "    <tr>\n",
              "      <th>max</th>\n",
              "      <td>845.000</td>\n",
              "      <td>850.000</td>\n",
              "    </tr>\n",
              "  </tbody>\n",
              "</table>\n",
              "</div>\n",
              "      <button class=\"colab-df-convert\" onclick=\"convertToInteractive('df-bcad34ef-d04a-4232-a9cb-d8334cbaba6f')\"\n",
              "              title=\"Convert this dataframe to an interactive table.\"\n",
              "              style=\"display:none;\">\n",
              "        \n",
              "  <svg xmlns=\"http://www.w3.org/2000/svg\" height=\"24px\"viewBox=\"0 0 24 24\"\n",
              "       width=\"24px\">\n",
              "    <path d=\"M0 0h24v24H0V0z\" fill=\"none\"/>\n",
              "    <path d=\"M18.56 5.44l.94 2.06.94-2.06 2.06-.94-2.06-.94-.94-2.06-.94 2.06-2.06.94zm-11 1L8.5 8.5l.94-2.06 2.06-.94-2.06-.94L8.5 2.5l-.94 2.06-2.06.94zm10 10l.94 2.06.94-2.06 2.06-.94-2.06-.94-.94-2.06-.94 2.06-2.06.94z\"/><path d=\"M17.41 7.96l-1.37-1.37c-.4-.4-.92-.59-1.43-.59-.52 0-1.04.2-1.43.59L10.3 9.45l-7.72 7.72c-.78.78-.78 2.05 0 2.83L4 21.41c.39.39.9.59 1.41.59.51 0 1.02-.2 1.41-.59l7.78-7.78 2.81-2.81c.8-.78.8-2.07 0-2.86zM5.41 20L4 18.59l7.72-7.72 1.47 1.35L5.41 20z\"/>\n",
              "  </svg>\n",
              "      </button>\n",
              "      \n",
              "  <style>\n",
              "    .colab-df-container {\n",
              "      display:flex;\n",
              "      flex-wrap:wrap;\n",
              "      gap: 12px;\n",
              "    }\n",
              "\n",
              "    .colab-df-convert {\n",
              "      background-color: #E8F0FE;\n",
              "      border: none;\n",
              "      border-radius: 50%;\n",
              "      cursor: pointer;\n",
              "      display: none;\n",
              "      fill: #1967D2;\n",
              "      height: 32px;\n",
              "      padding: 0 0 0 0;\n",
              "      width: 32px;\n",
              "    }\n",
              "\n",
              "    .colab-df-convert:hover {\n",
              "      background-color: #E2EBFA;\n",
              "      box-shadow: 0px 1px 2px rgba(60, 64, 67, 0.3), 0px 1px 3px 1px rgba(60, 64, 67, 0.15);\n",
              "      fill: #174EA6;\n",
              "    }\n",
              "\n",
              "    [theme=dark] .colab-df-convert {\n",
              "      background-color: #3B4455;\n",
              "      fill: #D2E3FC;\n",
              "    }\n",
              "\n",
              "    [theme=dark] .colab-df-convert:hover {\n",
              "      background-color: #434B5C;\n",
              "      box-shadow: 0px 1px 3px 1px rgba(0, 0, 0, 0.15);\n",
              "      filter: drop-shadow(0px 1px 2px rgba(0, 0, 0, 0.3));\n",
              "      fill: #FFFFFF;\n",
              "    }\n",
              "  </style>\n",
              "\n",
              "      <script>\n",
              "        const buttonEl =\n",
              "          document.querySelector('#df-bcad34ef-d04a-4232-a9cb-d8334cbaba6f button.colab-df-convert');\n",
              "        buttonEl.style.display =\n",
              "          google.colab.kernel.accessAllowed ? 'block' : 'none';\n",
              "\n",
              "        async function convertToInteractive(key) {\n",
              "          const element = document.querySelector('#df-bcad34ef-d04a-4232-a9cb-d8334cbaba6f');\n",
              "          const dataTable =\n",
              "            await google.colab.kernel.invokeFunction('convertToInteractive',\n",
              "                                                     [key], {});\n",
              "          if (!dataTable) return;\n",
              "\n",
              "          const docLinkHtml = 'Like what you see? Visit the ' +\n",
              "            '<a target=\"_blank\" href=https://colab.research.google.com/notebooks/data_table.ipynb>data table notebook</a>'\n",
              "            + ' to learn more about interactive tables.';\n",
              "          element.innerHTML = '';\n",
              "          dataTable['output_type'] = 'display_data';\n",
              "          await google.colab.output.renderOutput(dataTable, element);\n",
              "          const docLink = document.createElement('div');\n",
              "          docLink.innerHTML = docLinkHtml;\n",
              "          element.appendChild(docLink);\n",
              "        }\n",
              "      </script>\n",
              "    </div>\n",
              "  </div>\n",
              "  "
            ],
            "text/plain": [
              "       fico_range_low  fico_range_high\n",
              "count     1345310.000      1345310.000\n",
              "mean          696.185          700.185\n",
              "std            31.853           31.853\n",
              "min           625.000          629.000\n",
              "25%           670.000          674.000\n",
              "50%           690.000          694.000\n",
              "75%           710.000          714.000\n",
              "max           845.000          850.000"
            ]
          },
          "metadata": {},
          "execution_count": 26
        }
      ]
    },
    {
      "cell_type": "code",
      "source": [
        "df[['fico_range_low','fico_range_high']].corr()"
      ],
      "metadata": {
        "colab": {
          "base_uri": "https://localhost:8080/",
          "height": 112
        },
        "id": "Fv0_S21Nc7Ab",
        "outputId": "c8620fa3-fe45-4f78-8f36-d6179967a272"
      },
      "execution_count": 27,
      "outputs": [
        {
          "output_type": "execute_result",
          "data": {
            "text/html": [
              "\n",
              "  <div id=\"df-3ebc36fd-46f5-4d21-a7b4-b8381168a94e\">\n",
              "    <div class=\"colab-df-container\">\n",
              "      <div>\n",
              "<style scoped>\n",
              "    .dataframe tbody tr th:only-of-type {\n",
              "        vertical-align: middle;\n",
              "    }\n",
              "\n",
              "    .dataframe tbody tr th {\n",
              "        vertical-align: top;\n",
              "    }\n",
              "\n",
              "    .dataframe thead th {\n",
              "        text-align: right;\n",
              "    }\n",
              "</style>\n",
              "<table border=\"1\" class=\"dataframe\">\n",
              "  <thead>\n",
              "    <tr style=\"text-align: right;\">\n",
              "      <th></th>\n",
              "      <th>fico_range_low</th>\n",
              "      <th>fico_range_high</th>\n",
              "    </tr>\n",
              "  </thead>\n",
              "  <tbody>\n",
              "    <tr>\n",
              "      <th>fico_range_low</th>\n",
              "      <td>1.000</td>\n",
              "      <td>1.000</td>\n",
              "    </tr>\n",
              "    <tr>\n",
              "      <th>fico_range_high</th>\n",
              "      <td>1.000</td>\n",
              "      <td>1.000</td>\n",
              "    </tr>\n",
              "  </tbody>\n",
              "</table>\n",
              "</div>\n",
              "      <button class=\"colab-df-convert\" onclick=\"convertToInteractive('df-3ebc36fd-46f5-4d21-a7b4-b8381168a94e')\"\n",
              "              title=\"Convert this dataframe to an interactive table.\"\n",
              "              style=\"display:none;\">\n",
              "        \n",
              "  <svg xmlns=\"http://www.w3.org/2000/svg\" height=\"24px\"viewBox=\"0 0 24 24\"\n",
              "       width=\"24px\">\n",
              "    <path d=\"M0 0h24v24H0V0z\" fill=\"none\"/>\n",
              "    <path d=\"M18.56 5.44l.94 2.06.94-2.06 2.06-.94-2.06-.94-.94-2.06-.94 2.06-2.06.94zm-11 1L8.5 8.5l.94-2.06 2.06-.94-2.06-.94L8.5 2.5l-.94 2.06-2.06.94zm10 10l.94 2.06.94-2.06 2.06-.94-2.06-.94-.94-2.06-.94 2.06-2.06.94z\"/><path d=\"M17.41 7.96l-1.37-1.37c-.4-.4-.92-.59-1.43-.59-.52 0-1.04.2-1.43.59L10.3 9.45l-7.72 7.72c-.78.78-.78 2.05 0 2.83L4 21.41c.39.39.9.59 1.41.59.51 0 1.02-.2 1.41-.59l7.78-7.78 2.81-2.81c.8-.78.8-2.07 0-2.86zM5.41 20L4 18.59l7.72-7.72 1.47 1.35L5.41 20z\"/>\n",
              "  </svg>\n",
              "      </button>\n",
              "      \n",
              "  <style>\n",
              "    .colab-df-container {\n",
              "      display:flex;\n",
              "      flex-wrap:wrap;\n",
              "      gap: 12px;\n",
              "    }\n",
              "\n",
              "    .colab-df-convert {\n",
              "      background-color: #E8F0FE;\n",
              "      border: none;\n",
              "      border-radius: 50%;\n",
              "      cursor: pointer;\n",
              "      display: none;\n",
              "      fill: #1967D2;\n",
              "      height: 32px;\n",
              "      padding: 0 0 0 0;\n",
              "      width: 32px;\n",
              "    }\n",
              "\n",
              "    .colab-df-convert:hover {\n",
              "      background-color: #E2EBFA;\n",
              "      box-shadow: 0px 1px 2px rgba(60, 64, 67, 0.3), 0px 1px 3px 1px rgba(60, 64, 67, 0.15);\n",
              "      fill: #174EA6;\n",
              "    }\n",
              "\n",
              "    [theme=dark] .colab-df-convert {\n",
              "      background-color: #3B4455;\n",
              "      fill: #D2E3FC;\n",
              "    }\n",
              "\n",
              "    [theme=dark] .colab-df-convert:hover {\n",
              "      background-color: #434B5C;\n",
              "      box-shadow: 0px 1px 3px 1px rgba(0, 0, 0, 0.15);\n",
              "      filter: drop-shadow(0px 1px 2px rgba(0, 0, 0, 0.3));\n",
              "      fill: #FFFFFF;\n",
              "    }\n",
              "  </style>\n",
              "\n",
              "      <script>\n",
              "        const buttonEl =\n",
              "          document.querySelector('#df-3ebc36fd-46f5-4d21-a7b4-b8381168a94e button.colab-df-convert');\n",
              "        buttonEl.style.display =\n",
              "          google.colab.kernel.accessAllowed ? 'block' : 'none';\n",
              "\n",
              "        async function convertToInteractive(key) {\n",
              "          const element = document.querySelector('#df-3ebc36fd-46f5-4d21-a7b4-b8381168a94e');\n",
              "          const dataTable =\n",
              "            await google.colab.kernel.invokeFunction('convertToInteractive',\n",
              "                                                     [key], {});\n",
              "          if (!dataTable) return;\n",
              "\n",
              "          const docLinkHtml = 'Like what you see? Visit the ' +\n",
              "            '<a target=\"_blank\" href=https://colab.research.google.com/notebooks/data_table.ipynb>data table notebook</a>'\n",
              "            + ' to learn more about interactive tables.';\n",
              "          element.innerHTML = '';\n",
              "          dataTable['output_type'] = 'display_data';\n",
              "          await google.colab.output.renderOutput(dataTable, element);\n",
              "          const docLink = document.createElement('div');\n",
              "          docLink.innerHTML = docLinkHtml;\n",
              "          element.appendChild(docLink);\n",
              "        }\n",
              "      </script>\n",
              "    </div>\n",
              "  </div>\n",
              "  "
            ],
            "text/plain": [
              "                 fico_range_low  fico_range_high\n",
              "fico_range_low            1.000            1.000\n",
              "fico_range_high           1.000            1.000"
            ]
          },
          "metadata": {},
          "execution_count": 27
        }
      ]
    },
    {
      "cell_type": "markdown",
      "source": [
        "Because these two columns Pearson correlation is `1`, we'll only take the average of two and call it fico_score and drop the original two."
      ],
      "metadata": {
        "id": "wV2zxunXdUee"
      }
    },
    {
      "cell_type": "code",
      "source": [
        "df['fico_score'] = (df['fico_range_low'] + df['fico_range_high']) // 2"
      ],
      "metadata": {
        "id": "771GrEikdzXm"
      },
      "execution_count": 28,
      "outputs": []
    },
    {
      "cell_type": "code",
      "source": [
        "df['fico_score'].describe()"
      ],
      "metadata": {
        "colab": {
          "base_uri": "https://localhost:8080/"
        },
        "id": "ZctOHK0ueEso",
        "outputId": "83e821ec-ea44-44b2-fee2-ee285041a9f5"
      },
      "execution_count": 29,
      "outputs": [
        {
          "output_type": "execute_result",
          "data": {
            "text/plain": [
              "count   1345310.000\n",
              "mean        698.185\n",
              "std          31.853\n",
              "min         627.000\n",
              "25%         672.000\n",
              "50%         692.000\n",
              "75%         712.000\n",
              "max         847.000\n",
              "Name: fico_score, dtype: float64"
            ]
          },
          "metadata": {},
          "execution_count": 29
        }
      ]
    },
    {
      "cell_type": "code",
      "source": [
        "df = df.drop(columns=['fico_range_low', 'fico_range_high'])"
      ],
      "metadata": {
        "id": "YLfH25uqeJeE"
      },
      "execution_count": 30,
      "outputs": []
    },
    {
      "cell_type": "markdown",
      "source": [
        "###`purpose` & `title`"
      ],
      "metadata": {
        "id": "6t4vxb_ResKh"
      }
    },
    {
      "cell_type": "code",
      "source": [
        "df['purpose'].value_counts().sort_values(ascending=False).head(10)"
      ],
      "metadata": {
        "colab": {
          "base_uri": "https://localhost:8080/"
        },
        "id": "6MUfIrm6fP8X",
        "outputId": "3d3ce338-f583-4c04-c576-bc5953e324c0"
      },
      "execution_count": 31,
      "outputs": [
        {
          "output_type": "execute_result",
          "data": {
            "text/plain": [
              "debt_consolidation    780321\n",
              "credit_card           295279\n",
              "home_improvement       87504\n",
              "other                  77875\n",
              "major_purchase         29425\n",
              "medical                15554\n",
              "small_business         15416\n",
              "car                    14585\n",
              "moving                  9480\n",
              "vacation                9065\n",
              "Name: purpose, dtype: int64"
            ]
          },
          "metadata": {},
          "execution_count": 31
        }
      ]
    },
    {
      "cell_type": "code",
      "source": [
        "df['purpose'].describe()"
      ],
      "metadata": {
        "colab": {
          "base_uri": "https://localhost:8080/"
        },
        "id": "j_EtqqxvfbnF",
        "outputId": "94cb1ab3-c5c3-49be-81d3-347841c51ed5"
      },
      "execution_count": 32,
      "outputs": [
        {
          "output_type": "execute_result",
          "data": {
            "text/plain": [
              "count                1345310\n",
              "unique                    14\n",
              "top       debt_consolidation\n",
              "freq                  780321\n",
              "Name: purpose, dtype: object"
            ]
          },
          "metadata": {},
          "execution_count": 32
        }
      ]
    },
    {
      "cell_type": "code",
      "source": [
        "df['title'].value_counts().sort_values(ascending=False).head(10)"
      ],
      "metadata": {
        "colab": {
          "base_uri": "https://localhost:8080/"
        },
        "id": "NSSDY_lje294",
        "outputId": "2b281a58-cf17-425a-a635-421d58aeb2ba"
      },
      "execution_count": 33,
      "outputs": [
        {
          "output_type": "execute_result",
          "data": {
            "text/plain": [
              "Debt consolidation         660960\n",
              "Credit card refinancing    249910\n",
              "Home improvement            75073\n",
              "Other                       66778\n",
              "Major purchase              24045\n",
              "Debt Consolidation          15695\n",
              "Medical expenses            13576\n",
              "Business                    11750\n",
              "Car financing               11220\n",
              "Vacation                     8046\n",
              "Name: title, dtype: int64"
            ]
          },
          "metadata": {},
          "execution_count": 33
        }
      ]
    },
    {
      "cell_type": "code",
      "source": [
        "df['title'].describe()"
      ],
      "metadata": {
        "colab": {
          "base_uri": "https://localhost:8080/"
        },
        "id": "V1IWYBD9fdsD",
        "outputId": "3f034edb-07b8-4589-dc80-479eda83970d"
      },
      "execution_count": 34,
      "outputs": [
        {
          "output_type": "execute_result",
          "data": {
            "text/plain": [
              "count                1328651\n",
              "unique                 61682\n",
              "top       Debt consolidation\n",
              "freq                  660960\n",
              "Name: title, dtype: object"
            ]
          },
          "metadata": {},
          "execution_count": 34
        }
      ]
    },
    {
      "cell_type": "markdown",
      "source": [
        "`title` has higher cardinality to `purpose`, and `purpose` appears to already contain the infomation `title` provide. So we drop `title`."
      ],
      "metadata": {
        "id": "cAdH8g8yfXIN"
      }
    },
    {
      "cell_type": "code",
      "source": [
        "df = df.drop(columns='title')"
      ],
      "metadata": {
        "id": "i3lnz9a7gjVt"
      },
      "execution_count": 35,
      "outputs": []
    },
    {
      "cell_type": "markdown",
      "source": [
        "### `grade` & `sub_grade`"
      ],
      "metadata": {
        "id": "XmIdbyLkgsVo"
      }
    },
    {
      "cell_type": "code",
      "source": [
        "df['grade'].value_counts(dropna=False).sort_index()"
      ],
      "metadata": {
        "colab": {
          "base_uri": "https://localhost:8080/"
        },
        "id": "qK_lMSrtlveh",
        "outputId": "d8afcf81-3259-40fd-bc30-ebcee2967350"
      },
      "execution_count": 36,
      "outputs": [
        {
          "output_type": "execute_result",
          "data": {
            "text/plain": [
              "A    235090\n",
              "B    392741\n",
              "C    381686\n",
              "D    200953\n",
              "E     93650\n",
              "F     32058\n",
              "G      9132\n",
              "Name: grade, dtype: int64"
            ]
          },
          "metadata": {},
          "execution_count": 36
        }
      ]
    },
    {
      "cell_type": "code",
      "source": [
        "df['sub_grade'].value_counts(dropna=False).sort_index()"
      ],
      "metadata": {
        "colab": {
          "base_uri": "https://localhost:8080/"
        },
        "id": "JYHbvlX0l0de",
        "outputId": "4969e4a9-e6ff-422d-f40a-2b53e87fa0f2"
      },
      "execution_count": 37,
      "outputs": [
        {
          "output_type": "execute_result",
          "data": {
            "text/plain": [
              "A1    43678\n",
              "A2    37178\n",
              "A3    37996\n",
              "A4    52235\n",
              "A5    64003\n",
              "B1    71153\n",
              "B2    74024\n",
              "B3    81827\n",
              "B4    83199\n",
              "B5    82538\n",
              "C1    85494\n",
              "C2    79213\n",
              "C3    74998\n",
              "C4    74421\n",
              "C5    67560\n",
              "D1    51321\n",
              "D2    44848\n",
              "D3    39317\n",
              "D4    35566\n",
              "D5    29901\n",
              "E1    23749\n",
              "E2    21377\n",
              "E3    18387\n",
              "E4    15720\n",
              "E5    14417\n",
              "F1     9970\n",
              "F2     7198\n",
              "F3     6088\n",
              "F4     4859\n",
              "F5     3943\n",
              "G1     2997\n",
              "G2     2131\n",
              "G3     1614\n",
              "G4     1280\n",
              "G5     1110\n",
              "Name: sub_grade, dtype: int64"
            ]
          },
          "metadata": {},
          "execution_count": 37
        }
      ]
    },
    {
      "cell_type": "markdown",
      "source": [
        "Since `sub_grade` contain the information that `grade` has, we drop `grade`."
      ],
      "metadata": {
        "id": "I0N_1BBzmBe1"
      }
    },
    {
      "cell_type": "code",
      "source": [
        "df = df.drop(columns='grade')"
      ],
      "metadata": {
        "id": "wa6ihSsAmLlX"
      },
      "execution_count": 38,
      "outputs": []
    },
    {
      "cell_type": "markdown",
      "source": [
        "### `emp_title`"
      ],
      "metadata": {
        "id": "fMFACZk2nhTG"
      }
    },
    {
      "cell_type": "code",
      "source": [
        "df['emp_title'].value_counts(dropna=False).sort_values(ascending=False).head(25)"
      ],
      "metadata": {
        "colab": {
          "base_uri": "https://localhost:8080/"
        },
        "id": "fg8iyzMKmcsW",
        "outputId": "bcb07c4b-12bf-4ba6-c01f-caaf2826703e"
      },
      "execution_count": 39,
      "outputs": [
        {
          "output_type": "execute_result",
          "data": {
            "text/plain": [
              "NaN                         85785\n",
              "Teacher                     21268\n",
              "Manager                     19470\n",
              "Owner                       10302\n",
              "Registered Nurse             8774\n",
              "RN                           8522\n",
              "Supervisor                   8289\n",
              "Driver                       7558\n",
              "Sales                        7487\n",
              "Project Manager              6381\n",
              "Office Manager               5526\n",
              "General Manager              5191\n",
              "Director                     5032\n",
              "owner                        4585\n",
              "manager                      4511\n",
              "Engineer                     4294\n",
              "President                    4162\n",
              "teacher                      4094\n",
              "Vice President               3539\n",
              "driver                       3514\n",
              "Operations Manager           3457\n",
              "Accountant                   3287\n",
              "Administrative Assistant     3096\n",
              "Sales Manager                3072\n",
              "Attorney                     3061\n",
              "Name: emp_title, dtype: int64"
            ]
          },
          "metadata": {},
          "execution_count": 39
        }
      ]
    },
    {
      "cell_type": "code",
      "source": [
        "df['emp_title'].nunique()"
      ],
      "metadata": {
        "colab": {
          "base_uri": "https://localhost:8080/"
        },
        "id": "L3mqjc36uNzB",
        "outputId": "6a26bfe2-6d5f-41ab-d4c9-24459f80598f"
      },
      "execution_count": 40,
      "outputs": [
        {
          "output_type": "execute_result",
          "data": {
            "text/plain": [
              "378353"
            ]
          },
          "metadata": {},
          "execution_count": 40
        }
      ]
    },
    {
      "cell_type": "markdown",
      "source": [
        "There are too many different job titles for this feature to be useful, so let's drop it."
      ],
      "metadata": {
        "id": "82Z_1rg-uTNs"
      }
    },
    {
      "cell_type": "code",
      "source": [
        "df = df.drop(columns='emp_title')"
      ],
      "metadata": {
        "id": "ddA-SnP_nwtn"
      },
      "execution_count": 41,
      "outputs": []
    },
    {
      "cell_type": "code",
      "source": [
        "df.info()"
      ],
      "metadata": {
        "colab": {
          "base_uri": "https://localhost:8080/"
        },
        "id": "gflXYTgLekLu",
        "outputId": "2efd3fae-0c5e-4987-d661-ea2b54ac922a"
      },
      "execution_count": 42,
      "outputs": [
        {
          "output_type": "stream",
          "name": "stdout",
          "text": [
            "<class 'pandas.core.frame.DataFrame'>\n",
            "Int64Index: 1345310 entries, 0 to 2260697\n",
            "Data columns (total 26 columns):\n",
            " #   Column                Non-Null Count    Dtype  \n",
            "---  ------                --------------    -----  \n",
            " 0   loan_amnt             1345310 non-null  float64\n",
            " 1   term                  1345310 non-null  object \n",
            " 2   int_rate              1345310 non-null  float64\n",
            " 3   installment           1345310 non-null  float64\n",
            " 4   sub_grade             1345310 non-null  object \n",
            " 5   emp_length            1266799 non-null  object \n",
            " 6   home_ownership        1345310 non-null  object \n",
            " 7   annual_inc            1345310 non-null  float64\n",
            " 8   verification_status   1345310 non-null  object \n",
            " 9   issue_d               1345310 non-null  object \n",
            " 10  loan_status           1345310 non-null  object \n",
            " 11  purpose               1345310 non-null  object \n",
            " 12  zip_code              1345309 non-null  object \n",
            " 13  addr_state            1345310 non-null  object \n",
            " 14  dti                   1344936 non-null  float64\n",
            " 15  earliest_cr_line      1345310 non-null  object \n",
            " 16  open_acc              1345310 non-null  float64\n",
            " 17  pub_rec               1345310 non-null  float64\n",
            " 18  revol_bal             1345310 non-null  float64\n",
            " 19  revol_util            1344453 non-null  float64\n",
            " 20  total_acc             1345310 non-null  float64\n",
            " 21  initial_list_status   1345310 non-null  object \n",
            " 22  application_type      1345310 non-null  object \n",
            " 23  mort_acc              1298029 non-null  float64\n",
            " 24  pub_rec_bankruptcies  1344613 non-null  float64\n",
            " 25  fico_score            1345310 non-null  float64\n",
            "dtypes: float64(13), object(13)\n",
            "memory usage: 277.1+ MB\n"
          ]
        }
      ]
    },
    {
      "cell_type": "markdown",
      "source": [
        "# Part 3: Split the data"
      ],
      "metadata": {
        "id": "lNZFrvpASTvY"
      }
    },
    {
      "cell_type": "markdown",
      "source": [
        "Split the data before data preprocessing"
      ],
      "metadata": {
        "id": "heMDxpCnK_yR"
      }
    },
    {
      "cell_type": "code",
      "source": [
        "train, test = train_test_split(df, test_size=0.2, random_state=42, stratify=df['loan_status'])\n",
        "print('Training data has ' + str(train.shape[0]) + ' observations with ' + str(train.shape[1]) + ' features.')\n",
        "print('Testing data has ' + str(test.shape[0]) + ' observations with ' + str(test.shape[1]) + ' feature.')\n"
      ],
      "metadata": {
        "colab": {
          "base_uri": "https://localhost:8080/"
        },
        "id": "TWNdG1SpTQwu",
        "outputId": "85d58046-f0d8-41d3-e24b-d025452c7c13"
      },
      "execution_count": 43,
      "outputs": [
        {
          "output_type": "stream",
          "name": "stdout",
          "text": [
            "Training data has 1076248 observations with 26 features.\n",
            "Testing data has 269062 observations with 26 feature.\n"
          ]
        }
      ]
    },
    {
      "cell_type": "markdown",
      "source": [
        "# Part 4: Data Preprocessing"
      ],
      "metadata": {
        "id": "M1HN74kZAYf-"
      }
    },
    {
      "cell_type": "markdown",
      "source": [
        "## Part 4.1: Missing Data"
      ],
      "metadata": {
        "id": "PFkOKGuRoYtf"
      }
    },
    {
      "cell_type": "markdown",
      "source": [
        "Now take care of **numerical** features with missing data."
      ],
      "metadata": {
        "id": "wZCxcpIkS6GL"
      }
    },
    {
      "cell_type": "code",
      "source": [
        "# check all the numerical feature's null value\n",
        "train.select_dtypes('float64').isnull().sum().sort_values(ascending=False)"
      ],
      "metadata": {
        "colab": {
          "base_uri": "https://localhost:8080/"
        },
        "id": "9XyKa44YknN-",
        "outputId": "c9c3b0be-d998-4f01-c269-cad5b56ed746"
      },
      "execution_count": 44,
      "outputs": [
        {
          "output_type": "execute_result",
          "data": {
            "text/plain": [
              "mort_acc                37936\n",
              "revol_util                672\n",
              "pub_rec_bankruptcies      552\n",
              "dti                       303\n",
              "fico_score                  0\n",
              "total_acc                   0\n",
              "revol_bal                   0\n",
              "pub_rec                     0\n",
              "open_acc                    0\n",
              "annual_inc                  0\n",
              "installment                 0\n",
              "int_rate                    0\n",
              "loan_amnt                   0\n",
              "dtype: int64"
            ]
          },
          "metadata": {},
          "execution_count": 44
        }
      ]
    },
    {
      "cell_type": "code",
      "source": [
        "# def a function to make box plot\n",
        "def box_plot(col_name):\n",
        "  sns.boxplot(x=col_name, y='loan_status', data=train)"
      ],
      "metadata": {
        "id": "mtaw7h3Giyzm"
      },
      "execution_count": 45,
      "outputs": []
    },
    {
      "cell_type": "markdown",
      "source": [
        "### `mort_acc`"
      ],
      "metadata": {
        "id": "oGS5T6NglaPZ"
      }
    },
    {
      "cell_type": "markdown",
      "source": [
        "Data Dictionary: Number of mortgage accounts."
      ],
      "metadata": {
        "id": "esMDEB3xQWou"
      }
    },
    {
      "cell_type": "code",
      "source": [
        "train['mort_acc'].value_counts(dropna=False).sort_index()"
      ],
      "metadata": {
        "colab": {
          "base_uri": "https://localhost:8080/"
        },
        "id": "DHk92-3tiKTh",
        "outputId": "d97b6c54-06a3-43f2-aaca-b645f3cd5aa9"
      },
      "execution_count": 46,
      "outputs": [
        {
          "output_type": "execute_result",
          "data": {
            "text/plain": [
              "0.000     418353\n",
              "1.000     181174\n",
              "2.000     151317\n",
              "3.000     111689\n",
              "4.000      75957\n",
              "5.000      46115\n",
              "6.000      25977\n",
              "7.000      13450\n",
              "8.000       6752\n",
              "9.000       3463\n",
              "10.000      1749\n",
              "11.000       939\n",
              "12.000       514\n",
              "13.000       282\n",
              "14.000       195\n",
              "15.000       108\n",
              "16.000        78\n",
              "17.000        44\n",
              "18.000        37\n",
              "19.000        24\n",
              "20.000        20\n",
              "21.000        12\n",
              "22.000        12\n",
              "23.000         5\n",
              "24.000        13\n",
              "25.000         7\n",
              "26.000         4\n",
              "27.000         6\n",
              "28.000         2\n",
              "29.000         4\n",
              "30.000         1\n",
              "31.000         1\n",
              "32.000         1\n",
              "34.000         3\n",
              "35.000         1\n",
              "37.000         1\n",
              "47.000         1\n",
              "51.000         1\n",
              "nan        37936\n",
              "Name: mort_acc, dtype: int64"
            ]
          },
          "metadata": {},
          "execution_count": 46
        }
      ]
    },
    {
      "cell_type": "code",
      "source": [
        "train['mort_acc'].describe()"
      ],
      "metadata": {
        "colab": {
          "base_uri": "https://localhost:8080/"
        },
        "id": "5mbFTkfYmo2U",
        "outputId": "b2f57e1f-da48-435f-e94a-cba87ae30519"
      },
      "execution_count": 47,
      "outputs": [
        {
          "output_type": "execute_result",
          "data": {
            "text/plain": [
              "count   1038312.000\n",
              "mean          1.672\n",
              "std           1.999\n",
              "min           0.000\n",
              "25%           0.000\n",
              "50%           1.000\n",
              "75%           3.000\n",
              "max          51.000\n",
              "Name: mort_acc, dtype: float64"
            ]
          },
          "metadata": {},
          "execution_count": 47
        }
      ]
    },
    {
      "cell_type": "code",
      "source": [
        "box_plot('mort_acc')"
      ],
      "metadata": {
        "colab": {
          "base_uri": "https://localhost:8080/",
          "height": 280
        },
        "id": "NKZ0gIPfjUbv",
        "outputId": "6a3977f2-9efe-4a9a-df53-4bf108b37f26"
      },
      "execution_count": 48,
      "outputs": [
        {
          "output_type": "display_data",
          "data": {
            "image/png": "[encoded data removed]",
            "text/plain": [
              "<Figure size 432x288 with 1 Axes>"
            ]
          },
          "metadata": {
            "needs_background": "light"
          }
        }
      ]
    },
    {
      "cell_type": "markdown",
      "source": [
        "Fill NaN with mean"
      ],
      "metadata": {
        "id": "ADARapfcTNqf"
      }
    },
    {
      "cell_type": "code",
      "source": [
        "train['mort_acc'] = train['mort_acc'].fillna(train['mort_acc'].mean())\n",
        "test['mort_acc'] = test['mort_acc'].fillna(test['mort_acc'].mean())"
      ],
      "metadata": {
        "id": "NWt7wS58TMvc"
      },
      "execution_count": 49,
      "outputs": []
    },
    {
      "cell_type": "markdown",
      "source": [
        "### `revol_util`"
      ],
      "metadata": {
        "id": "-vV3GZpwTwd8"
      }
    },
    {
      "cell_type": "markdown",
      "source": [
        "Data Dictionary: Revolving line utilization rate, or the amount of credit the borrower is using relative to all available revolving credit."
      ],
      "metadata": {
        "id": "kn75hdoxT22N"
      }
    },
    {
      "cell_type": "code",
      "source": [
        "train['revol_util'].describe()"
      ],
      "metadata": {
        "colab": {
          "base_uri": "https://localhost:8080/"
        },
        "id": "6s-g2k1hT9pe",
        "outputId": "600824c0-fe74-46a8-a181-15054b124f24"
      },
      "execution_count": 50,
      "outputs": [
        {
          "output_type": "execute_result",
          "data": {
            "text/plain": [
              "count   1075576.000\n",
              "mean         51.806\n",
              "std          24.517\n",
              "min           0.000\n",
              "25%          33.500\n",
              "50%          52.200\n",
              "75%          70.700\n",
              "max         892.300\n",
              "Name: revol_util, dtype: float64"
            ]
          },
          "metadata": {},
          "execution_count": 50
        }
      ]
    },
    {
      "cell_type": "code",
      "source": [
        "box_plot('revol_util')"
      ],
      "metadata": {
        "colab": {
          "base_uri": "https://localhost:8080/",
          "height": 280
        },
        "id": "4xMaPmO3hVIx",
        "outputId": "4d355006-e685-4d4e-98c3-2470be3189bd"
      },
      "execution_count": 51,
      "outputs": [
        {
          "output_type": "display_data",
          "data": {
            "image/png": "[encoded data removed]",
            "text/plain": [
              "<Figure size 432x288 with 1 Axes>"
            ]
          },
          "metadata": {
            "needs_background": "light"
          }
        }
      ]
    },
    {
      "cell_type": "markdown",
      "source": [
        "There is a outlier for in training dataset. Don't know why this happens. Just fill NaN with mean."
      ],
      "metadata": {
        "id": "Q6PS_WligzTV"
      }
    },
    {
      "cell_type": "code",
      "source": [
        "train['revol_util'] = train['revol_util'].fillna(train['revol_util'].mean())\n",
        "test['revol_util'] = test['revol_util'].fillna(test['revol_util'].mean())"
      ],
      "metadata": {
        "id": "U9CQ6O3fg1tx"
      },
      "execution_count": 52,
      "outputs": []
    },
    {
      "cell_type": "markdown",
      "source": [
        "### `pub_rec_bankruptcies`"
      ],
      "metadata": {
        "id": "HoZHaV_3hGvc"
      }
    },
    {
      "cell_type": "markdown",
      "source": [
        "Data Dictionary: Number of public record bankruptcies"
      ],
      "metadata": {
        "id": "t0GnvdAAhKWK"
      }
    },
    {
      "cell_type": "code",
      "source": [
        "train['pub_rec_bankruptcies'].value_counts(dropna=False).sort_index()"
      ],
      "metadata": {
        "colab": {
          "base_uri": "https://localhost:8080/"
        },
        "id": "KphJL_mQhOTu",
        "outputId": "aeaa6628-dc93-4b19-89b4-7db06aa6837e"
      },
      "execution_count": 53,
      "outputs": [
        {
          "output_type": "execute_result",
          "data": {
            "text/plain": [
              "0.000     941468\n",
              "1.000     126207\n",
              "2.000       6256\n",
              "3.000       1270\n",
              "4.000        322\n",
              "5.000        114\n",
              "6.000         38\n",
              "7.000         10\n",
              "8.000          7\n",
              "9.000          3\n",
              "12.000         1\n",
              "nan          552\n",
              "Name: pub_rec_bankruptcies, dtype: int64"
            ]
          },
          "metadata": {},
          "execution_count": 53
        }
      ]
    },
    {
      "cell_type": "markdown",
      "source": [
        "Fill NaN with mean."
      ],
      "metadata": {
        "id": "UPDv0QdIn49R"
      }
    },
    {
      "cell_type": "code",
      "source": [
        "train['pub_rec_bankruptcies'] = train['pub_rec_bankruptcies'].fillna(train['pub_rec_bankruptcies'].mean())\n",
        "test['pub_rec_bankruptcies'] = test['pub_rec_bankruptcies'].fillna(test['pub_rec_bankruptcies'].mean())"
      ],
      "metadata": {
        "id": "1RQIP7YJo2u5"
      },
      "execution_count": 54,
      "outputs": []
    },
    {
      "cell_type": "markdown",
      "source": [
        "### `dti`"
      ],
      "metadata": {
        "id": "5MN0eetxpETZ"
      }
    },
    {
      "cell_type": "markdown",
      "source": [
        "Data Dictionary: A ratio calculated using the borrower’s total monthly debt payments on the total debt obligations, excluding mortgage and the requested LC loan, divided by the borrower’s self-reported monthly income."
      ],
      "metadata": {
        "id": "3SUN5Zm2pG0R"
      }
    },
    {
      "cell_type": "code",
      "source": [
        "train['dti'].describe()"
      ],
      "metadata": {
        "colab": {
          "base_uri": "https://localhost:8080/"
        },
        "id": "Z00hO4q0rq0a",
        "outputId": "bb3c1048-985a-40ed-a06b-0dddecb619c2"
      },
      "execution_count": 55,
      "outputs": [
        {
          "output_type": "execute_result",
          "data": {
            "text/plain": [
              "count   1075945.000\n",
              "mean         18.276\n",
              "std          11.035\n",
              "min          -1.000\n",
              "25%          11.790\n",
              "50%          17.620\n",
              "75%          24.050\n",
              "max         999.000\n",
              "Name: dti, dtype: float64"
            ]
          },
          "metadata": {},
          "execution_count": 55
        }
      ]
    },
    {
      "cell_type": "code",
      "source": [
        "box_plot('dti')"
      ],
      "metadata": {
        "colab": {
          "base_uri": "https://localhost:8080/",
          "height": 279
        },
        "id": "yK2z1schr249",
        "outputId": "786a8a23-3d8d-495c-d198-f7bce8b9d60e"
      },
      "execution_count": 56,
      "outputs": [
        {
          "output_type": "display_data",
          "data": {
            "image/png": "[encoded data removed]",
            "text/plain": [
              "<Figure size 432x288 with 1 Axes>"
            ]
          },
          "metadata": {
            "needs_background": "light"
          }
        }
      ]
    },
    {
      "cell_type": "markdown",
      "source": [
        "Fill null with mean."
      ],
      "metadata": {
        "id": "x7OghCvOtLzS"
      }
    },
    {
      "cell_type": "code",
      "source": [
        "train['dti'] = train['dti'].fillna(train['dti'].mean())\n",
        "test['dti'] = test['dti'].fillna(test['dti'].mean())"
      ],
      "metadata": {
        "id": "vPYoJdtdtNmh"
      },
      "execution_count": 57,
      "outputs": []
    },
    {
      "cell_type": "markdown",
      "source": [
        "Now take care of **categorical** features with missing data."
      ],
      "metadata": {
        "id": "KdSGFbyVt9Mr"
      }
    },
    {
      "cell_type": "code",
      "source": [
        "# check all the categorical feature's null value\n",
        "df.select_dtypes('object').isnull().sum().sort_values(ascending=False)"
      ],
      "metadata": {
        "colab": {
          "base_uri": "https://localhost:8080/"
        },
        "id": "3Tjf0QyGt0Pv",
        "outputId": "446e634c-803f-4d12-caef-feb20d4f126c"
      },
      "execution_count": 58,
      "outputs": [
        {
          "output_type": "execute_result",
          "data": {
            "text/plain": [
              "emp_length             78511\n",
              "zip_code                   1\n",
              "application_type           0\n",
              "initial_list_status        0\n",
              "earliest_cr_line           0\n",
              "addr_state                 0\n",
              "purpose                    0\n",
              "loan_status                0\n",
              "issue_d                    0\n",
              "verification_status        0\n",
              "home_ownership             0\n",
              "sub_grade                  0\n",
              "term                       0\n",
              "dtype: int64"
            ]
          },
          "metadata": {},
          "execution_count": 58
        }
      ]
    },
    {
      "cell_type": "markdown",
      "source": [
        "### `emp_length`"
      ],
      "metadata": {
        "id": "VpxGCbPew5Yu"
      }
    },
    {
      "cell_type": "markdown",
      "source": [
        "Data Dictionary: Employment length in years."
      ],
      "metadata": {
        "id": "vHyJaVgq0_wn"
      }
    },
    {
      "cell_type": "code",
      "source": [
        "train['emp_length'].value_counts(dropna=False).sort_index()"
      ],
      "metadata": {
        "colab": {
          "base_uri": "https://localhost:8080/"
        },
        "id": "PGXg8Wl11Gyo",
        "outputId": "04c215fc-0e3d-4355-a014-dddde02ea3db"
      },
      "execution_count": 59,
      "outputs": [
        {
          "output_type": "execute_result",
          "data": {
            "text/plain": [
              "1 year        70637\n",
              "10+ years    354019\n",
              "2 years       97274\n",
              "3 years       86036\n",
              "4 years       64396\n",
              "5 years       67305\n",
              "6 years       50122\n",
              "7 years       47768\n",
              "8 years       48588\n",
              "9 years       40725\n",
              "< 1 year      86408\n",
              "NaN           62970\n",
              "Name: emp_length, dtype: int64"
            ]
          },
          "metadata": {},
          "execution_count": 59
        }
      ]
    },
    {
      "cell_type": "code",
      "source": [
        "train['emp_length'].value_counts(dropna=False).plot.bar()"
      ],
      "metadata": {
        "colab": {
          "base_uri": "https://localhost:8080/",
          "height": 324
        },
        "id": "u-dH9SKO5-Tb",
        "outputId": "b4b6225d-0bb3-4cab-e7f8-f205e372ea63"
      },
      "execution_count": 60,
      "outputs": [
        {
          "output_type": "execute_result",
          "data": {
            "text/plain": [
              "<matplotlib.axes._subplots.AxesSubplot at 0x7fd55a617450>"
            ]
          },
          "metadata": {},
          "execution_count": 60
        },
        {
          "output_type": "display_data",
          "data": {
            "image/png": "[encoded data removed]",
            "text/plain": [
              "<Figure size 432x288 with 1 Axes>"
            ]
          },
          "metadata": {
            "needs_background": "light"
          }
        }
      ]
    },
    {
      "cell_type": "markdown",
      "source": [
        "Convert `emp_length` to floats and fill NaN with mean."
      ],
      "metadata": {
        "id": "EqtCR4CF7B_V"
      }
    },
    {
      "cell_type": "code",
      "source": [
        "train['emp_length'].replace('10+ years', '10 years', inplace=True)\n",
        "train['emp_length'].replace('< 1 year', '0 year', inplace=True)\n",
        "\n",
        "test['emp_length'].replace('10+ years', '10 years', inplace=True)\n",
        "test['emp_length'].replace('< 1 year', '0 year', inplace=True)"
      ],
      "metadata": {
        "id": "odMzD1vu6Zvd"
      },
      "execution_count": 61,
      "outputs": []
    },
    {
      "cell_type": "code",
      "source": [
        "def emp_length_to_int(year):\n",
        "  if pd.isnull(year):\n",
        "    return year\n",
        "  else:\n",
        "    return np.int(year.split()[0])"
      ],
      "metadata": {
        "id": "Zvft5ttY7-Ua"
      },
      "execution_count": 62,
      "outputs": []
    },
    {
      "cell_type": "code",
      "source": [
        "train['emp_length'] = train['emp_length'].apply(emp_length_to_int)\n",
        "test['emp_length'] = test['emp_length'].apply(emp_length_to_int)"
      ],
      "metadata": {
        "id": "3jYSYZQ68eMy"
      },
      "execution_count": 63,
      "outputs": []
    },
    {
      "cell_type": "code",
      "source": [
        "train['emp_length'] = train['emp_length'].fillna(train['emp_length'].mean())\n",
        "test['emp_length'] = test['emp_length'].fillna(test['emp_length'].mean())"
      ],
      "metadata": {
        "id": "DAqwsKRI-Ksf"
      },
      "execution_count": 64,
      "outputs": []
    },
    {
      "cell_type": "markdown",
      "source": [
        "### `zip_code`"
      ],
      "metadata": {
        "id": "GPBVnBlOAgUl"
      }
    },
    {
      "cell_type": "markdown",
      "source": [
        "Data Dictionary: The first 3 numbers of the zip code provided by the borrower in the loan application."
      ],
      "metadata": {
        "id": "O3RlfERKIxyu"
      }
    },
    {
      "cell_type": "code",
      "source": [
        "train['zip_code'].nunique()"
      ],
      "metadata": {
        "colab": {
          "base_uri": "https://localhost:8080/"
        },
        "id": "YELVpXmQqeYN",
        "outputId": "81ada247-2b3e-4997-abe0-e6c7ea7bc356"
      },
      "execution_count": 65,
      "outputs": [
        {
          "output_type": "execute_result",
          "data": {
            "text/plain": [
              "935"
            ]
          },
          "metadata": {},
          "execution_count": 65
        }
      ]
    },
    {
      "cell_type": "code",
      "source": [
        "train.loc[df['zip_code'].isnull()]"
      ],
      "metadata": {
        "colab": {
          "base_uri": "https://localhost:8080/",
          "height": 162
        },
        "id": "ssPkvf7cARve",
        "outputId": "08a683e3-c851-4db4-cd03-ae9e03519987"
      },
      "execution_count": 66,
      "outputs": [
        {
          "output_type": "execute_result",
          "data": {
            "text/html": [
              "\n",
              "  <div id=\"df-a2718890-31d2-4c2d-b35b-5485b9360545\">\n",
              "    <div class=\"colab-df-container\">\n",
              "      <div>\n",
              "<style scoped>\n",
              "    .dataframe tbody tr th:only-of-type {\n",
              "        vertical-align: middle;\n",
              "    }\n",
              "\n",
              "    .dataframe tbody tr th {\n",
              "        vertical-align: top;\n",
              "    }\n",
              "\n",
              "    .dataframe thead th {\n",
              "        text-align: right;\n",
              "    }\n",
              "</style>\n",
              "<table border=\"1\" class=\"dataframe\">\n",
              "  <thead>\n",
              "    <tr style=\"text-align: right;\">\n",
              "      <th></th>\n",
              "      <th>loan_amnt</th>\n",
              "      <th>term</th>\n",
              "      <th>int_rate</th>\n",
              "      <th>installment</th>\n",
              "      <th>sub_grade</th>\n",
              "      <th>emp_length</th>\n",
              "      <th>home_ownership</th>\n",
              "      <th>annual_inc</th>\n",
              "      <th>verification_status</th>\n",
              "      <th>issue_d</th>\n",
              "      <th>loan_status</th>\n",
              "      <th>purpose</th>\n",
              "      <th>zip_code</th>\n",
              "      <th>addr_state</th>\n",
              "      <th>dti</th>\n",
              "      <th>earliest_cr_line</th>\n",
              "      <th>open_acc</th>\n",
              "      <th>pub_rec</th>\n",
              "      <th>revol_bal</th>\n",
              "      <th>revol_util</th>\n",
              "      <th>total_acc</th>\n",
              "      <th>initial_list_status</th>\n",
              "      <th>application_type</th>\n",
              "      <th>mort_acc</th>\n",
              "      <th>pub_rec_bankruptcies</th>\n",
              "      <th>fico_score</th>\n",
              "    </tr>\n",
              "  </thead>\n",
              "  <tbody>\n",
              "    <tr>\n",
              "      <th>1736050</th>\n",
              "      <td>5600.000</td>\n",
              "      <td>36 months</td>\n",
              "      <td>15.990</td>\n",
              "      <td>196.860</td>\n",
              "      <td>C5</td>\n",
              "      <td>10.000</td>\n",
              "      <td>MORTGAGE</td>\n",
              "      <td>40000.000</td>\n",
              "      <td>Verified</td>\n",
              "      <td>Jan-2017</td>\n",
              "      <td>Fully Paid</td>\n",
              "      <td>debt_consolidation</td>\n",
              "      <td>NaN</td>\n",
              "      <td>AL</td>\n",
              "      <td>22.860</td>\n",
              "      <td>Jul-2005</td>\n",
              "      <td>8.000</td>\n",
              "      <td>1.000</td>\n",
              "      <td>7129.000</td>\n",
              "      <td>68.500</td>\n",
              "      <td>18.000</td>\n",
              "      <td>f</td>\n",
              "      <td>Individual</td>\n",
              "      <td>4.000</td>\n",
              "      <td>1.000</td>\n",
              "      <td>672.000</td>\n",
              "    </tr>\n",
              "  </tbody>\n",
              "</table>\n",
              "</div>\n",
              "      <button class=\"colab-df-convert\" onclick=\"convertToInteractive('df-a2718890-31d2-4c2d-b35b-5485b9360545')\"\n",
              "              title=\"Convert this dataframe to an interactive table.\"\n",
              "              style=\"display:none;\">\n",
              "        \n",
              "  <svg xmlns=\"http://www.w3.org/2000/svg\" height=\"24px\"viewBox=\"0 0 24 24\"\n",
              "       width=\"24px\">\n",
              "    <path d=\"M0 0h24v24H0V0z\" fill=\"none\"/>\n",
              "    <path d=\"M18.56 5.44l.94 2.06.94-2.06 2.06-.94-2.06-.94-.94-2.06-.94 2.06-2.06.94zm-11 1L8.5 8.5l.94-2.06 2.06-.94-2.06-.94L8.5 2.5l-.94 2.06-2.06.94zm10 10l.94 2.06.94-2.06 2.06-.94-2.06-.94-.94-2.06-.94 2.06-2.06.94z\"/><path d=\"M17.41 7.96l-1.37-1.37c-.4-.4-.92-.59-1.43-.59-.52 0-1.04.2-1.43.59L10.3 9.45l-7.72 7.72c-.78.78-.78 2.05 0 2.83L4 21.41c.39.39.9.59 1.41.59.51 0 1.02-.2 1.41-.59l7.78-7.78 2.81-2.81c.8-.78.8-2.07 0-2.86zM5.41 20L4 18.59l7.72-7.72 1.47 1.35L5.41 20z\"/>\n",
              "  </svg>\n",
              "      </button>\n",
              "      \n",
              "  <style>\n",
              "    .colab-df-container {\n",
              "      display:flex;\n",
              "      flex-wrap:wrap;\n",
              "      gap: 12px;\n",
              "    }\n",
              "\n",
              "    .colab-df-convert {\n",
              "      background-color: #E8F0FE;\n",
              "      border: none;\n",
              "      border-radius: 50%;\n",
              "      cursor: pointer;\n",
              "      display: none;\n",
              "      fill: #1967D2;\n",
              "      height: 32px;\n",
              "      padding: 0 0 0 0;\n",
              "      width: 32px;\n",
              "    }\n",
              "\n",
              "    .colab-df-convert:hover {\n",
              "      background-color: #E2EBFA;\n",
              "      box-shadow: 0px 1px 2px rgba(60, 64, 67, 0.3), 0px 1px 3px 1px rgba(60, 64, 67, 0.15);\n",
              "      fill: #174EA6;\n",
              "    }\n",
              "\n",
              "    [theme=dark] .colab-df-convert {\n",
              "      background-color: #3B4455;\n",
              "      fill: #D2E3FC;\n",
              "    }\n",
              "\n",
              "    [theme=dark] .colab-df-convert:hover {\n",
              "      background-color: #434B5C;\n",
              "      box-shadow: 0px 1px 3px 1px rgba(0, 0, 0, 0.15);\n",
              "      filter: drop-shadow(0px 1px 2px rgba(0, 0, 0, 0.3));\n",
              "      fill: #FFFFFF;\n",
              "    }\n",
              "  </style>\n",
              "\n",
              "      <script>\n",
              "        const buttonEl =\n",
              "          document.querySelector('#df-a2718890-31d2-4c2d-b35b-5485b9360545 button.colab-df-convert');\n",
              "        buttonEl.style.display =\n",
              "          google.colab.kernel.accessAllowed ? 'block' : 'none';\n",
              "\n",
              "        async function convertToInteractive(key) {\n",
              "          const element = document.querySelector('#df-a2718890-31d2-4c2d-b35b-5485b9360545');\n",
              "          const dataTable =\n",
              "            await google.colab.kernel.invokeFunction('convertToInteractive',\n",
              "                                                     [key], {});\n",
              "          if (!dataTable) return;\n",
              "\n",
              "          const docLinkHtml = 'Like what you see? Visit the ' +\n",
              "            '<a target=\"_blank\" href=https://colab.research.google.com/notebooks/data_table.ipynb>data table notebook</a>'\n",
              "            + ' to learn more about interactive tables.';\n",
              "          element.innerHTML = '';\n",
              "          dataTable['output_type'] = 'display_data';\n",
              "          await google.colab.output.renderOutput(dataTable, element);\n",
              "          const docLink = document.createElement('div');\n",
              "          docLink.innerHTML = docLinkHtml;\n",
              "          element.appendChild(docLink);\n",
              "        }\n",
              "      </script>\n",
              "    </div>\n",
              "  </div>\n",
              "  "
            ],
            "text/plain": [
              "         loan_amnt        term  int_rate  installment sub_grade  emp_length  \\\n",
              "1736050   5600.000   36 months    15.990      196.860        C5      10.000   \n",
              "\n",
              "        home_ownership  annual_inc verification_status   issue_d loan_status  \\\n",
              "1736050       MORTGAGE   40000.000            Verified  Jan-2017  Fully Paid   \n",
              "\n",
              "                    purpose zip_code addr_state    dti earliest_cr_line  \\\n",
              "1736050  debt_consolidation      NaN         AL 22.860         Jul-2005   \n",
              "\n",
              "         open_acc  pub_rec  revol_bal  revol_util  total_acc  \\\n",
              "1736050     8.000    1.000   7129.000      68.500     18.000   \n",
              "\n",
              "        initial_list_status application_type  mort_acc  pub_rec_bankruptcies  \\\n",
              "1736050                   f       Individual     4.000                 1.000   \n",
              "\n",
              "         fico_score  \n",
              "1736050     672.000  "
            ]
          },
          "metadata": {},
          "execution_count": 66
        }
      ]
    },
    {
      "cell_type": "markdown",
      "source": [
        "There is only one borrower whose zipcode is NaN in training and testing. Drop it."
      ],
      "metadata": {
        "id": "3sDvF7q-A2Vy"
      }
    },
    {
      "cell_type": "code",
      "source": [
        "train = train.dropna(subset=['zip_code'])"
      ],
      "metadata": {
        "id": "HLm_z0hMA-2i"
      },
      "execution_count": 67,
      "outputs": []
    },
    {
      "cell_type": "code",
      "source": [
        "# Since there are too many zip code to be transform to dummy value, drop it for now\n",
        "train.drop(columns='zip_code', inplace=True)\n",
        "test.drop(columns='zip_code', inplace=True)"
      ],
      "metadata": {
        "id": "fuZcLnUU1WOB"
      },
      "execution_count": 68,
      "outputs": []
    },
    {
      "cell_type": "code",
      "source": [
        "train.shape"
      ],
      "metadata": {
        "colab": {
          "base_uri": "https://localhost:8080/"
        },
        "id": "RrSrEgIlCrm2",
        "outputId": "934df4bd-ef01-4e88-e962-c1f328b8e0bb"
      },
      "execution_count": 69,
      "outputs": [
        {
          "output_type": "execute_result",
          "data": {
            "text/plain": [
              "(1076247, 25)"
            ]
          },
          "metadata": {},
          "execution_count": 69
        }
      ]
    },
    {
      "cell_type": "code",
      "source": [
        "test.shape"
      ],
      "metadata": {
        "colab": {
          "base_uri": "https://localhost:8080/"
        },
        "id": "Ddcyl_MA5b_M",
        "outputId": "4fca1d6b-974c-4426-87d0-04ff50049951"
      },
      "execution_count": 70,
      "outputs": [
        {
          "output_type": "execute_result",
          "data": {
            "text/plain": [
              "(269062, 25)"
            ]
          },
          "metadata": {},
          "execution_count": 70
        }
      ]
    },
    {
      "cell_type": "code",
      "source": [
        "train.isna().any()"
      ],
      "metadata": {
        "colab": {
          "base_uri": "https://localhost:8080/"
        },
        "id": "0LJOfRwIDZZt",
        "outputId": "d0a16d37-75af-4998-dd48-d0131aa3e6fe"
      },
      "execution_count": 71,
      "outputs": [
        {
          "output_type": "execute_result",
          "data": {
            "text/plain": [
              "loan_amnt               False\n",
              "term                    False\n",
              "int_rate                False\n",
              "installment             False\n",
              "sub_grade               False\n",
              "emp_length              False\n",
              "home_ownership          False\n",
              "annual_inc              False\n",
              "verification_status     False\n",
              "issue_d                 False\n",
              "loan_status             False\n",
              "purpose                 False\n",
              "addr_state              False\n",
              "dti                     False\n",
              "earliest_cr_line        False\n",
              "open_acc                False\n",
              "pub_rec                 False\n",
              "revol_bal               False\n",
              "revol_util              False\n",
              "total_acc               False\n",
              "initial_list_status     False\n",
              "application_type        False\n",
              "mort_acc                False\n",
              "pub_rec_bankruptcies    False\n",
              "fico_score              False\n",
              "dtype: bool"
            ]
          },
          "metadata": {},
          "execution_count": 71
        }
      ]
    },
    {
      "cell_type": "code",
      "source": [
        "test.isna().any()"
      ],
      "metadata": {
        "colab": {
          "base_uri": "https://localhost:8080/"
        },
        "id": "VgM9BUc_57C4",
        "outputId": "e8b37f19-730f-4f79-c22b-c1ffafe611e0"
      },
      "execution_count": 72,
      "outputs": [
        {
          "output_type": "execute_result",
          "data": {
            "text/plain": [
              "loan_amnt               False\n",
              "term                    False\n",
              "int_rate                False\n",
              "installment             False\n",
              "sub_grade               False\n",
              "emp_length              False\n",
              "home_ownership          False\n",
              "annual_inc              False\n",
              "verification_status     False\n",
              "issue_d                 False\n",
              "loan_status             False\n",
              "purpose                 False\n",
              "addr_state              False\n",
              "dti                     False\n",
              "earliest_cr_line        False\n",
              "open_acc                False\n",
              "pub_rec                 False\n",
              "revol_bal               False\n",
              "revol_util              False\n",
              "total_acc               False\n",
              "initial_list_status     False\n",
              "application_type        False\n",
              "mort_acc                False\n",
              "pub_rec_bankruptcies    False\n",
              "fico_score              False\n",
              "dtype: bool"
            ]
          },
          "metadata": {},
          "execution_count": 72
        }
      ]
    },
    {
      "cell_type": "markdown",
      "source": [
        "## Part 4.2: Catogorical features"
      ],
      "metadata": {
        "id": "Jy5GsemHtqK8"
      }
    },
    {
      "cell_type": "code",
      "source": [
        "train.dtypes.sort_values()"
      ],
      "metadata": {
        "colab": {
          "base_uri": "https://localhost:8080/"
        },
        "id": "ZcVZUo4t03d6",
        "outputId": "1a9cbb3e-0d3f-4955-9d36-0bf9905d61ec"
      },
      "execution_count": 73,
      "outputs": [
        {
          "output_type": "execute_result",
          "data": {
            "text/plain": [
              "loan_amnt               float64\n",
              "mort_acc                float64\n",
              "total_acc               float64\n",
              "revol_util              float64\n",
              "revol_bal               float64\n",
              "pub_rec                 float64\n",
              "open_acc                float64\n",
              "dti                     float64\n",
              "pub_rec_bankruptcies    float64\n",
              "fico_score              float64\n",
              "annual_inc              float64\n",
              "emp_length              float64\n",
              "installment             float64\n",
              "int_rate                float64\n",
              "loan_status              object\n",
              "purpose                  object\n",
              "verification_status      object\n",
              "earliest_cr_line         object\n",
              "home_ownership           object\n",
              "sub_grade                object\n",
              "initial_list_status      object\n",
              "application_type         object\n",
              "term                     object\n",
              "issue_d                  object\n",
              "addr_state               object\n",
              "dtype: object"
            ]
          },
          "metadata": {},
          "execution_count": 73
        }
      ]
    },
    {
      "cell_type": "markdown",
      "source": [
        "### `earliest_cr_line`"
      ],
      "metadata": {
        "id": "gbGK9afy_YNT"
      }
    },
    {
      "cell_type": "markdown",
      "source": [
        "Data Dictionary: The month the borrower's earliest reported credit line was opened"
      ],
      "metadata": {
        "id": "7s_qX6AYQTZ8"
      }
    },
    {
      "cell_type": "code",
      "source": [
        "train['earliest_cr_line'].sample(5)"
      ],
      "metadata": {
        "colab": {
          "base_uri": "https://localhost:8080/"
        },
        "id": "pVkLUR2w_qvO",
        "outputId": "f643f2f8-7917-462d-bafc-f5190179639d"
      },
      "execution_count": 74,
      "outputs": [
        {
          "output_type": "execute_result",
          "data": {
            "text/plain": [
              "74926      Dec-2006\n",
              "255991     Jun-2010\n",
              "1334155    Aug-1995\n",
              "1015597    Aug-1987\n",
              "1059857    Nov-1991\n",
              "Name: earliest_cr_line, dtype: object"
            ]
          },
          "metadata": {},
          "execution_count": 74
        }
      ]
    },
    {
      "cell_type": "code",
      "source": [
        "df['earliest_cr_line'].nunique()"
      ],
      "metadata": {
        "colab": {
          "base_uri": "https://localhost:8080/"
        },
        "id": "ZpahO8fN-bqe",
        "outputId": "2e9cfa85-1a97-464f-fb97-fcb926820db9"
      },
      "execution_count": 75,
      "outputs": [
        {
          "output_type": "execute_result",
          "data": {
            "text/plain": [
              "739"
            ]
          },
          "metadata": {},
          "execution_count": 75
        }
      ]
    },
    {
      "cell_type": "markdown",
      "source": [
        "Let's just retain the year for simplicity:"
      ],
      "metadata": {
        "id": "T4hi2e0G_yeu"
      }
    },
    {
      "cell_type": "code",
      "source": [
        "train['cr_line_year'] = train['earliest_cr_line'].apply(lambda s: int(s[-4:]))\n",
        "test['cr_line_year'] = test['earliest_cr_line'].apply(lambda s: int(s[-4:]))"
      ],
      "metadata": {
        "id": "fcsEu1uMAAY8"
      },
      "execution_count": 76,
      "outputs": []
    },
    {
      "cell_type": "code",
      "source": [
        "train['cr_line_year'].describe([.1, .2, .3, .4, .5, .6, .7, .8, .9])"
      ],
      "metadata": {
        "colab": {
          "base_uri": "https://localhost:8080/"
        },
        "id": "GY6kxdisDWkn",
        "outputId": "bb40189f-983e-427c-d05f-c4e098ab908e"
      },
      "execution_count": 77,
      "outputs": [
        {
          "output_type": "execute_result",
          "data": {
            "text/plain": [
              "count   1076247.000\n",
              "mean       1998.691\n",
              "std           7.599\n",
              "min        1944.000\n",
              "10%        1988.000\n",
              "20%        1993.000\n",
              "30%        1996.000\n",
              "40%        1998.000\n",
              "50%        2000.000\n",
              "60%        2002.000\n",
              "70%        2003.000\n",
              "80%        2005.000\n",
              "90%        2007.000\n",
              "max        2015.000\n",
              "Name: cr_line_year, dtype: float64"
            ]
          },
          "metadata": {},
          "execution_count": 77
        }
      ]
    },
    {
      "cell_type": "code",
      "source": [
        "sns.histplot(train['cr_line_year'], bins=range(1944, 2015, 1))"
      ],
      "metadata": {
        "colab": {
          "base_uri": "https://localhost:8080/",
          "height": 297
        },
        "id": "yoPvWq4xID5I",
        "outputId": "6b3fca3d-6e40-4c70-bda0-334cac02a1a3"
      },
      "execution_count": 78,
      "outputs": [
        {
          "output_type": "execute_result",
          "data": {
            "text/plain": [
              "<matplotlib.axes._subplots.AxesSubplot at 0x7fd558b4da50>"
            ]
          },
          "metadata": {},
          "execution_count": 78
        },
        {
          "output_type": "display_data",
          "data": {
            "image/png": "[encoded data removed]",
            "text/plain": [
              "<Figure size 432x288 with 1 Axes>"
            ]
          },
          "metadata": {
            "needs_background": "light"
          }
        }
      ]
    },
    {
      "cell_type": "code",
      "source": [
        "# bin_year = train['cr_line_year'].quantile([.1, .2, .3, .4, .5, .6, .7, .8, .9]).values.astype(int)\n",
        "# bin_year"
      ],
      "metadata": {
        "id": "kGPRxxHcAd75"
      },
      "execution_count": 79,
      "outputs": []
    },
    {
      "cell_type": "code",
      "source": [
        "train['cr_line_year'].dtypes"
      ],
      "metadata": {
        "colab": {
          "base_uri": "https://localhost:8080/"
        },
        "id": "l5L6zj0xUAeF",
        "outputId": "ff65afec-fd80-48f1-9c16-2e546fc4ae35"
      },
      "execution_count": 80,
      "outputs": [
        {
          "output_type": "execute_result",
          "data": {
            "text/plain": [
              "dtype('int64')"
            ]
          },
          "metadata": {},
          "execution_count": 80
        }
      ]
    },
    {
      "cell_type": "code",
      "source": [
        "# all_bin_year = [train['cr_line_year'].min()]\n",
        "# all_bin_year.extend(bin_year)\n",
        "# all_bin_year.append(train['cr_line_year'].max())\n",
        "# all_bin_year"
      ],
      "metadata": {
        "id": "mBZhXizUC4xs"
      },
      "execution_count": 81,
      "outputs": []
    },
    {
      "cell_type": "code",
      "source": [
        "# # make year range labels\n",
        "# year_range = []\n",
        "# for i in range(len(all_bin_year) - 1):\n",
        "#   year = '{}-{}'.format(all_bin_year[i], all_bin_year[i+1])\n",
        "#   year_range.append(year)\n",
        "# year_range"
      ],
      "metadata": {
        "id": "ZLagfybgFPED"
      },
      "execution_count": 82,
      "outputs": []
    },
    {
      "cell_type": "code",
      "source": [
        "# train['cr_line_year_bin'] = pd.cut(train['cr_line_year'], all_bin_year, labels=year_range)\n",
        "# test['cr_line_year_bin'] = pd.cut(test['cr_line_year'], all_bin_year, labels=year_range)\n",
        "train.drop(columns=['earliest_cr_line'], inplace=True)\n",
        "test.drop(columns=['earliest_cr_line'], inplace=True)\n",
        "train.head()"
      ],
      "metadata": {
        "colab": {
          "base_uri": "https://localhost:8080/",
          "height": 357
        },
        "id": "RwTnPYotE221",
        "outputId": "082391e7-60c7-439d-fc04-28e8b1756b4a"
      },
      "execution_count": 83,
      "outputs": [
        {
          "output_type": "execute_result",
          "data": {
            "text/html": [
              "\n",
              "  <div id=\"df-dd169412-eebc-4873-adcb-25ab171c3bea\">\n",
              "    <div class=\"colab-df-container\">\n",
              "      <div>\n",
              "<style scoped>\n",
              "    .dataframe tbody tr th:only-of-type {\n",
              "        vertical-align: middle;\n",
              "    }\n",
              "\n",
              "    .dataframe tbody tr th {\n",
              "        vertical-align: top;\n",
              "    }\n",
              "\n",
              "    .dataframe thead th {\n",
              "        text-align: right;\n",
              "    }\n",
              "</style>\n",
              "<table border=\"1\" class=\"dataframe\">\n",
              "  <thead>\n",
              "    <tr style=\"text-align: right;\">\n",
              "      <th></th>\n",
              "      <th>loan_amnt</th>\n",
              "      <th>term</th>\n",
              "      <th>int_rate</th>\n",
              "      <th>installment</th>\n",
              "      <th>sub_grade</th>\n",
              "      <th>emp_length</th>\n",
              "      <th>home_ownership</th>\n",
              "      <th>annual_inc</th>\n",
              "      <th>verification_status</th>\n",
              "      <th>issue_d</th>\n",
              "      <th>loan_status</th>\n",
              "      <th>purpose</th>\n",
              "      <th>addr_state</th>\n",
              "      <th>dti</th>\n",
              "      <th>open_acc</th>\n",
              "      <th>pub_rec</th>\n",
              "      <th>revol_bal</th>\n",
              "      <th>revol_util</th>\n",
              "      <th>total_acc</th>\n",
              "      <th>initial_list_status</th>\n",
              "      <th>application_type</th>\n",
              "      <th>mort_acc</th>\n",
              "      <th>pub_rec_bankruptcies</th>\n",
              "      <th>fico_score</th>\n",
              "      <th>cr_line_year</th>\n",
              "    </tr>\n",
              "  </thead>\n",
              "  <tbody>\n",
              "    <tr>\n",
              "      <th>1959284</th>\n",
              "      <td>36750.000</td>\n",
              "      <td>60 months</td>\n",
              "      <td>22.390</td>\n",
              "      <td>1023.170</td>\n",
              "      <td>E1</td>\n",
              "      <td>9.000</td>\n",
              "      <td>MORTGAGE</td>\n",
              "      <td>84000.000</td>\n",
              "      <td>Verified</td>\n",
              "      <td>Sep-2016</td>\n",
              "      <td>Fully Paid</td>\n",
              "      <td>debt_consolidation</td>\n",
              "      <td>IN</td>\n",
              "      <td>25.130</td>\n",
              "      <td>13.000</td>\n",
              "      <td>5.000</td>\n",
              "      <td>19109.000</td>\n",
              "      <td>53.700</td>\n",
              "      <td>18.000</td>\n",
              "      <td>w</td>\n",
              "      <td>Joint App</td>\n",
              "      <td>1.000</td>\n",
              "      <td>0.000</td>\n",
              "      <td>712.000</td>\n",
              "      <td>2001</td>\n",
              "    </tr>\n",
              "    <tr>\n",
              "      <th>388387</th>\n",
              "      <td>10000.000</td>\n",
              "      <td>36 months</td>\n",
              "      <td>11.440</td>\n",
              "      <td>329.480</td>\n",
              "      <td>B4</td>\n",
              "      <td>5.000</td>\n",
              "      <td>RENT</td>\n",
              "      <td>50000.000</td>\n",
              "      <td>Source Verified</td>\n",
              "      <td>Jan-2015</td>\n",
              "      <td>Fully Paid</td>\n",
              "      <td>credit_card</td>\n",
              "      <td>FL</td>\n",
              "      <td>6.700</td>\n",
              "      <td>5.000</td>\n",
              "      <td>1.000</td>\n",
              "      <td>6716.000</td>\n",
              "      <td>79.000</td>\n",
              "      <td>8.000</td>\n",
              "      <td>f</td>\n",
              "      <td>Individual</td>\n",
              "      <td>0.000</td>\n",
              "      <td>1.000</td>\n",
              "      <td>667.000</td>\n",
              "      <td>2005</td>\n",
              "    </tr>\n",
              "    <tr>\n",
              "      <th>700527</th>\n",
              "      <td>4200.000</td>\n",
              "      <td>36 months</td>\n",
              "      <td>9.750</td>\n",
              "      <td>135.030</td>\n",
              "      <td>B3</td>\n",
              "      <td>5.969</td>\n",
              "      <td>MORTGAGE</td>\n",
              "      <td>49200.000</td>\n",
              "      <td>Source Verified</td>\n",
              "      <td>May-2016</td>\n",
              "      <td>Fully Paid</td>\n",
              "      <td>home_improvement</td>\n",
              "      <td>AL</td>\n",
              "      <td>3.240</td>\n",
              "      <td>3.000</td>\n",
              "      <td>0.000</td>\n",
              "      <td>5504.000</td>\n",
              "      <td>54.500</td>\n",
              "      <td>6.000</td>\n",
              "      <td>f</td>\n",
              "      <td>Individual</td>\n",
              "      <td>3.000</td>\n",
              "      <td>0.000</td>\n",
              "      <td>782.000</td>\n",
              "      <td>2000</td>\n",
              "    </tr>\n",
              "    <tr>\n",
              "      <th>2138115</th>\n",
              "      <td>6000.000</td>\n",
              "      <td>36 months</td>\n",
              "      <td>14.080</td>\n",
              "      <td>205.300</td>\n",
              "      <td>C3</td>\n",
              "      <td>5.969</td>\n",
              "      <td>OWN</td>\n",
              "      <td>18720.000</td>\n",
              "      <td>Source Verified</td>\n",
              "      <td>Oct-2017</td>\n",
              "      <td>Fully Paid</td>\n",
              "      <td>debt_consolidation</td>\n",
              "      <td>MO</td>\n",
              "      <td>9.100</td>\n",
              "      <td>4.000</td>\n",
              "      <td>1.000</td>\n",
              "      <td>4787.000</td>\n",
              "      <td>68.400</td>\n",
              "      <td>6.000</td>\n",
              "      <td>w</td>\n",
              "      <td>Individual</td>\n",
              "      <td>1.000</td>\n",
              "      <td>1.000</td>\n",
              "      <td>662.000</td>\n",
              "      <td>2000</td>\n",
              "    </tr>\n",
              "    <tr>\n",
              "      <th>203873</th>\n",
              "      <td>7650.000</td>\n",
              "      <td>36 months</td>\n",
              "      <td>14.650</td>\n",
              "      <td>263.890</td>\n",
              "      <td>C5</td>\n",
              "      <td>1.000</td>\n",
              "      <td>OWN</td>\n",
              "      <td>40000.000</td>\n",
              "      <td>Not Verified</td>\n",
              "      <td>Jul-2015</td>\n",
              "      <td>Charged Off</td>\n",
              "      <td>home_improvement</td>\n",
              "      <td>KS</td>\n",
              "      <td>14.400</td>\n",
              "      <td>7.000</td>\n",
              "      <td>1.000</td>\n",
              "      <td>1849.000</td>\n",
              "      <td>24.000</td>\n",
              "      <td>28.000</td>\n",
              "      <td>f</td>\n",
              "      <td>Individual</td>\n",
              "      <td>6.000</td>\n",
              "      <td>1.000</td>\n",
              "      <td>672.000</td>\n",
              "      <td>1992</td>\n",
              "    </tr>\n",
              "  </tbody>\n",
              "</table>\n",
              "</div>\n",
              "      <button class=\"colab-df-convert\" onclick=\"convertToInteractive('df-dd169412-eebc-4873-adcb-25ab171c3bea')\"\n",
              "              title=\"Convert this dataframe to an interactive table.\"\n",
              "              style=\"display:none;\">\n",
              "        \n",
              "  <svg xmlns=\"http://www.w3.org/2000/svg\" height=\"24px\"viewBox=\"0 0 24 24\"\n",
              "       width=\"24px\">\n",
              "    <path d=\"M0 0h24v24H0V0z\" fill=\"none\"/>\n",
              "    <path d=\"M18.56 5.44l.94 2.06.94-2.06 2.06-.94-2.06-.94-.94-2.06-.94 2.06-2.06.94zm-11 1L8.5 8.5l.94-2.06 2.06-.94-2.06-.94L8.5 2.5l-.94 2.06-2.06.94zm10 10l.94 2.06.94-2.06 2.06-.94-2.06-.94-.94-2.06-.94 2.06-2.06.94z\"/><path d=\"M17.41 7.96l-1.37-1.37c-.4-.4-.92-.59-1.43-.59-.52 0-1.04.2-1.43.59L10.3 9.45l-7.72 7.72c-.78.78-.78 2.05 0 2.83L4 21.41c.39.39.9.59 1.41.59.51 0 1.02-.2 1.41-.59l7.78-7.78 2.81-2.81c.8-.78.8-2.07 0-2.86zM5.41 20L4 18.59l7.72-7.72 1.47 1.35L5.41 20z\"/>\n",
              "  </svg>\n",
              "      </button>\n",
              "      \n",
              "  <style>\n",
              "    .colab-df-container {\n",
              "      display:flex;\n",
              "      flex-wrap:wrap;\n",
              "      gap: 12px;\n",
              "    }\n",
              "\n",
              "    .colab-df-convert {\n",
              "      background-color: #E8F0FE;\n",
              "      border: none;\n",
              "      border-radius: 50%;\n",
              "      cursor: pointer;\n",
              "      display: none;\n",
              "      fill: #1967D2;\n",
              "      height: 32px;\n",
              "      padding: 0 0 0 0;\n",
              "      width: 32px;\n",
              "    }\n",
              "\n",
              "    .colab-df-convert:hover {\n",
              "      background-color: #E2EBFA;\n",
              "      box-shadow: 0px 1px 2px rgba(60, 64, 67, 0.3), 0px 1px 3px 1px rgba(60, 64, 67, 0.15);\n",
              "      fill: #174EA6;\n",
              "    }\n",
              "\n",
              "    [theme=dark] .colab-df-convert {\n",
              "      background-color: #3B4455;\n",
              "      fill: #D2E3FC;\n",
              "    }\n",
              "\n",
              "    [theme=dark] .colab-df-convert:hover {\n",
              "      background-color: #434B5C;\n",
              "      box-shadow: 0px 1px 3px 1px rgba(0, 0, 0, 0.15);\n",
              "      filter: drop-shadow(0px 1px 2px rgba(0, 0, 0, 0.3));\n",
              "      fill: #FFFFFF;\n",
              "    }\n",
              "  </style>\n",
              "\n",
              "      <script>\n",
              "        const buttonEl =\n",
              "          document.querySelector('#df-dd169412-eebc-4873-adcb-25ab171c3bea button.colab-df-convert');\n",
              "        buttonEl.style.display =\n",
              "          google.colab.kernel.accessAllowed ? 'block' : 'none';\n",
              "\n",
              "        async function convertToInteractive(key) {\n",
              "          const element = document.querySelector('#df-dd169412-eebc-4873-adcb-25ab171c3bea');\n",
              "          const dataTable =\n",
              "            await google.colab.kernel.invokeFunction('convertToInteractive',\n",
              "                                                     [key], {});\n",
              "          if (!dataTable) return;\n",
              "\n",
              "          const docLinkHtml = 'Like what you see? Visit the ' +\n",
              "            '<a target=\"_blank\" href=https://colab.research.google.com/notebooks/data_table.ipynb>data table notebook</a>'\n",
              "            + ' to learn more about interactive tables.';\n",
              "          element.innerHTML = '';\n",
              "          dataTable['output_type'] = 'display_data';\n",
              "          await google.colab.output.renderOutput(dataTable, element);\n",
              "          const docLink = document.createElement('div');\n",
              "          docLink.innerHTML = docLinkHtml;\n",
              "          element.appendChild(docLink);\n",
              "        }\n",
              "      </script>\n",
              "    </div>\n",
              "  </div>\n",
              "  "
            ],
            "text/plain": [
              "         loan_amnt        term  int_rate  installment sub_grade  emp_length  \\\n",
              "1959284  36750.000   60 months    22.390     1023.170        E1       9.000   \n",
              "388387   10000.000   36 months    11.440      329.480        B4       5.000   \n",
              "700527    4200.000   36 months     9.750      135.030        B3       5.969   \n",
              "2138115   6000.000   36 months    14.080      205.300        C3       5.969   \n",
              "203873    7650.000   36 months    14.650      263.890        C5       1.000   \n",
              "\n",
              "        home_ownership  annual_inc verification_status   issue_d  loan_status  \\\n",
              "1959284       MORTGAGE   84000.000            Verified  Sep-2016   Fully Paid   \n",
              "388387            RENT   50000.000     Source Verified  Jan-2015   Fully Paid   \n",
              "700527        MORTGAGE   49200.000     Source Verified  May-2016   Fully Paid   \n",
              "2138115            OWN   18720.000     Source Verified  Oct-2017   Fully Paid   \n",
              "203873             OWN   40000.000        Not Verified  Jul-2015  Charged Off   \n",
              "\n",
              "                    purpose addr_state    dti  open_acc  pub_rec  revol_bal  \\\n",
              "1959284  debt_consolidation         IN 25.130    13.000    5.000  19109.000   \n",
              "388387          credit_card         FL  6.700     5.000    1.000   6716.000   \n",
              "700527     home_improvement         AL  3.240     3.000    0.000   5504.000   \n",
              "2138115  debt_consolidation         MO  9.100     4.000    1.000   4787.000   \n",
              "203873     home_improvement         KS 14.400     7.000    1.000   1849.000   \n",
              "\n",
              "         revol_util  total_acc initial_list_status application_type  mort_acc  \\\n",
              "1959284      53.700     18.000                   w        Joint App     1.000   \n",
              "388387       79.000      8.000                   f       Individual     0.000   \n",
              "700527       54.500      6.000                   f       Individual     3.000   \n",
              "2138115      68.400      6.000                   w       Individual     1.000   \n",
              "203873       24.000     28.000                   f       Individual     6.000   \n",
              "\n",
              "         pub_rec_bankruptcies  fico_score  cr_line_year  \n",
              "1959284                 0.000     712.000          2001  \n",
              "388387                  1.000     667.000          2005  \n",
              "700527                  0.000     782.000          2000  \n",
              "2138115                 1.000     662.000          2000  \n",
              "203873                  1.000     672.000          1992  "
            ]
          },
          "metadata": {},
          "execution_count": 83
        }
      ]
    },
    {
      "cell_type": "markdown",
      "source": [
        "### `issue_d`"
      ],
      "metadata": {
        "id": "7KTuAwouPpsd"
      }
    },
    {
      "cell_type": "markdown",
      "source": [
        "Data Dictionary: The month which the loan was funded.\n",
        "\n",
        "Take care of it similar to `earliest_cr_line`"
      ],
      "metadata": {
        "id": "FJ3umsGyQQwR"
      }
    },
    {
      "cell_type": "code",
      "source": [
        "train['issue_d'].sample(5)"
      ],
      "metadata": {
        "colab": {
          "base_uri": "https://localhost:8080/"
        },
        "id": "NjQjEzjzk1JN",
        "outputId": "923842e8-63e5-4059-eceb-b029f21382fe"
      },
      "execution_count": 84,
      "outputs": [
        {
          "output_type": "execute_result",
          "data": {
            "text/plain": [
              "209306     Jul-2015\n",
              "296935     May-2015\n",
              "1201187    Sep-2014\n",
              "1523949    May-2018\n",
              "1326622    Feb-2014\n",
              "Name: issue_d, dtype: object"
            ]
          },
          "metadata": {},
          "execution_count": 84
        }
      ]
    },
    {
      "cell_type": "code",
      "source": [
        "train['issue_year'] = train['issue_d'].apply(lambda s: int(s[-4:]))\n",
        "test['issue_year'] = test['issue_d'].apply(lambda s: int(s[-4:]))\n",
        "train['issue_year'].value_counts().sort_index()"
      ],
      "metadata": {
        "colab": {
          "base_uri": "https://localhost:8080/"
        },
        "id": "cT8X3NJuQQe4",
        "outputId": "cde1dae8-7539-49de-b2d0-bb2fb069b75a"
      },
      "execution_count": 85,
      "outputs": [
        {
          "output_type": "execute_result",
          "data": {
            "text/plain": [
              "2007       197\n",
              "2008      1253\n",
              "2009      3788\n",
              "2010      9235\n",
              "2011     17415\n",
              "2012     42952\n",
              "2013    107625\n",
              "2014    178399\n",
              "2015    300524\n",
              "2016    234612\n",
              "2017    135319\n",
              "2018     44928\n",
              "Name: issue_year, dtype: int64"
            ]
          },
          "metadata": {},
          "execution_count": 85
        }
      ]
    },
    {
      "cell_type": "code",
      "source": [
        "sns.countplot(train['issue_year'])"
      ],
      "metadata": {
        "colab": {
          "base_uri": "https://localhost:8080/",
          "height": 352
        },
        "id": "WKaB0K2ZGd3A",
        "outputId": "9419d4e5-52d3-40ce-d8f4-1fd8ab497835"
      },
      "execution_count": 86,
      "outputs": [
        {
          "output_type": "stream",
          "name": "stderr",
          "text": [
            "/usr/local/lib/python3.7/dist-packages/seaborn/_decorators.py:43: FutureWarning: Pass the following variable as a keyword arg: x. From version 0.12, the only valid positional argument will be `data`, and passing other arguments without an explicit keyword will result in an error or misinterpretation.\n",
            "  FutureWarning\n"
          ]
        },
        {
          "output_type": "execute_result",
          "data": {
            "text/plain": [
              "<matplotlib.axes._subplots.AxesSubplot at 0x7fd55bec05d0>"
            ]
          },
          "metadata": {},
          "execution_count": 86
        },
        {
          "output_type": "display_data",
          "data": {
            "image/png": "[encoded data removed]",
            "text/plain": [
              "<Figure size 432x288 with 1 Axes>"
            ]
          },
          "metadata": {
            "needs_background": "light"
          }
        }
      ]
    },
    {
      "cell_type": "code",
      "source": [
        "train = train.drop(columns='issue_d')\n",
        "test = test.drop(columns='issue_d')"
      ],
      "metadata": {
        "id": "jpMCUR-sIqbN"
      },
      "execution_count": 87,
      "outputs": []
    },
    {
      "cell_type": "markdown",
      "source": [
        "### `home_ownership`"
      ],
      "metadata": {
        "id": "LPd1YaWG5gPb"
      }
    },
    {
      "cell_type": "code",
      "source": [
        "train['home_ownership'].value_counts()"
      ],
      "metadata": {
        "colab": {
          "base_uri": "https://localhost:8080/"
        },
        "id": "iOQfs5uu5kC1",
        "outputId": "4bf7e923-763c-4d9f-8589-5b4010cef296"
      },
      "execution_count": 88,
      "outputs": [
        {
          "output_type": "execute_result",
          "data": {
            "text/plain": [
              "MORTGAGE    532817\n",
              "RENT        427235\n",
              "OWN         115803\n",
              "ANY            230\n",
              "OTHER          123\n",
              "NONE            39\n",
              "Name: home_ownership, dtype: int64"
            ]
          },
          "metadata": {},
          "execution_count": 88
        }
      ]
    },
    {
      "cell_type": "markdown",
      "source": [
        "Replace the values `ANY` and `NONE` with `OTHER`:"
      ],
      "metadata": {
        "id": "otsVnkMs5vho"
      }
    },
    {
      "cell_type": "code",
      "source": [
        "train['home_ownership'].replace(['NONE', 'ANY'], 'OTHER', inplace=True)\n",
        "test['home_ownership'].replace(['NONE', 'ANY'], 'OTHER', inplace=True)"
      ],
      "metadata": {
        "id": "Fzg5YuSA52tC"
      },
      "execution_count": 89,
      "outputs": []
    },
    {
      "cell_type": "markdown",
      "source": [
        "### One Hot Encoding"
      ],
      "metadata": {
        "id": "RlT4b_lYMt6z"
      }
    },
    {
      "cell_type": "markdown",
      "source": [
        "Take care of target feature:"
      ],
      "metadata": {
        "id": "GdZsRbqY8aKI"
      }
    },
    {
      "cell_type": "code",
      "source": [
        "train['loan_status'] = (train['loan_status'] == 'Charged Off').astype(int)\n",
        "test['loan_status'] = (test['loan_status'] == 'Charged Off').astype(int)"
      ],
      "metadata": {
        "id": "UmDxOaBYbihs"
      },
      "execution_count": 90,
      "outputs": []
    },
    {
      "cell_type": "code",
      "source": [
        "train['loan_status'].value_counts()"
      ],
      "metadata": {
        "colab": {
          "base_uri": "https://localhost:8080/"
        },
        "id": "C728YihhGbAA",
        "outputId": "accbae7a-d085-4c87-c5fc-11467c57565e"
      },
      "execution_count": 91,
      "outputs": [
        {
          "output_type": "execute_result",
          "data": {
            "text/plain": [
              "0    861400\n",
              "1    214847\n",
              "Name: loan_status, dtype: int64"
            ]
          },
          "metadata": {},
          "execution_count": 91
        }
      ]
    },
    {
      "cell_type": "code",
      "source": [
        "test['loan_status'].value_counts()"
      ],
      "metadata": {
        "colab": {
          "base_uri": "https://localhost:8080/"
        },
        "id": "MXF07Jt6Ho94",
        "outputId": "95bc20e1-4c4c-42d9-a8b6-7119402613a2"
      },
      "execution_count": 92,
      "outputs": [
        {
          "output_type": "execute_result",
          "data": {
            "text/plain": [
              "0    215350\n",
              "1     53712\n",
              "Name: loan_status, dtype: int64"
            ]
          },
          "metadata": {},
          "execution_count": 92
        }
      ]
    },
    {
      "cell_type": "markdown",
      "source": [
        "Occasionaly, training and testing contain different feature cardinality (e.g. State). So we can't use get_dummy to do the one hot encoding. We use OneHotEncoder here:\n"
      ],
      "metadata": {
        "id": "oiechOw6Xxsh"
      }
    },
    {
      "cell_type": "code",
      "source": [
        "cat_cols = train.columns[(train.dtypes == 'O')]"
      ],
      "metadata": {
        "id": "ztc_GLerOhfP"
      },
      "execution_count": 93,
      "outputs": []
    },
    {
      "cell_type": "code",
      "source": [
        "cat_cols"
      ],
      "metadata": {
        "colab": {
          "base_uri": "https://localhost:8080/"
        },
        "id": "jCey1mqmmTLS",
        "outputId": "368d6683-5714-433a-b3bd-1cee94174cb5"
      },
      "execution_count": 94,
      "outputs": [
        {
          "output_type": "execute_result",
          "data": {
            "text/plain": [
              "Index(['term', 'sub_grade', 'home_ownership', 'verification_status', 'purpose',\n",
              "       'addr_state', 'initial_list_status', 'application_type'],\n",
              "      dtype='object')"
            ]
          },
          "metadata": {},
          "execution_count": 94
        }
      ]
    },
    {
      "cell_type": "code",
      "source": [
        "from sklearn.preprocessing import OneHotEncoder\n",
        "\n",
        "def OneHotEncoding(df, encoder, cols):\n",
        "  transformed = pd.DataFrame(encoder.transform(df[cols]).toarray(), columns=encoder.get_feature_names(cols))\n",
        "  return pd.concat([df.reset_index(drop=True), transformed], axis=1).drop(cat_cols, axis=1)"
      ],
      "metadata": {
        "id": "3bHhzYZSOhLY"
      },
      "execution_count": 95,
      "outputs": []
    },
    {
      "cell_type": "markdown",
      "source": [
        "### Undersampling"
      ],
      "metadata": {
        "id": "wCEhZE7cKMXc"
      }
    },
    {
      "cell_type": "code",
      "source": [
        "default_train_undersampling = train.loc[train['loan_status'] == 1]"
      ],
      "metadata": {
        "id": "9hb2p6EnGr4V"
      },
      "execution_count": 96,
      "outputs": []
    },
    {
      "cell_type": "code",
      "source": [
        "non_default_train_undersampling = train.loc[train['loan_status'] == 0].sample(n=214847, random_state=42)"
      ],
      "metadata": {
        "id": "m7_aQC-fHNjw"
      },
      "execution_count": 97,
      "outputs": []
    },
    {
      "cell_type": "code",
      "source": [
        "train_undersampling = pd.concat([default_train_undersampling, non_default_train_undersampling])"
      ],
      "metadata": {
        "id": "90E-la74Hd75"
      },
      "execution_count": 98,
      "outputs": []
    },
    {
      "cell_type": "code",
      "source": [
        "X_train_undersampling = train_undersampling.drop(columns='loan_status')\n",
        "X_test_undersampling = test.drop(columns='loan_status')\n",
        "\n",
        "y_train_undersampling = train_undersampling['loan_status']\n",
        "y_test_undersampling = test['loan_status']"
      ],
      "metadata": {
        "id": "9lotnu527_ut"
      },
      "execution_count": 99,
      "outputs": []
    },
    {
      "cell_type": "code",
      "source": [
        "test.head()"
      ],
      "metadata": {
        "colab": {
          "base_uri": "https://localhost:8080/",
          "height": 357
        },
        "id": "ejKWIFPihHxq",
        "outputId": "07559e9c-9e19-4598-cf69-52d83685490a"
      },
      "execution_count": 128,
      "outputs": [
        {
          "output_type": "execute_result",
          "data": {
            "text/html": [
              "\n",
              "  <div id=\"df-f6ed311f-7e0e-4c9c-854b-31f215ce46a8\">\n",
              "    <div class=\"colab-df-container\">\n",
              "      <div>\n",
              "<style scoped>\n",
              "    .dataframe tbody tr th:only-of-type {\n",
              "        vertical-align: middle;\n",
              "    }\n",
              "\n",
              "    .dataframe tbody tr th {\n",
              "        vertical-align: top;\n",
              "    }\n",
              "\n",
              "    .dataframe thead th {\n",
              "        text-align: right;\n",
              "    }\n",
              "</style>\n",
              "<table border=\"1\" class=\"dataframe\">\n",
              "  <thead>\n",
              "    <tr style=\"text-align: right;\">\n",
              "      <th></th>\n",
              "      <th>loan_amnt</th>\n",
              "      <th>term</th>\n",
              "      <th>int_rate</th>\n",
              "      <th>installment</th>\n",
              "      <th>sub_grade</th>\n",
              "      <th>emp_length</th>\n",
              "      <th>home_ownership</th>\n",
              "      <th>annual_inc</th>\n",
              "      <th>verification_status</th>\n",
              "      <th>loan_status</th>\n",
              "      <th>purpose</th>\n",
              "      <th>addr_state</th>\n",
              "      <th>dti</th>\n",
              "      <th>open_acc</th>\n",
              "      <th>pub_rec</th>\n",
              "      <th>revol_bal</th>\n",
              "      <th>revol_util</th>\n",
              "      <th>total_acc</th>\n",
              "      <th>initial_list_status</th>\n",
              "      <th>application_type</th>\n",
              "      <th>mort_acc</th>\n",
              "      <th>pub_rec_bankruptcies</th>\n",
              "      <th>fico_score</th>\n",
              "      <th>cr_line_year</th>\n",
              "      <th>issue_year</th>\n",
              "    </tr>\n",
              "  </thead>\n",
              "  <tbody>\n",
              "    <tr>\n",
              "      <th>1348824</th>\n",
              "      <td>17000.000</td>\n",
              "      <td>36 months</td>\n",
              "      <td>6.620</td>\n",
              "      <td>521.970</td>\n",
              "      <td>A2</td>\n",
              "      <td>8.000</td>\n",
              "      <td>MORTGAGE</td>\n",
              "      <td>60000.000</td>\n",
              "      <td>Verified</td>\n",
              "      <td>0</td>\n",
              "      <td>credit_card</td>\n",
              "      <td>FL</td>\n",
              "      <td>20.480</td>\n",
              "      <td>10.000</td>\n",
              "      <td>0.000</td>\n",
              "      <td>15290.000</td>\n",
              "      <td>39.700</td>\n",
              "      <td>21.000</td>\n",
              "      <td>f</td>\n",
              "      <td>Individual</td>\n",
              "      <td>2.000</td>\n",
              "      <td>0.000</td>\n",
              "      <td>757.000</td>\n",
              "      <td>2001</td>\n",
              "      <td>2014</td>\n",
              "    </tr>\n",
              "    <tr>\n",
              "      <th>1802011</th>\n",
              "      <td>10025.000</td>\n",
              "      <td>36 months</td>\n",
              "      <td>15.880</td>\n",
              "      <td>351.860</td>\n",
              "      <td>C4</td>\n",
              "      <td>8.000</td>\n",
              "      <td>MORTGAGE</td>\n",
              "      <td>115000.000</td>\n",
              "      <td>Not Verified</td>\n",
              "      <td>0</td>\n",
              "      <td>credit_card</td>\n",
              "      <td>GA</td>\n",
              "      <td>16.990</td>\n",
              "      <td>11.000</td>\n",
              "      <td>0.000</td>\n",
              "      <td>18298.000</td>\n",
              "      <td>80.300</td>\n",
              "      <td>38.000</td>\n",
              "      <td>f</td>\n",
              "      <td>Individual</td>\n",
              "      <td>5.000</td>\n",
              "      <td>0.000</td>\n",
              "      <td>687.000</td>\n",
              "      <td>2001</td>\n",
              "      <td>2013</td>\n",
              "    </tr>\n",
              "    <tr>\n",
              "      <th>1231957</th>\n",
              "      <td>33425.000</td>\n",
              "      <td>36 months</td>\n",
              "      <td>12.490</td>\n",
              "      <td>1118.030</td>\n",
              "      <td>B5</td>\n",
              "      <td>3.000</td>\n",
              "      <td>RENT</td>\n",
              "      <td>115000.000</td>\n",
              "      <td>Verified</td>\n",
              "      <td>0</td>\n",
              "      <td>debt_consolidation</td>\n",
              "      <td>NY</td>\n",
              "      <td>18.340</td>\n",
              "      <td>9.000</td>\n",
              "      <td>0.000</td>\n",
              "      <td>9810.000</td>\n",
              "      <td>61.300</td>\n",
              "      <td>31.000</td>\n",
              "      <td>w</td>\n",
              "      <td>Individual</td>\n",
              "      <td>0.000</td>\n",
              "      <td>0.000</td>\n",
              "      <td>697.000</td>\n",
              "      <td>2000</td>\n",
              "      <td>2014</td>\n",
              "    </tr>\n",
              "    <tr>\n",
              "      <th>1641941</th>\n",
              "      <td>2000.000</td>\n",
              "      <td>36 months</td>\n",
              "      <td>15.700</td>\n",
              "      <td>70.020</td>\n",
              "      <td>D4</td>\n",
              "      <td>10.000</td>\n",
              "      <td>MORTGAGE</td>\n",
              "      <td>66000.000</td>\n",
              "      <td>Not Verified</td>\n",
              "      <td>0</td>\n",
              "      <td>medical</td>\n",
              "      <td>OH</td>\n",
              "      <td>9.130</td>\n",
              "      <td>8.000</td>\n",
              "      <td>0.000</td>\n",
              "      <td>23176.000</td>\n",
              "      <td>97.000</td>\n",
              "      <td>23.000</td>\n",
              "      <td>f</td>\n",
              "      <td>Individual</td>\n",
              "      <td>1.666</td>\n",
              "      <td>0.000</td>\n",
              "      <td>662.000</td>\n",
              "      <td>1996</td>\n",
              "      <td>2010</td>\n",
              "    </tr>\n",
              "    <tr>\n",
              "      <th>1143375</th>\n",
              "      <td>6800.000</td>\n",
              "      <td>36 months</td>\n",
              "      <td>15.990</td>\n",
              "      <td>239.040</td>\n",
              "      <td>D2</td>\n",
              "      <td>1.000</td>\n",
              "      <td>RENT</td>\n",
              "      <td>20000.000</td>\n",
              "      <td>Source Verified</td>\n",
              "      <td>1</td>\n",
              "      <td>debt_consolidation</td>\n",
              "      <td>RI</td>\n",
              "      <td>22.570</td>\n",
              "      <td>7.000</td>\n",
              "      <td>0.000</td>\n",
              "      <td>13635.000</td>\n",
              "      <td>55.000</td>\n",
              "      <td>9.000</td>\n",
              "      <td>f</td>\n",
              "      <td>Individual</td>\n",
              "      <td>0.000</td>\n",
              "      <td>0.000</td>\n",
              "      <td>682.000</td>\n",
              "      <td>2006</td>\n",
              "      <td>2014</td>\n",
              "    </tr>\n",
              "  </tbody>\n",
              "</table>\n",
              "</div>\n",
              "      <button class=\"colab-df-convert\" onclick=\"convertToInteractive('df-f6ed311f-7e0e-4c9c-854b-31f215ce46a8')\"\n",
              "              title=\"Convert this dataframe to an interactive table.\"\n",
              "              style=\"display:none;\">\n",
              "        \n",
              "  <svg xmlns=\"http://www.w3.org/2000/svg\" height=\"24px\"viewBox=\"0 0 24 24\"\n",
              "       width=\"24px\">\n",
              "    <path d=\"M0 0h24v24H0V0z\" fill=\"none\"/>\n",
              "    <path d=\"M18.56 5.44l.94 2.06.94-2.06 2.06-.94-2.06-.94-.94-2.06-.94 2.06-2.06.94zm-11 1L8.5 8.5l.94-2.06 2.06-.94-2.06-.94L8.5 2.5l-.94 2.06-2.06.94zm10 10l.94 2.06.94-2.06 2.06-.94-2.06-.94-.94-2.06-.94 2.06-2.06.94z\"/><path d=\"M17.41 7.96l-1.37-1.37c-.4-.4-.92-.59-1.43-.59-.52 0-1.04.2-1.43.59L10.3 9.45l-7.72 7.72c-.78.78-.78 2.05 0 2.83L4 21.41c.39.39.9.59 1.41.59.51 0 1.02-.2 1.41-.59l7.78-7.78 2.81-2.81c.8-.78.8-2.07 0-2.86zM5.41 20L4 18.59l7.72-7.72 1.47 1.35L5.41 20z\"/>\n",
              "  </svg>\n",
              "      </button>\n",
              "      \n",
              "  <style>\n",
              "    .colab-df-container {\n",
              "      display:flex;\n",
              "      flex-wrap:wrap;\n",
              "      gap: 12px;\n",
              "    }\n",
              "\n",
              "    .colab-df-convert {\n",
              "      background-color: #E8F0FE;\n",
              "      border: none;\n",
              "      border-radius: 50%;\n",
              "      cursor: pointer;\n",
              "      display: none;\n",
              "      fill: #1967D2;\n",
              "      height: 32px;\n",
              "      padding: 0 0 0 0;\n",
              "      width: 32px;\n",
              "    }\n",
              "\n",
              "    .colab-df-convert:hover {\n",
              "      background-color: #E2EBFA;\n",
              "      box-shadow: 0px 1px 2px rgba(60, 64, 67, 0.3), 0px 1px 3px 1px rgba(60, 64, 67, 0.15);\n",
              "      fill: #174EA6;\n",
              "    }\n",
              "\n",
              "    [theme=dark] .colab-df-convert {\n",
              "      background-color: #3B4455;\n",
              "      fill: #D2E3FC;\n",
              "    }\n",
              "\n",
              "    [theme=dark] .colab-df-convert:hover {\n",
              "      background-color: #434B5C;\n",
              "      box-shadow: 0px 1px 3px 1px rgba(0, 0, 0, 0.15);\n",
              "      filter: drop-shadow(0px 1px 2px rgba(0, 0, 0, 0.3));\n",
              "      fill: #FFFFFF;\n",
              "    }\n",
              "  </style>\n",
              "\n",
              "      <script>\n",
              "        const buttonEl =\n",
              "          document.querySelector('#df-f6ed311f-7e0e-4c9c-854b-31f215ce46a8 button.colab-df-convert');\n",
              "        buttonEl.style.display =\n",
              "          google.colab.kernel.accessAllowed ? 'block' : 'none';\n",
              "\n",
              "        async function convertToInteractive(key) {\n",
              "          const element = document.querySelector('#df-f6ed311f-7e0e-4c9c-854b-31f215ce46a8');\n",
              "          const dataTable =\n",
              "            await google.colab.kernel.invokeFunction('convertToInteractive',\n",
              "                                                     [key], {});\n",
              "          if (!dataTable) return;\n",
              "\n",
              "          const docLinkHtml = 'Like what you see? Visit the ' +\n",
              "            '<a target=\"_blank\" href=https://colab.research.google.com/notebooks/data_table.ipynb>data table notebook</a>'\n",
              "            + ' to learn more about interactive tables.';\n",
              "          element.innerHTML = '';\n",
              "          dataTable['output_type'] = 'display_data';\n",
              "          await google.colab.output.renderOutput(dataTable, element);\n",
              "          const docLink = document.createElement('div');\n",
              "          docLink.innerHTML = docLinkHtml;\n",
              "          element.appendChild(docLink);\n",
              "        }\n",
              "      </script>\n",
              "    </div>\n",
              "  </div>\n",
              "  "
            ],
            "text/plain": [
              "         loan_amnt        term  int_rate  installment sub_grade  emp_length  \\\n",
              "1348824  17000.000   36 months     6.620      521.970        A2       8.000   \n",
              "1802011  10025.000   36 months    15.880      351.860        C4       8.000   \n",
              "1231957  33425.000   36 months    12.490     1118.030        B5       3.000   \n",
              "1641941   2000.000   36 months    15.700       70.020        D4      10.000   \n",
              "1143375   6800.000   36 months    15.990      239.040        D2       1.000   \n",
              "\n",
              "        home_ownership  annual_inc verification_status  loan_status  \\\n",
              "1348824       MORTGAGE   60000.000            Verified            0   \n",
              "1802011       MORTGAGE  115000.000        Not Verified            0   \n",
              "1231957           RENT  115000.000            Verified            0   \n",
              "1641941       MORTGAGE   66000.000        Not Verified            0   \n",
              "1143375           RENT   20000.000     Source Verified            1   \n",
              "\n",
              "                    purpose addr_state    dti  open_acc  pub_rec  revol_bal  \\\n",
              "1348824         credit_card         FL 20.480    10.000    0.000  15290.000   \n",
              "1802011         credit_card         GA 16.990    11.000    0.000  18298.000   \n",
              "1231957  debt_consolidation         NY 18.340     9.000    0.000   9810.000   \n",
              "1641941             medical         OH  9.130     8.000    0.000  23176.000   \n",
              "1143375  debt_consolidation         RI 22.570     7.000    0.000  13635.000   \n",
              "\n",
              "         revol_util  total_acc initial_list_status application_type  mort_acc  \\\n",
              "1348824      39.700     21.000                   f       Individual     2.000   \n",
              "1802011      80.300     38.000                   f       Individual     5.000   \n",
              "1231957      61.300     31.000                   w       Individual     0.000   \n",
              "1641941      97.000     23.000                   f       Individual     1.666   \n",
              "1143375      55.000      9.000                   f       Individual     0.000   \n",
              "\n",
              "         pub_rec_bankruptcies  fico_score  cr_line_year  issue_year  \n",
              "1348824                 0.000     757.000          2001        2014  \n",
              "1802011                 0.000     687.000          2001        2013  \n",
              "1231957                 0.000     697.000          2000        2014  \n",
              "1641941                 0.000     662.000          1996        2010  \n",
              "1143375                 0.000     682.000          2006        2014  "
            ]
          },
          "metadata": {},
          "execution_count": 128
        }
      ]
    },
    {
      "cell_type": "code",
      "source": [
        "enc = OneHotEncoder()\n",
        "enc.fit(X_train_undersampling[cat_cols])\n",
        "\n",
        "X_train_undersampling = OneHotEncoding(X_train_undersampling, enc, cat_cols)\n",
        "X_test_undersampling = OneHotEncoding(X_test_undersampling, enc, cat_cols)"
      ],
      "metadata": {
        "colab": {
          "base_uri": "https://localhost:8080/"
        },
        "id": "_CxGtfVJX6dd",
        "outputId": "0551a75c-7083-4a85-dc05-50457c987fa7"
      },
      "execution_count": 100,
      "outputs": [
        {
          "output_type": "stream",
          "name": "stderr",
          "text": [
            "/usr/local/lib/python3.7/dist-packages/sklearn/utils/deprecation.py:87: FutureWarning: Function get_feature_names is deprecated; get_feature_names is deprecated in 1.0 and will be removed in 1.2. Please use get_feature_names_out instead.\n",
            "  warnings.warn(msg, category=FutureWarning)\n",
            "/usr/local/lib/python3.7/dist-packages/sklearn/utils/deprecation.py:87: FutureWarning: Function get_feature_names is deprecated; get_feature_names is deprecated in 1.0 and will be removed in 1.2. Please use get_feature_names_out instead.\n",
            "  warnings.warn(msg, category=FutureWarning)\n"
          ]
        }
      ]
    },
    {
      "cell_type": "code",
      "source": [
        "y_train_undersampling.value_counts()"
      ],
      "metadata": {
        "colab": {
          "base_uri": "https://localhost:8080/"
        },
        "id": "KfMQ3uKZPgjR",
        "outputId": "1770d476-884e-4027-f14b-f123024dbd9f"
      },
      "execution_count": 101,
      "outputs": [
        {
          "output_type": "execute_result",
          "data": {
            "text/plain": [
              "1    214847\n",
              "0    214847\n",
              "Name: loan_status, dtype: int64"
            ]
          },
          "metadata": {},
          "execution_count": 101
        }
      ]
    },
    {
      "cell_type": "markdown",
      "source": [
        "### Oversampling"
      ],
      "metadata": {
        "id": "T3qS9eaHLVab"
      }
    },
    {
      "cell_type": "code",
      "source": [
        "X_train_oversampling = train.drop(columns='loan_status')\n",
        "X_test_oversampling = test.drop(columns='loan_status')\n",
        "\n",
        "y_train_oversampling = train['loan_status']\n",
        "y_test_oversampling = test['loan_status']"
      ],
      "metadata": {
        "colab": {
          "base_uri": "https://localhost:8080/",
          "height": 236
        },
        "id": "X3QZ_9fLLct8",
        "outputId": "1332a608-d320-4198-faec-9fb62b0de27d"
      },
      "execution_count": 1,
      "outputs": [
        {
          "output_type": "error",
          "ename": "NameError",
          "evalue": "ignored",
          "traceback": [
            "\u001b[0;31m---------------------------------------------------------------------------\u001b[0m",
            "\u001b[0;31mNameError\u001b[0m                                 Traceback (most recent call last)",
            "\u001b[0;32m<ipython-input-1-05ff547b5a9b>\u001b[0m in \u001b[0;36m<module>\u001b[0;34m()\u001b[0m\n\u001b[0;32m----> 1\u001b[0;31m \u001b[0mX_train_oversampling\u001b[0m \u001b[0;34m=\u001b[0m \u001b[0mtrain\u001b[0m\u001b[0;34m.\u001b[0m\u001b[0mdrop\u001b[0m\u001b[0;34m(\u001b[0m\u001b[0mcolumns\u001b[0m\u001b[0;34m=\u001b[0m\u001b[0;34m'loan_status'\u001b[0m\u001b[0;34m)\u001b[0m\u001b[0;34m\u001b[0m\u001b[0;34m\u001b[0m\u001b[0m\n\u001b[0m\u001b[1;32m      2\u001b[0m \u001b[0mX_test_oversampling\u001b[0m \u001b[0;34m=\u001b[0m \u001b[0mtest\u001b[0m\u001b[0;34m.\u001b[0m\u001b[0mdrop\u001b[0m\u001b[0;34m(\u001b[0m\u001b[0mcolumns\u001b[0m\u001b[0;34m=\u001b[0m\u001b[0;34m'loan_status'\u001b[0m\u001b[0;34m)\u001b[0m\u001b[0;34m\u001b[0m\u001b[0;34m\u001b[0m\u001b[0m\n\u001b[1;32m      3\u001b[0m \u001b[0;34m\u001b[0m\u001b[0m\n\u001b[1;32m      4\u001b[0m \u001b[0my_train_oversampling\u001b[0m \u001b[0;34m=\u001b[0m \u001b[0mtrain\u001b[0m\u001b[0;34m[\u001b[0m\u001b[0;34m'loan_status'\u001b[0m\u001b[0;34m]\u001b[0m\u001b[0;34m\u001b[0m\u001b[0;34m\u001b[0m\u001b[0m\n\u001b[1;32m      5\u001b[0m \u001b[0my_test_oversampling\u001b[0m \u001b[0;34m=\u001b[0m \u001b[0mtest\u001b[0m\u001b[0;34m[\u001b[0m\u001b[0;34m'loan_status'\u001b[0m\u001b[0;34m]\u001b[0m\u001b[0;34m\u001b[0m\u001b[0;34m\u001b[0m\u001b[0m\n",
            "\u001b[0;31mNameError\u001b[0m: name 'train' is not defined"
          ]
        }
      ]
    },
    {
      "cell_type": "code",
      "source": [
        "enc = OneHotEncoder()\n",
        "enc.fit(X_train_oversampling[cat_cols])\n",
        "\n",
        "X_train_oversampling = OneHotEncoding(X_train_oversampling, enc, cat_cols)\n",
        "X_test_oversampling = OneHotEncoding(X_test_oversampling, enc, cat_cols)"
      ],
      "metadata": {
        "colab": {
          "base_uri": "https://localhost:8080/"
        },
        "id": "s_HkNW6wYJ1k",
        "outputId": "ca6c6c85-6beb-4718-ef5f-b01bc84b751a"
      },
      "execution_count": 103,
      "outputs": [
        {
          "output_type": "stream",
          "name": "stderr",
          "text": [
            "/usr/local/lib/python3.7/dist-packages/sklearn/utils/deprecation.py:87: FutureWarning: Function get_feature_names is deprecated; get_feature_names is deprecated in 1.0 and will be removed in 1.2. Please use get_feature_names_out instead.\n",
            "  warnings.warn(msg, category=FutureWarning)\n",
            "/usr/local/lib/python3.7/dist-packages/sklearn/utils/deprecation.py:87: FutureWarning: Function get_feature_names is deprecated; get_feature_names is deprecated in 1.0 and will be removed in 1.2. Please use get_feature_names_out instead.\n",
            "  warnings.warn(msg, category=FutureWarning)\n"
          ]
        }
      ]
    },
    {
      "cell_type": "code",
      "source": [
        "from imblearn.over_sampling import SMOTE\n",
        "\n",
        "smote = SMOTE(random_state=12)\n",
        "X_train_sm, y_train_sm = smote.fit_resample(X_train_oversampling, y_train_oversampling)"
      ],
      "metadata": {
        "id": "JPbMRqOuTJ0p"
      },
      "execution_count": null,
      "outputs": []
    },
    {
      "cell_type": "code",
      "source": [
        "y_train_sm.value_counts()"
      ],
      "metadata": {
        "colab": {
          "base_uri": "https://localhost:8080/"
        },
        "id": "qI-GLy8Dbfz5",
        "outputId": "f803c5e3-f938-4d69-9015-44b6363ad43f"
      },
      "execution_count": 658,
      "outputs": [
        {
          "output_type": "execute_result",
          "data": {
            "text/plain": [
              "1    38045\n",
              "0    38045\n",
              "Name: loan_status, dtype: int64"
            ]
          },
          "metadata": {},
          "execution_count": 658
        }
      ]
    },
    {
      "cell_type": "markdown",
      "source": [
        "## Part 4.3: Data Standardize"
      ],
      "metadata": {
        "id": "XDyexMJ-zj7X"
      }
    },
    {
      "cell_type": "markdown",
      "source": [
        "We use standard scaling"
      ],
      "metadata": {
        "id": "A1lU6YZ067sE"
      }
    },
    {
      "cell_type": "code",
      "source": [
        "num_cols = X_train_undersampling.columns[(X_train_undersampling.dtypes == 'float64') | (X_train_undersampling.dtypes == 'int64')]"
      ],
      "metadata": {
        "id": "mvdfROUzcPw6"
      },
      "execution_count": 106,
      "outputs": []
    },
    {
      "cell_type": "code",
      "source": [
        "scaler = StandardScaler()\n",
        "scaler.fit(X_train_undersampling[num_cols])\n",
        "X_train_undersampling[num_cols] = scaler.transform(X_train_undersampling[num_cols])\n",
        "X_test_undersampling[num_cols] = scaler.transform(X_test_undersampling[num_cols])"
      ],
      "metadata": {
        "id": "iYMTkRLy7Srq"
      },
      "execution_count": 107,
      "outputs": []
    },
    {
      "cell_type": "code",
      "source": [
        "scaler = StandardScaler()\n",
        "scaler.fit(X_train_sm[num_cols])\n",
        "X_train_sm[num_cols] = scaler.transform(X_train_sm[num_cols])\n",
        "X_test_oversampling[num_cols] = scaler.transform(X_test_oversampling[num_cols])"
      ],
      "metadata": {
        "id": "WM9du825cZ3x"
      },
      "execution_count": 664,
      "outputs": []
    },
    {
      "cell_type": "markdown",
      "source": [
        "# Part 5: Model Training"
      ],
      "metadata": {
        "id": "9bWKGO04Gdu8"
      }
    },
    {
      "cell_type": "markdown",
      "source": [
        "The algorithm we will use here:\n",
        "\n",
        "\n",
        "*   Random Forest\n",
        "*   XGBoost\n",
        "*   ANN\n",
        "\n"
      ],
      "metadata": {
        "id": "D8vYRoeRHR1B"
      }
    },
    {
      "cell_type": "code",
      "source": [
        "# helper function for printing out grid search results\n",
        "def gs_results(gs):\n",
        "  print('Best score: ' + str(gs.best_score_))\n",
        "  print('Best parameters: ')\n",
        "  best_params = gs.best_params_\n",
        "  for param in best_params.keys():\n",
        "    print('\\t\\t' + param + ': ' + str(best_params[param]))"
      ],
      "metadata": {
        "id": "wvqq6atWOr-C"
      },
      "execution_count": 102,
      "outputs": []
    },
    {
      "cell_type": "markdown",
      "source": [
        "## Part 5.1: Logistic Regression"
      ],
      "metadata": {
        "id": "Ic3V9fU54r9C"
      }
    },
    {
      "cell_type": "code",
      "source": [
        "clf_lr = LogisticRegression()"
      ],
      "metadata": {
        "id": "5D_KtUkJ4rLd"
      },
      "execution_count": 103,
      "outputs": []
    },
    {
      "cell_type": "code",
      "source": [
        "# C = 1/lambda\n",
        "lr_params = {\n",
        "    'C':(10, 100),\n",
        "    'max_iter': [100, 250]\n",
        "}"
      ],
      "metadata": {
        "id": "z_9gOH4o5QfB"
      },
      "execution_count": 104,
      "outputs": []
    },
    {
      "cell_type": "code",
      "source": [
        "Grid_LR = GridSearchCV(clf_lr, param_grid=lr_params, scoring='recall', verbose=3)\n",
        "Grid_LR.fit(X_train_undersampling, y_train_undersampling)"
      ],
      "metadata": {
        "colab": {
          "base_uri": "https://localhost:8080/"
        },
        "id": "0IYYikOf5fU_",
        "outputId": "a1c5f6ee-d696-4d10-eca5-85e962a491df"
      },
      "execution_count": 108,
      "outputs": [
        {
          "output_type": "stream",
          "name": "stdout",
          "text": [
            "Fitting 5 folds for each of 4 candidates, totalling 20 fits\n",
            "[CV 1/5] END ................C=10, max_iter=100;, score=0.679 total time=   6.2s\n",
            "[CV 2/5] END ................C=10, max_iter=100;, score=0.679 total time=   6.0s\n",
            "[CV 3/5] END ................C=10, max_iter=100;, score=0.679 total time=   6.3s\n",
            "[CV 4/5] END ................C=10, max_iter=100;, score=0.675 total time=   5.9s\n",
            "[CV 5/5] END ................C=10, max_iter=100;, score=0.680 total time=   6.7s\n",
            "[CV 1/5] END ................C=10, max_iter=250;, score=0.679 total time=   5.9s\n",
            "[CV 2/5] END ................C=10, max_iter=250;, score=0.679 total time=   6.8s\n",
            "[CV 3/5] END ................C=10, max_iter=250;, score=0.679 total time=   6.3s\n",
            "[CV 4/5] END ................C=10, max_iter=250;, score=0.675 total time=   5.9s\n",
            "[CV 5/5] END ................C=10, max_iter=250;, score=0.680 total time=   6.6s\n",
            "[CV 1/5] END ...............C=100, max_iter=100;, score=0.679 total time=   5.8s\n",
            "[CV 2/5] END ...............C=100, max_iter=100;, score=0.679 total time=   5.9s\n",
            "[CV 3/5] END ...............C=100, max_iter=100;, score=0.679 total time=   6.2s\n",
            "[CV 4/5] END ...............C=100, max_iter=100;, score=0.675 total time=   5.9s\n",
            "[CV 5/5] END ...............C=100, max_iter=100;, score=0.680 total time=   6.8s\n",
            "[CV 1/5] END ...............C=100, max_iter=250;, score=0.679 total time=   4.5s\n",
            "[CV 2/5] END ...............C=100, max_iter=250;, score=0.679 total time=   4.5s\n",
            "[CV 3/5] END ...............C=100, max_iter=250;, score=0.679 total time=   5.0s\n",
            "[CV 4/5] END ...............C=100, max_iter=250;, score=0.675 total time=   4.6s\n",
            "[CV 5/5] END ...............C=100, max_iter=250;, score=0.680 total time=   5.1s\n"
          ]
        },
        {
          "output_type": "execute_result",
          "data": {
            "text/plain": [
              "GridSearchCV(estimator=LogisticRegression(),\n",
              "             param_grid={'C': (10, 100), 'max_iter': [100, 250]},\n",
              "             scoring='recall', verbose=3)"
            ]
          },
          "metadata": {},
          "execution_count": 108
        }
      ]
    },
    {
      "cell_type": "code",
      "source": [
        "gs_results(Grid_LR)"
      ],
      "metadata": {
        "colab": {
          "base_uri": "https://localhost:8080/"
        },
        "outputId": "7900bff1-08af-4f84-a179-9f9375fd2b20",
        "id": "FgicHbny6sVw"
      },
      "execution_count": 109,
      "outputs": [
        {
          "output_type": "stream",
          "name": "stdout",
          "text": [
            "Best score: 0.6786178000946969\n",
            "Best parameters: \n",
            "\t\tC: 10\n",
            "\t\tmax_iter: 100\n"
          ]
        }
      ]
    },
    {
      "cell_type": "code",
      "source": [
        "# best model\n",
        "best_lr_model = Grid_LR.best_estimator_"
      ],
      "metadata": {
        "id": "Im7ocAH06sVz"
      },
      "execution_count": 110,
      "outputs": []
    },
    {
      "cell_type": "code",
      "source": [
        "print(classification_report(y_test_undersampling, best_lr_model.predict(X_test_undersampling)))"
      ],
      "metadata": {
        "colab": {
          "base_uri": "https://localhost:8080/"
        },
        "id": "uagpSRUE-Vvk",
        "outputId": "7827168c-9ef8-4481-e212-1f986f5191cb"
      },
      "execution_count": 143,
      "outputs": [
        {
          "output_type": "stream",
          "name": "stdout",
          "text": [
            "              precision    recall  f1-score   support\n",
            "\n",
            "           0       0.89      0.63      0.74    215350\n",
            "           1       0.31      0.68      0.43     53712\n",
            "\n",
            "    accuracy                           0.64    269062\n",
            "   macro avg       0.60      0.66      0.58    269062\n",
            "weighted avg       0.77      0.64      0.68    269062\n",
            "\n"
          ]
        }
      ]
    },
    {
      "cell_type": "code",
      "source": [
        "from sklearn.metrics import roc_auc_score\n",
        "\n",
        "lr_auc = roc_auc_score(y_test_undersampling, best_lr_model.predict(X_test_undersampling))\n",
        "lr_auc"
      ],
      "metadata": {
        "colab": {
          "base_uri": "https://localhost:8080/"
        },
        "id": "-t-nu3N9-nQS",
        "outputId": "e1a5f916-7e75-4437-d1f2-7e4504659154"
      },
      "execution_count": 111,
      "outputs": [
        {
          "output_type": "execute_result",
          "data": {
            "text/plain": [
              "0.6551968293228133"
            ]
          },
          "metadata": {},
          "execution_count": 111
        }
      ]
    },
    {
      "cell_type": "markdown",
      "source": [
        "## Part 5.2: Random Forest"
      ],
      "metadata": {
        "id": "Tb3kh72mIA4z"
      }
    },
    {
      "cell_type": "code",
      "source": [
        "clf_rf = RandomForestClassifier(random_state=0, n_jobs=-1)"
      ],
      "metadata": {
        "id": "efSPJG7XGmPp"
      },
      "execution_count": 112,
      "outputs": []
    },
    {
      "cell_type": "code",
      "source": [
        "rf_params = {\n",
        "    'n_estimators': [50, 100],\n",
        "    'max_depth': [10, 20]\n",
        "}"
      ],
      "metadata": {
        "id": "rSzySVxLID9W"
      },
      "execution_count": 113,
      "outputs": []
    },
    {
      "cell_type": "code",
      "source": [
        "Grid_RF = GridSearchCV(clf_rf, param_grid=rf_params, scoring='recall', verbose=3)\n",
        "Grid_RF.fit(X_train_undersampling, y_train_undersampling)"
      ],
      "metadata": {
        "colab": {
          "base_uri": "https://localhost:8080/"
        },
        "id": "bNvIbDC7H92T",
        "outputId": "f40ea9c0-f869-4fc7-b782-eb97e82526be"
      },
      "execution_count": 114,
      "outputs": [
        {
          "output_type": "stream",
          "name": "stdout",
          "text": [
            "Fitting 5 folds for each of 4 candidates, totalling 20 fits\n",
            "[CV 1/5] END .....max_depth=10, n_estimators=50;, score=0.677 total time=  29.4s\n",
            "[CV 2/5] END .....max_depth=10, n_estimators=50;, score=0.676 total time=  32.8s\n",
            "[CV 3/5] END .....max_depth=10, n_estimators=50;, score=0.678 total time=  23.9s\n",
            "[CV 4/5] END .....max_depth=10, n_estimators=50;, score=0.673 total time=  24.4s\n",
            "[CV 5/5] END .....max_depth=10, n_estimators=50;, score=0.673 total time=  24.2s\n",
            "[CV 1/5] END ....max_depth=10, n_estimators=100;, score=0.678 total time=  46.1s\n",
            "[CV 2/5] END ....max_depth=10, n_estimators=100;, score=0.682 total time=  46.6s\n",
            "[CV 3/5] END ....max_depth=10, n_estimators=100;, score=0.681 total time=  46.6s\n",
            "[CV 4/5] END ....max_depth=10, n_estimators=100;, score=0.673 total time=  46.2s\n",
            "[CV 5/5] END ....max_depth=10, n_estimators=100;, score=0.676 total time=  46.7s\n",
            "[CV 1/5] END .....max_depth=20, n_estimators=50;, score=0.678 total time=  47.0s\n",
            "[CV 2/5] END .....max_depth=20, n_estimators=50;, score=0.675 total time=  46.3s\n",
            "[CV 3/5] END .....max_depth=20, n_estimators=50;, score=0.678 total time= 1.4min\n",
            "[CV 4/5] END .....max_depth=20, n_estimators=50;, score=0.673 total time=  59.5s\n",
            "[CV 5/5] END .....max_depth=20, n_estimators=50;, score=0.678 total time= 1.1min\n",
            "[CV 1/5] END ....max_depth=20, n_estimators=100;, score=0.681 total time= 1.9min\n",
            "[CV 2/5] END ....max_depth=20, n_estimators=100;, score=0.679 total time= 1.6min\n",
            "[CV 3/5] END ....max_depth=20, n_estimators=100;, score=0.679 total time= 1.5min\n",
            "[CV 4/5] END ....max_depth=20, n_estimators=100;, score=0.676 total time= 1.5min\n",
            "[CV 5/5] END ....max_depth=20, n_estimators=100;, score=0.680 total time= 1.5min\n"
          ]
        },
        {
          "output_type": "execute_result",
          "data": {
            "text/plain": [
              "GridSearchCV(estimator=RandomForestClassifier(n_jobs=-1, random_state=0),\n",
              "             param_grid={'max_depth': [10, 20], 'n_estimators': [50, 100]},\n",
              "             scoring='recall', verbose=3)"
            ]
          },
          "metadata": {},
          "execution_count": 114
        }
      ]
    },
    {
      "cell_type": "code",
      "source": [
        "gs_results(Grid_RF)"
      ],
      "metadata": {
        "colab": {
          "base_uri": "https://localhost:8080/"
        },
        "id": "VnH5HBkX01Ts",
        "outputId": "dab72598-a64b-421c-b524-7ab38c2d68c1"
      },
      "execution_count": 115,
      "outputs": [
        {
          "output_type": "stream",
          "name": "stdout",
          "text": [
            "Best score: 0.6791251390228652\n",
            "Best parameters: \n",
            "\t\tmax_depth: 20\n",
            "\t\tn_estimators: 100\n"
          ]
        }
      ]
    },
    {
      "cell_type": "code",
      "source": [
        "# best model\n",
        "best_rf_model = Grid_RF.best_estimator_"
      ],
      "metadata": {
        "id": "0h5mSH087aj_"
      },
      "execution_count": 116,
      "outputs": []
    },
    {
      "cell_type": "code",
      "source": [
        "best_rf_model.score(X_test_undersampling, y_test_undersampling)  # accuracy score = tp / total"
      ],
      "metadata": {
        "colab": {
          "base_uri": "https://localhost:8080/"
        },
        "id": "QbIAp5T6ZMta",
        "outputId": "f76a22df-0e8c-4b9a-ac32-e245f078167e"
      },
      "execution_count": 113,
      "outputs": [
        {
          "output_type": "execute_result",
          "data": {
            "text/plain": [
              "0.6456058454928604"
            ]
          },
          "metadata": {},
          "execution_count": 113
        }
      ]
    },
    {
      "cell_type": "code",
      "source": [
        "accuracy_score(y_test_undersampling, best_rf_model.predict(X_test_undersampling))"
      ],
      "metadata": {
        "colab": {
          "base_uri": "https://localhost:8080/"
        },
        "id": "0xil5BH2JSnv",
        "outputId": "039e0c8e-fc44-4500-a474-2957abe07421"
      },
      "execution_count": 114,
      "outputs": [
        {
          "output_type": "execute_result",
          "data": {
            "text/plain": [
              "0.6456058454928604"
            ]
          },
          "metadata": {},
          "execution_count": 114
        }
      ]
    },
    {
      "cell_type": "code",
      "source": [
        "f1_score(y_test_undersampling, best_rf_model.predict(X_test_undersampling))"
      ],
      "metadata": {
        "colab": {
          "base_uri": "https://localhost:8080/"
        },
        "id": "62H6Y4o2HuYX",
        "outputId": "a5b172ae-4253-43be-c84d-dc5da9260f3d"
      },
      "execution_count": 115,
      "outputs": [
        {
          "output_type": "execute_result",
          "data": {
            "text/plain": [
              "0.4347248734334799"
            ]
          },
          "metadata": {},
          "execution_count": 115
        }
      ]
    },
    {
      "cell_type": "code",
      "source": [
        "recall_score(y_test_undersampling, best_rf_model.predict(X_test_undersampling))"
      ],
      "metadata": {
        "colab": {
          "base_uri": "https://localhost:8080/"
        },
        "id": "x6pFdfqXq0PL",
        "outputId": "00ecef9a-a62e-434e-c43b-8c3ac551a2b4"
      },
      "execution_count": 116,
      "outputs": [
        {
          "output_type": "execute_result",
          "data": {
            "text/plain": [
              "0.6826407506702413"
            ]
          },
          "metadata": {},
          "execution_count": 116
        }
      ]
    },
    {
      "cell_type": "code",
      "source": [
        "precision_score(y_test_undersampling, best_rf_model.predict(X_test_undersampling))"
      ],
      "metadata": {
        "colab": {
          "base_uri": "https://localhost:8080/"
        },
        "id": "s-kJa3bHq58t",
        "outputId": "41095e89-d10a-45de-c913-4db7bb39354b"
      },
      "execution_count": 117,
      "outputs": [
        {
          "output_type": "execute_result",
          "data": {
            "text/plain": [
              "0.3189068832953537"
            ]
          },
          "metadata": {},
          "execution_count": 117
        }
      ]
    },
    {
      "cell_type": "code",
      "source": [
        "print(classification_report(y_test_undersampling, best_rf_model.predict(X_test_undersampling)))"
      ],
      "metadata": {
        "id": "L2AXVB3f3q9b"
      },
      "execution_count": null,
      "outputs": []
    },
    {
      "cell_type": "code",
      "source": [
        "confusion_matrix(y_test_undersampling, best_rf_model.predict(X_test_undersampling))"
      ],
      "metadata": {
        "colab": {
          "base_uri": "https://localhost:8080/"
        },
        "id": "XUFlPPbAKW68",
        "outputId": "2af47676-0c69-45b4-b8a6-43d2ea2916d6"
      },
      "execution_count": 118,
      "outputs": [
        {
          "output_type": "execute_result",
          "data": {
            "text/plain": [
              "array([[137042,  78308],\n",
              "       [ 17046,  36666]])"
            ]
          },
          "metadata": {},
          "execution_count": 118
        }
      ]
    },
    {
      "cell_type": "markdown",
      "source": [
        "##Smote "
      ],
      "metadata": {
        "id": "rZcDV8jHdGEU"
      }
    },
    {
      "cell_type": "code",
      "source": [
        "#@title\n",
        "clf_rf = RandomForestClassifier(random_state=0, n_jobs=-1)"
      ],
      "metadata": {
        "id": "eYX3mweCdNMH"
      },
      "execution_count": 134,
      "outputs": []
    },
    {
      "cell_type": "code",
      "source": [
        "#@title\n",
        "rf_params = {\n",
        "    'n_estimators': [5, 10],\n",
        "    'max_depth': [10, 20]\n",
        "}"
      ],
      "metadata": {
        "id": "cgRACpy6dNML"
      },
      "execution_count": null,
      "outputs": []
    },
    {
      "cell_type": "code",
      "source": [
        "#@title\n",
        "Grid_RF = GridSearchCV(clf_rf, param_grid=rf_params, scoring='recall', verbose=3)\n",
        "Grid_RF.fit(X_train_sm, y_train_sm)"
      ],
      "metadata": {
        "cellView": "form",
        "id": "mmAm3owmdNML"
      },
      "execution_count": null,
      "outputs": []
    },
    {
      "cell_type": "code",
      "source": [
        "#@title\n",
        "gs_results(Grid_RF)"
      ],
      "metadata": {
        "cellView": "form",
        "id": "LZdRTywgfQFx"
      },
      "execution_count": null,
      "outputs": []
    },
    {
      "cell_type": "code",
      "source": [
        "#@title\n",
        "# best model\n",
        "best_rf_model = Grid_RF.best_estimator_"
      ],
      "metadata": {
        "cellView": "form",
        "id": "ZerxABrKfQFy"
      },
      "execution_count": null,
      "outputs": []
    },
    {
      "cell_type": "code",
      "source": [
        "#@title\n",
        "best_rf_model.score(X_test_oversampling, y_test_oversampling)  # accuracy score = tp / total"
      ],
      "metadata": {
        "cellView": "form",
        "id": "PhbsDccrfQFy"
      },
      "execution_count": null,
      "outputs": []
    },
    {
      "cell_type": "code",
      "source": [
        "#@title\n",
        "accuracy_score(y_test_oversampling, best_rf_model.predict(X_test_oversampling))"
      ],
      "metadata": {
        "cellView": "form",
        "id": "DIC6yaO-fQFy"
      },
      "execution_count": null,
      "outputs": []
    },
    {
      "cell_type": "code",
      "source": [
        "#@title\n",
        "f1_score(y_test_oversampling, best_rf_model.predict(X_test_oversampling))"
      ],
      "metadata": {
        "cellView": "form",
        "id": "Wh2uZcRJfQFy"
      },
      "execution_count": null,
      "outputs": []
    },
    {
      "cell_type": "code",
      "source": [
        "#@title\n",
        "recall_score(y_test_oversampling, best_rf_model.predict(X_test_oversampling))"
      ],
      "metadata": {
        "cellView": "form",
        "id": "9AARz0kRfQFy"
      },
      "execution_count": null,
      "outputs": []
    },
    {
      "cell_type": "code",
      "source": [
        "#@title\n",
        "precision_score(y_test_oversampling, best_rf_model.predict(X_test_oversampling))"
      ],
      "metadata": {
        "cellView": "form",
        "id": "WtEYAd89fQFz"
      },
      "execution_count": null,
      "outputs": []
    },
    {
      "cell_type": "code",
      "source": [
        "#@title\n",
        "confusion_matrix(y_test_oversampling, best_rf_model.predict(X_test_oversampling))"
      ],
      "metadata": {
        "cellView": "form",
        "id": "ebNujXSBfQFz"
      },
      "execution_count": null,
      "outputs": []
    },
    {
      "cell_type": "markdown",
      "source": [
        "## Part 5.3: XGBoost"
      ],
      "metadata": {
        "id": "8ObRphVj66VF"
      }
    },
    {
      "cell_type": "code",
      "source": [
        "clf_xgb = xgb.XGBClassifier(objective='binary:logistic', \n",
        "                            eval_metric=\"logloss\", ## this avoids a warning...\n",
        "                            seed=42, \n",
        "                            use_label_encoder=False)"
      ],
      "metadata": {
        "id": "3ffeQdAW69DO"
      },
      "execution_count": 105,
      "outputs": []
    },
    {
      "cell_type": "code",
      "source": [
        "parameters = {\n",
        "    'n_estimators': [100],\n",
        "    'max_depth': [5],\n",
        "    'gamma': [0.25],\n",
        "    'reg_lambda': [10]\n",
        "}"
      ],
      "metadata": {
        "id": "VH9_qMgfVc9X"
      },
      "execution_count": 108,
      "outputs": []
    },
    {
      "cell_type": "code",
      "source": [
        "Grid_XGBoost = GridSearchCV(clf_xgb,parameters, scoring='recall', verbose=3)\n",
        "Grid_XGBoost.fit(X_train_undersampling, \n",
        "                 y_train_undersampling,\n",
        "                 early_stopping_rounds=10,                \n",
        "                 eval_metric='aucpr',\n",
        "                 eval_set=[(X_test_undersampling, y_test_undersampling)])"
      ],
      "metadata": {
        "colab": {
          "base_uri": "https://localhost:8080/"
        },
        "id": "Mo7rdUjFVgVS",
        "outputId": "c26304ee-130e-47ff-f68a-33686a38cd06"
      },
      "execution_count": 111,
      "outputs": [
        {
          "output_type": "stream",
          "name": "stdout",
          "text": [
            "Fitting 5 folds for each of 1 candidates, totalling 5 fits\n",
            "[0]\tvalidation_0-aucpr:0.35457\n",
            "Will train until validation_0-aucpr hasn't improved in 10 rounds.\n",
            "[1]\tvalidation_0-aucpr:0.358826\n",
            "[2]\tvalidation_0-aucpr:0.360172\n",
            "[3]\tvalidation_0-aucpr:0.363266\n",
            "[4]\tvalidation_0-aucpr:0.364769\n",
            "[5]\tvalidation_0-aucpr:0.366647\n",
            "[6]\tvalidation_0-aucpr:0.370448\n",
            "[7]\tvalidation_0-aucpr:0.371375\n",
            "[8]\tvalidation_0-aucpr:0.373146\n",
            "[9]\tvalidation_0-aucpr:0.37361\n",
            "[10]\tvalidation_0-aucpr:0.374846\n",
            "[11]\tvalidation_0-aucpr:0.375918\n",
            "[12]\tvalidation_0-aucpr:0.376679\n",
            "[13]\tvalidation_0-aucpr:0.377128\n",
            "[14]\tvalidation_0-aucpr:0.378609\n",
            "[15]\tvalidation_0-aucpr:0.379601\n",
            "[16]\tvalidation_0-aucpr:0.380188\n",
            "[17]\tvalidation_0-aucpr:0.380706\n",
            "[18]\tvalidation_0-aucpr:0.381519\n",
            "[19]\tvalidation_0-aucpr:0.382293\n",
            "[20]\tvalidation_0-aucpr:0.382505\n",
            "[21]\tvalidation_0-aucpr:0.382929\n",
            "[22]\tvalidation_0-aucpr:0.383667\n",
            "[23]\tvalidation_0-aucpr:0.384221\n",
            "[24]\tvalidation_0-aucpr:0.384574\n",
            "[25]\tvalidation_0-aucpr:0.385131\n",
            "[26]\tvalidation_0-aucpr:0.385446\n",
            "[27]\tvalidation_0-aucpr:0.386047\n",
            "[28]\tvalidation_0-aucpr:0.386786\n",
            "[29]\tvalidation_0-aucpr:0.387221\n",
            "[30]\tvalidation_0-aucpr:0.387843\n",
            "[31]\tvalidation_0-aucpr:0.388354\n",
            "[32]\tvalidation_0-aucpr:0.388719\n",
            "[33]\tvalidation_0-aucpr:0.389121\n",
            "[34]\tvalidation_0-aucpr:0.389404\n",
            "[35]\tvalidation_0-aucpr:0.389918\n",
            "[36]\tvalidation_0-aucpr:0.390281\n",
            "[37]\tvalidation_0-aucpr:0.390654\n",
            "[38]\tvalidation_0-aucpr:0.390989\n",
            "[39]\tvalidation_0-aucpr:0.391199\n",
            "[40]\tvalidation_0-aucpr:0.391431\n",
            "[41]\tvalidation_0-aucpr:0.391588\n",
            "[42]\tvalidation_0-aucpr:0.391995\n",
            "[43]\tvalidation_0-aucpr:0.392169\n",
            "[44]\tvalidation_0-aucpr:0.392625\n",
            "[45]\tvalidation_0-aucpr:0.392822\n",
            "[46]\tvalidation_0-aucpr:0.393045\n",
            "[47]\tvalidation_0-aucpr:0.393251\n",
            "[48]\tvalidation_0-aucpr:0.393406\n",
            "[49]\tvalidation_0-aucpr:0.393771\n",
            "[50]\tvalidation_0-aucpr:0.393919\n",
            "[51]\tvalidation_0-aucpr:0.39415\n",
            "[52]\tvalidation_0-aucpr:0.394301\n",
            "[53]\tvalidation_0-aucpr:0.394473\n",
            "[54]\tvalidation_0-aucpr:0.394704\n",
            "[55]\tvalidation_0-aucpr:0.395062\n",
            "[56]\tvalidation_0-aucpr:0.395184\n",
            "[57]\tvalidation_0-aucpr:0.395375\n",
            "[58]\tvalidation_0-aucpr:0.395439\n",
            "[59]\tvalidation_0-aucpr:0.395651\n",
            "[60]\tvalidation_0-aucpr:0.395751\n",
            "[61]\tvalidation_0-aucpr:0.395867\n",
            "[62]\tvalidation_0-aucpr:0.396021\n",
            "[63]\tvalidation_0-aucpr:0.396165\n",
            "[64]\tvalidation_0-aucpr:0.396386\n",
            "[65]\tvalidation_0-aucpr:0.39647\n",
            "[66]\tvalidation_0-aucpr:0.396507\n",
            "[67]\tvalidation_0-aucpr:0.39668\n",
            "[68]\tvalidation_0-aucpr:0.396916\n",
            "[69]\tvalidation_0-aucpr:0.397138\n",
            "[70]\tvalidation_0-aucpr:0.397185\n",
            "[71]\tvalidation_0-aucpr:0.397385\n",
            "[72]\tvalidation_0-aucpr:0.397555\n",
            "[73]\tvalidation_0-aucpr:0.397627\n",
            "[74]\tvalidation_0-aucpr:0.397677\n",
            "[75]\tvalidation_0-aucpr:0.397741\n",
            "[76]\tvalidation_0-aucpr:0.397897\n",
            "[77]\tvalidation_0-aucpr:0.398012\n",
            "[78]\tvalidation_0-aucpr:0.398063\n",
            "[79]\tvalidation_0-aucpr:0.398205\n",
            "[80]\tvalidation_0-aucpr:0.398272\n",
            "[81]\tvalidation_0-aucpr:0.39831\n",
            "[82]\tvalidation_0-aucpr:0.398386\n",
            "[83]\tvalidation_0-aucpr:0.398464\n",
            "[84]\tvalidation_0-aucpr:0.398515\n",
            "[85]\tvalidation_0-aucpr:0.398541\n",
            "[86]\tvalidation_0-aucpr:0.398705\n",
            "[87]\tvalidation_0-aucpr:0.398727\n",
            "[88]\tvalidation_0-aucpr:0.398816\n",
            "[89]\tvalidation_0-aucpr:0.398884\n",
            "[90]\tvalidation_0-aucpr:0.398912\n",
            "[91]\tvalidation_0-aucpr:0.398934\n",
            "[92]\tvalidation_0-aucpr:0.398988\n",
            "[93]\tvalidation_0-aucpr:0.399026\n",
            "[94]\tvalidation_0-aucpr:0.399171\n",
            "[95]\tvalidation_0-aucpr:0.399267\n",
            "[96]\tvalidation_0-aucpr:0.399299\n",
            "[97]\tvalidation_0-aucpr:0.399263\n",
            "[98]\tvalidation_0-aucpr:0.399304\n",
            "[99]\tvalidation_0-aucpr:0.399418\n",
            "[CV 1/5] END gamma=0.25, max_depth=5, n_estimators=100, reg_lambda=10;, score=0.677 total time= 3.6min\n",
            "[0]\tvalidation_0-aucpr:0.354975\n",
            "Will train until validation_0-aucpr hasn't improved in 10 rounds.\n",
            "[1]\tvalidation_0-aucpr:0.358085\n",
            "[2]\tvalidation_0-aucpr:0.362055\n",
            "[3]\tvalidation_0-aucpr:0.363027\n",
            "[4]\tvalidation_0-aucpr:0.365249\n",
            "[5]\tvalidation_0-aucpr:0.369131\n",
            "[6]\tvalidation_0-aucpr:0.370897\n",
            "[7]\tvalidation_0-aucpr:0.371755\n",
            "[8]\tvalidation_0-aucpr:0.373123\n",
            "[9]\tvalidation_0-aucpr:0.373071\n",
            "[10]\tvalidation_0-aucpr:0.374871\n",
            "[11]\tvalidation_0-aucpr:0.375458\n",
            "[12]\tvalidation_0-aucpr:0.376583\n",
            "[13]\tvalidation_0-aucpr:0.377802\n",
            "[14]\tvalidation_0-aucpr:0.378799\n",
            "[15]\tvalidation_0-aucpr:0.379184\n",
            "[16]\tvalidation_0-aucpr:0.379847\n",
            "[17]\tvalidation_0-aucpr:0.380616\n",
            "[18]\tvalidation_0-aucpr:0.381093\n",
            "[19]\tvalidation_0-aucpr:0.38174\n",
            "[20]\tvalidation_0-aucpr:0.382079\n",
            "[21]\tvalidation_0-aucpr:0.382565\n",
            "[22]\tvalidation_0-aucpr:0.382936\n",
            "[23]\tvalidation_0-aucpr:0.383768\n",
            "[24]\tvalidation_0-aucpr:0.384376\n",
            "[25]\tvalidation_0-aucpr:0.384939\n",
            "[26]\tvalidation_0-aucpr:0.385388\n",
            "[27]\tvalidation_0-aucpr:0.385765\n",
            "[28]\tvalidation_0-aucpr:0.38613\n",
            "[29]\tvalidation_0-aucpr:0.386757\n",
            "[30]\tvalidation_0-aucpr:0.38711\n",
            "[31]\tvalidation_0-aucpr:0.387732\n",
            "[32]\tvalidation_0-aucpr:0.388022\n",
            "[33]\tvalidation_0-aucpr:0.388269\n",
            "[34]\tvalidation_0-aucpr:0.388544\n",
            "[35]\tvalidation_0-aucpr:0.389054\n",
            "[36]\tvalidation_0-aucpr:0.389416\n",
            "[37]\tvalidation_0-aucpr:0.389959\n",
            "[38]\tvalidation_0-aucpr:0.390329\n",
            "[39]\tvalidation_0-aucpr:0.390562\n",
            "[40]\tvalidation_0-aucpr:0.390856\n",
            "[41]\tvalidation_0-aucpr:0.391025\n",
            "[42]\tvalidation_0-aucpr:0.391565\n",
            "[43]\tvalidation_0-aucpr:0.391789\n",
            "[44]\tvalidation_0-aucpr:0.392058\n",
            "[45]\tvalidation_0-aucpr:0.392341\n",
            "[46]\tvalidation_0-aucpr:0.392655\n",
            "[47]\tvalidation_0-aucpr:0.392819\n",
            "[48]\tvalidation_0-aucpr:0.393112\n",
            "[49]\tvalidation_0-aucpr:0.393344\n",
            "[50]\tvalidation_0-aucpr:0.39355\n",
            "[51]\tvalidation_0-aucpr:0.39367\n",
            "[52]\tvalidation_0-aucpr:0.393871\n",
            "[53]\tvalidation_0-aucpr:0.39399\n",
            "[54]\tvalidation_0-aucpr:0.394105\n",
            "[55]\tvalidation_0-aucpr:0.39446\n",
            "[56]\tvalidation_0-aucpr:0.394597\n",
            "[57]\tvalidation_0-aucpr:0.394737\n",
            "[58]\tvalidation_0-aucpr:0.394829\n",
            "[59]\tvalidation_0-aucpr:0.395017\n",
            "[60]\tvalidation_0-aucpr:0.395086\n",
            "[61]\tvalidation_0-aucpr:0.395249\n",
            "[62]\tvalidation_0-aucpr:0.395309\n",
            "[63]\tvalidation_0-aucpr:0.395447\n",
            "[64]\tvalidation_0-aucpr:0.39563\n",
            "[65]\tvalidation_0-aucpr:0.395774\n",
            "[66]\tvalidation_0-aucpr:0.395928\n",
            "[67]\tvalidation_0-aucpr:0.395948\n",
            "[68]\tvalidation_0-aucpr:0.396133\n",
            "[69]\tvalidation_0-aucpr:0.396175\n",
            "[70]\tvalidation_0-aucpr:0.39623\n",
            "[71]\tvalidation_0-aucpr:0.396326\n",
            "[72]\tvalidation_0-aucpr:0.396518\n",
            "[73]\tvalidation_0-aucpr:0.396574\n",
            "[74]\tvalidation_0-aucpr:0.396631\n",
            "[75]\tvalidation_0-aucpr:0.396734\n",
            "[76]\tvalidation_0-aucpr:0.396917\n",
            "[77]\tvalidation_0-aucpr:0.396984\n",
            "[78]\tvalidation_0-aucpr:0.39697\n",
            "[79]\tvalidation_0-aucpr:0.39711\n",
            "[80]\tvalidation_0-aucpr:0.397172\n",
            "[81]\tvalidation_0-aucpr:0.39724\n",
            "[82]\tvalidation_0-aucpr:0.397302\n",
            "[83]\tvalidation_0-aucpr:0.397307\n",
            "[84]\tvalidation_0-aucpr:0.39732\n",
            "[85]\tvalidation_0-aucpr:0.397367\n",
            "[86]\tvalidation_0-aucpr:0.397439\n",
            "[87]\tvalidation_0-aucpr:0.397626\n",
            "[88]\tvalidation_0-aucpr:0.397702\n",
            "[89]\tvalidation_0-aucpr:0.39781\n",
            "[90]\tvalidation_0-aucpr:0.397851\n",
            "[91]\tvalidation_0-aucpr:0.397937\n",
            "[92]\tvalidation_0-aucpr:0.398004\n",
            "[93]\tvalidation_0-aucpr:0.397995\n",
            "[94]\tvalidation_0-aucpr:0.398063\n",
            "[95]\tvalidation_0-aucpr:0.398202\n",
            "[96]\tvalidation_0-aucpr:0.398218\n",
            "[97]\tvalidation_0-aucpr:0.398269\n",
            "[98]\tvalidation_0-aucpr:0.398305\n",
            "[99]\tvalidation_0-aucpr:0.398427\n",
            "[CV 2/5] END gamma=0.25, max_depth=5, n_estimators=100, reg_lambda=10;, score=0.679 total time= 3.0min\n",
            "[0]\tvalidation_0-aucpr:0.355106\n",
            "Will train until validation_0-aucpr hasn't improved in 10 rounds.\n",
            "[1]\tvalidation_0-aucpr:0.359491\n",
            "[2]\tvalidation_0-aucpr:0.361237\n",
            "[3]\tvalidation_0-aucpr:0.363295\n",
            "[4]\tvalidation_0-aucpr:0.368048\n",
            "[5]\tvalidation_0-aucpr:0.368926\n",
            "[6]\tvalidation_0-aucpr:0.370121\n",
            "[7]\tvalidation_0-aucpr:0.371599\n",
            "[8]\tvalidation_0-aucpr:0.373222\n",
            "[9]\tvalidation_0-aucpr:0.374685\n",
            "[10]\tvalidation_0-aucpr:0.375131\n",
            "[11]\tvalidation_0-aucpr:0.37632\n",
            "[12]\tvalidation_0-aucpr:0.37736\n",
            "[13]\tvalidation_0-aucpr:0.377987\n",
            "[14]\tvalidation_0-aucpr:0.378949\n",
            "[15]\tvalidation_0-aucpr:0.379357\n",
            "[16]\tvalidation_0-aucpr:0.380016\n",
            "[17]\tvalidation_0-aucpr:0.380862\n",
            "[18]\tvalidation_0-aucpr:0.381465\n",
            "[19]\tvalidation_0-aucpr:0.381805\n",
            "[20]\tvalidation_0-aucpr:0.382238\n",
            "[21]\tvalidation_0-aucpr:0.383019\n",
            "[22]\tvalidation_0-aucpr:0.383514\n",
            "[23]\tvalidation_0-aucpr:0.384244\n",
            "[24]\tvalidation_0-aucpr:0.385031\n",
            "[25]\tvalidation_0-aucpr:0.385652\n",
            "[26]\tvalidation_0-aucpr:0.385969\n",
            "[27]\tvalidation_0-aucpr:0.386507\n",
            "[28]\tvalidation_0-aucpr:0.387015\n",
            "[29]\tvalidation_0-aucpr:0.387346\n",
            "[30]\tvalidation_0-aucpr:0.387623\n",
            "[31]\tvalidation_0-aucpr:0.388113\n",
            "[32]\tvalidation_0-aucpr:0.388406\n",
            "[33]\tvalidation_0-aucpr:0.38866\n",
            "[34]\tvalidation_0-aucpr:0.389108\n",
            "[35]\tvalidation_0-aucpr:0.389402\n",
            "[36]\tvalidation_0-aucpr:0.390086\n",
            "[37]\tvalidation_0-aucpr:0.390294\n",
            "[38]\tvalidation_0-aucpr:0.390559\n",
            "[39]\tvalidation_0-aucpr:0.39109\n",
            "[40]\tvalidation_0-aucpr:0.391417\n",
            "[41]\tvalidation_0-aucpr:0.391694\n",
            "[42]\tvalidation_0-aucpr:0.392004\n",
            "[43]\tvalidation_0-aucpr:0.392154\n",
            "[44]\tvalidation_0-aucpr:0.39234\n",
            "[45]\tvalidation_0-aucpr:0.392617\n",
            "[46]\tvalidation_0-aucpr:0.393044\n",
            "[47]\tvalidation_0-aucpr:0.393313\n",
            "[48]\tvalidation_0-aucpr:0.393427\n",
            "[49]\tvalidation_0-aucpr:0.393693\n",
            "[50]\tvalidation_0-aucpr:0.393856\n",
            "[51]\tvalidation_0-aucpr:0.394136\n",
            "[52]\tvalidation_0-aucpr:0.394272\n",
            "[53]\tvalidation_0-aucpr:0.394593\n",
            "[54]\tvalidation_0-aucpr:0.39471\n",
            "[55]\tvalidation_0-aucpr:0.39509\n",
            "[56]\tvalidation_0-aucpr:0.395201\n",
            "[57]\tvalidation_0-aucpr:0.395324\n",
            "[58]\tvalidation_0-aucpr:0.395434\n",
            "[59]\tvalidation_0-aucpr:0.39555\n",
            "[60]\tvalidation_0-aucpr:0.39579\n",
            "[61]\tvalidation_0-aucpr:0.395971\n",
            "[62]\tvalidation_0-aucpr:0.396044\n",
            "[63]\tvalidation_0-aucpr:0.396144\n",
            "[64]\tvalidation_0-aucpr:0.396227\n",
            "[65]\tvalidation_0-aucpr:0.396314\n",
            "[66]\tvalidation_0-aucpr:0.396439\n",
            "[67]\tvalidation_0-aucpr:0.396573\n",
            "[68]\tvalidation_0-aucpr:0.396598\n",
            "[69]\tvalidation_0-aucpr:0.396715\n",
            "[70]\tvalidation_0-aucpr:0.396821\n",
            "[71]\tvalidation_0-aucpr:0.396824\n",
            "[72]\tvalidation_0-aucpr:0.396899\n",
            "[73]\tvalidation_0-aucpr:0.397\n",
            "[74]\tvalidation_0-aucpr:0.397095\n",
            "[75]\tvalidation_0-aucpr:0.39725\n",
            "[76]\tvalidation_0-aucpr:0.397314\n",
            "[77]\tvalidation_0-aucpr:0.39759\n",
            "[78]\tvalidation_0-aucpr:0.397622\n",
            "[79]\tvalidation_0-aucpr:0.397679\n",
            "[80]\tvalidation_0-aucpr:0.397726\n",
            "[81]\tvalidation_0-aucpr:0.397884\n",
            "[82]\tvalidation_0-aucpr:0.397939\n",
            "[83]\tvalidation_0-aucpr:0.398084\n",
            "[84]\tvalidation_0-aucpr:0.398105\n",
            "[85]\tvalidation_0-aucpr:0.398147\n",
            "[86]\tvalidation_0-aucpr:0.398172\n",
            "[87]\tvalidation_0-aucpr:0.39829\n",
            "[88]\tvalidation_0-aucpr:0.398306\n",
            "[89]\tvalidation_0-aucpr:0.398447\n",
            "[90]\tvalidation_0-aucpr:0.398482\n",
            "[91]\tvalidation_0-aucpr:0.398541\n",
            "[92]\tvalidation_0-aucpr:0.39856\n",
            "[93]\tvalidation_0-aucpr:0.398578\n",
            "[94]\tvalidation_0-aucpr:0.398634\n",
            "[95]\tvalidation_0-aucpr:0.398736\n",
            "[96]\tvalidation_0-aucpr:0.398813\n",
            "[97]\tvalidation_0-aucpr:0.398856\n",
            "[98]\tvalidation_0-aucpr:0.398906\n",
            "[99]\tvalidation_0-aucpr:0.398934\n",
            "[CV 3/5] END gamma=0.25, max_depth=5, n_estimators=100, reg_lambda=10;, score=0.678 total time= 3.3min\n",
            "[0]\tvalidation_0-aucpr:0.355064\n",
            "Will train until validation_0-aucpr hasn't improved in 10 rounds.\n",
            "[1]\tvalidation_0-aucpr:0.357422\n",
            "[2]\tvalidation_0-aucpr:0.360759\n",
            "[3]\tvalidation_0-aucpr:0.362325\n",
            "[4]\tvalidation_0-aucpr:0.365594\n",
            "[5]\tvalidation_0-aucpr:0.367572\n",
            "[6]\tvalidation_0-aucpr:0.370373\n",
            "[7]\tvalidation_0-aucpr:0.372195\n",
            "[8]\tvalidation_0-aucpr:0.373592\n",
            "[9]\tvalidation_0-aucpr:0.373978\n",
            "[10]\tvalidation_0-aucpr:0.375045\n",
            "[11]\tvalidation_0-aucpr:0.375867\n",
            "[12]\tvalidation_0-aucpr:0.376881\n",
            "[13]\tvalidation_0-aucpr:0.377705\n",
            "[14]\tvalidation_0-aucpr:0.378208\n",
            "[15]\tvalidation_0-aucpr:0.378631\n",
            "[16]\tvalidation_0-aucpr:0.378919\n",
            "[17]\tvalidation_0-aucpr:0.379648\n",
            "[18]\tvalidation_0-aucpr:0.380511\n",
            "[19]\tvalidation_0-aucpr:0.381009\n",
            "[20]\tvalidation_0-aucpr:0.381651\n",
            "[21]\tvalidation_0-aucpr:0.382277\n",
            "[22]\tvalidation_0-aucpr:0.382555\n",
            "[23]\tvalidation_0-aucpr:0.383191\n",
            "[24]\tvalidation_0-aucpr:0.383713\n",
            "[25]\tvalidation_0-aucpr:0.384368\n",
            "[26]\tvalidation_0-aucpr:0.384957\n",
            "[27]\tvalidation_0-aucpr:0.385437\n",
            "[28]\tvalidation_0-aucpr:0.385819\n",
            "[29]\tvalidation_0-aucpr:0.38634\n",
            "[30]\tvalidation_0-aucpr:0.386736\n",
            "[31]\tvalidation_0-aucpr:0.38759\n",
            "[32]\tvalidation_0-aucpr:0.387914\n",
            "[33]\tvalidation_0-aucpr:0.388349\n",
            "[34]\tvalidation_0-aucpr:0.388751\n",
            "[35]\tvalidation_0-aucpr:0.38952\n",
            "[36]\tvalidation_0-aucpr:0.389906\n",
            "[37]\tvalidation_0-aucpr:0.390291\n",
            "[38]\tvalidation_0-aucpr:0.390557\n",
            "[39]\tvalidation_0-aucpr:0.390928\n",
            "[40]\tvalidation_0-aucpr:0.391161\n",
            "[41]\tvalidation_0-aucpr:0.391302\n",
            "[42]\tvalidation_0-aucpr:0.391514\n",
            "[43]\tvalidation_0-aucpr:0.391828\n",
            "[44]\tvalidation_0-aucpr:0.392102\n",
            "[45]\tvalidation_0-aucpr:0.392414\n",
            "[46]\tvalidation_0-aucpr:0.392599\n",
            "[47]\tvalidation_0-aucpr:0.392947\n",
            "[48]\tvalidation_0-aucpr:0.393251\n",
            "[49]\tvalidation_0-aucpr:0.39343\n",
            "[50]\tvalidation_0-aucpr:0.393667\n",
            "[51]\tvalidation_0-aucpr:0.393849\n",
            "[52]\tvalidation_0-aucpr:0.39405\n",
            "[53]\tvalidation_0-aucpr:0.394185\n",
            "[54]\tvalidation_0-aucpr:0.394326\n",
            "[55]\tvalidation_0-aucpr:0.394462\n",
            "[56]\tvalidation_0-aucpr:0.394648\n",
            "[57]\tvalidation_0-aucpr:0.394846\n",
            "[58]\tvalidation_0-aucpr:0.395081\n",
            "[59]\tvalidation_0-aucpr:0.395175\n",
            "[60]\tvalidation_0-aucpr:0.395264\n",
            "[61]\tvalidation_0-aucpr:0.395341\n",
            "[62]\tvalidation_0-aucpr:0.395433\n",
            "[63]\tvalidation_0-aucpr:0.395502\n",
            "[64]\tvalidation_0-aucpr:0.395591\n",
            "[65]\tvalidation_0-aucpr:0.395698\n",
            "[66]\tvalidation_0-aucpr:0.395765\n",
            "[67]\tvalidation_0-aucpr:0.395969\n",
            "[68]\tvalidation_0-aucpr:0.396225\n",
            "[69]\tvalidation_0-aucpr:0.396329\n",
            "[70]\tvalidation_0-aucpr:0.396516\n",
            "[71]\tvalidation_0-aucpr:0.396552\n",
            "[72]\tvalidation_0-aucpr:0.396717\n",
            "[73]\tvalidation_0-aucpr:0.396793\n",
            "[74]\tvalidation_0-aucpr:0.3969\n",
            "[75]\tvalidation_0-aucpr:0.396936\n",
            "[76]\tvalidation_0-aucpr:0.397127\n",
            "[77]\tvalidation_0-aucpr:0.397171\n",
            "[78]\tvalidation_0-aucpr:0.3972\n",
            "[79]\tvalidation_0-aucpr:0.397415\n",
            "[80]\tvalidation_0-aucpr:0.397476\n",
            "[81]\tvalidation_0-aucpr:0.39761\n",
            "[82]\tvalidation_0-aucpr:0.397711\n",
            "[83]\tvalidation_0-aucpr:0.397797\n",
            "[84]\tvalidation_0-aucpr:0.397907\n",
            "[85]\tvalidation_0-aucpr:0.397994\n",
            "[86]\tvalidation_0-aucpr:0.398006\n",
            "[87]\tvalidation_0-aucpr:0.398049\n",
            "[88]\tvalidation_0-aucpr:0.398141\n",
            "[89]\tvalidation_0-aucpr:0.398202\n",
            "[90]\tvalidation_0-aucpr:0.398286\n",
            "[91]\tvalidation_0-aucpr:0.398403\n",
            "[92]\tvalidation_0-aucpr:0.398453\n",
            "[93]\tvalidation_0-aucpr:0.398458\n",
            "[94]\tvalidation_0-aucpr:0.398587\n",
            "[95]\tvalidation_0-aucpr:0.398611\n",
            "[96]\tvalidation_0-aucpr:0.398664\n",
            "[97]\tvalidation_0-aucpr:0.398717\n",
            "[98]\tvalidation_0-aucpr:0.398768\n",
            "[99]\tvalidation_0-aucpr:0.398839\n",
            "[CV 4/5] END gamma=0.25, max_depth=5, n_estimators=100, reg_lambda=10;, score=0.674 total time= 3.0min\n",
            "[0]\tvalidation_0-aucpr:0.354998\n",
            "Will train until validation_0-aucpr hasn't improved in 10 rounds.\n",
            "[1]\tvalidation_0-aucpr:0.358742\n",
            "[2]\tvalidation_0-aucpr:0.360032\n",
            "[3]\tvalidation_0-aucpr:0.362902\n",
            "[4]\tvalidation_0-aucpr:0.365549\n",
            "[5]\tvalidation_0-aucpr:0.367276\n",
            "[6]\tvalidation_0-aucpr:0.369219\n",
            "[7]\tvalidation_0-aucpr:0.370674\n",
            "[8]\tvalidation_0-aucpr:0.372783\n",
            "[9]\tvalidation_0-aucpr:0.373619\n",
            "[10]\tvalidation_0-aucpr:0.374241\n",
            "[11]\tvalidation_0-aucpr:0.375253\n",
            "[12]\tvalidation_0-aucpr:0.376479\n",
            "[13]\tvalidation_0-aucpr:0.376957\n",
            "[14]\tvalidation_0-aucpr:0.377446\n",
            "[15]\tvalidation_0-aucpr:0.378504\n",
            "[16]\tvalidation_0-aucpr:0.379226\n",
            "[17]\tvalidation_0-aucpr:0.379957\n",
            "[18]\tvalidation_0-aucpr:0.380638\n",
            "[19]\tvalidation_0-aucpr:0.380924\n",
            "[20]\tvalidation_0-aucpr:0.381448\n",
            "[21]\tvalidation_0-aucpr:0.382037\n",
            "[22]\tvalidation_0-aucpr:0.382617\n",
            "[23]\tvalidation_0-aucpr:0.383281\n",
            "[24]\tvalidation_0-aucpr:0.383748\n",
            "[25]\tvalidation_0-aucpr:0.384186\n",
            "[26]\tvalidation_0-aucpr:0.384626\n",
            "[27]\tvalidation_0-aucpr:0.385409\n",
            "[28]\tvalidation_0-aucpr:0.385847\n",
            "[29]\tvalidation_0-aucpr:0.386239\n",
            "[30]\tvalidation_0-aucpr:0.38702\n",
            "[31]\tvalidation_0-aucpr:0.387386\n",
            "[32]\tvalidation_0-aucpr:0.387766\n",
            "[33]\tvalidation_0-aucpr:0.388176\n",
            "[34]\tvalidation_0-aucpr:0.388577\n",
            "[35]\tvalidation_0-aucpr:0.389025\n",
            "[36]\tvalidation_0-aucpr:0.389523\n",
            "[37]\tvalidation_0-aucpr:0.389796\n",
            "[38]\tvalidation_0-aucpr:0.390356\n",
            "[39]\tvalidation_0-aucpr:0.390619\n",
            "[40]\tvalidation_0-aucpr:0.390947\n",
            "[41]\tvalidation_0-aucpr:0.391285\n",
            "[42]\tvalidation_0-aucpr:0.391528\n",
            "[43]\tvalidation_0-aucpr:0.391934\n",
            "[44]\tvalidation_0-aucpr:0.392173\n",
            "[45]\tvalidation_0-aucpr:0.392295\n",
            "[46]\tvalidation_0-aucpr:0.392507\n",
            "[47]\tvalidation_0-aucpr:0.392798\n",
            "[48]\tvalidation_0-aucpr:0.393114\n",
            "[49]\tvalidation_0-aucpr:0.393249\n",
            "[50]\tvalidation_0-aucpr:0.393402\n",
            "[51]\tvalidation_0-aucpr:0.393511\n",
            "[52]\tvalidation_0-aucpr:0.393643\n",
            "[53]\tvalidation_0-aucpr:0.393955\n",
            "[54]\tvalidation_0-aucpr:0.394109\n",
            "[55]\tvalidation_0-aucpr:0.394248\n",
            "[56]\tvalidation_0-aucpr:0.394491\n",
            "[57]\tvalidation_0-aucpr:0.394615\n",
            "[58]\tvalidation_0-aucpr:0.394694\n",
            "[59]\tvalidation_0-aucpr:0.394744\n",
            "[60]\tvalidation_0-aucpr:0.395062\n",
            "[61]\tvalidation_0-aucpr:0.395087\n",
            "[62]\tvalidation_0-aucpr:0.395342\n",
            "[63]\tvalidation_0-aucpr:0.395547\n",
            "[64]\tvalidation_0-aucpr:0.395696\n",
            "[65]\tvalidation_0-aucpr:0.395791\n",
            "[66]\tvalidation_0-aucpr:0.39599\n",
            "[67]\tvalidation_0-aucpr:0.396144\n",
            "[68]\tvalidation_0-aucpr:0.396183\n",
            "[69]\tvalidation_0-aucpr:0.396272\n",
            "[70]\tvalidation_0-aucpr:0.396389\n",
            "[71]\tvalidation_0-aucpr:0.396431\n",
            "[72]\tvalidation_0-aucpr:0.396534\n",
            "[73]\tvalidation_0-aucpr:0.396585\n",
            "[74]\tvalidation_0-aucpr:0.396653\n",
            "[75]\tvalidation_0-aucpr:0.396715\n",
            "[76]\tvalidation_0-aucpr:0.396816\n",
            "[77]\tvalidation_0-aucpr:0.396909\n",
            "[78]\tvalidation_0-aucpr:0.397126\n",
            "[79]\tvalidation_0-aucpr:0.397231\n",
            "[80]\tvalidation_0-aucpr:0.3973\n",
            "[81]\tvalidation_0-aucpr:0.397398\n",
            "[82]\tvalidation_0-aucpr:0.397428\n",
            "[83]\tvalidation_0-aucpr:0.397474\n",
            "[84]\tvalidation_0-aucpr:0.397583\n",
            "[85]\tvalidation_0-aucpr:0.397638\n",
            "[86]\tvalidation_0-aucpr:0.397792\n",
            "[87]\tvalidation_0-aucpr:0.397813\n",
            "[88]\tvalidation_0-aucpr:0.397871\n",
            "[89]\tvalidation_0-aucpr:0.397902\n",
            "[90]\tvalidation_0-aucpr:0.397948\n",
            "[91]\tvalidation_0-aucpr:0.397968\n",
            "[92]\tvalidation_0-aucpr:0.398028\n",
            "[93]\tvalidation_0-aucpr:0.398059\n",
            "[94]\tvalidation_0-aucpr:0.398108\n",
            "[95]\tvalidation_0-aucpr:0.398233\n",
            "[96]\tvalidation_0-aucpr:0.398256\n",
            "[97]\tvalidation_0-aucpr:0.39838\n",
            "[98]\tvalidation_0-aucpr:0.39841\n",
            "[99]\tvalidation_0-aucpr:0.39848\n",
            "[CV 5/5] END gamma=0.25, max_depth=5, n_estimators=100, reg_lambda=10;, score=0.676 total time= 3.0min\n",
            "[0]\tvalidation_0-aucpr:0.355221\n",
            "Will train until validation_0-aucpr hasn't improved in 10 rounds.\n",
            "[1]\tvalidation_0-aucpr:0.358781\n",
            "[2]\tvalidation_0-aucpr:0.361422\n",
            "[3]\tvalidation_0-aucpr:0.363358\n",
            "[4]\tvalidation_0-aucpr:0.365601\n",
            "[5]\tvalidation_0-aucpr:0.369426\n",
            "[6]\tvalidation_0-aucpr:0.37144\n",
            "[7]\tvalidation_0-aucpr:0.371785\n",
            "[8]\tvalidation_0-aucpr:0.373356\n",
            "[9]\tvalidation_0-aucpr:0.373611\n",
            "[10]\tvalidation_0-aucpr:0.374568\n",
            "[11]\tvalidation_0-aucpr:0.375224\n",
            "[12]\tvalidation_0-aucpr:0.376195\n",
            "[13]\tvalidation_0-aucpr:0.377142\n",
            "[14]\tvalidation_0-aucpr:0.37852\n",
            "[15]\tvalidation_0-aucpr:0.378975\n",
            "[16]\tvalidation_0-aucpr:0.379751\n",
            "[17]\tvalidation_0-aucpr:0.380563\n",
            "[18]\tvalidation_0-aucpr:0.381455\n",
            "[19]\tvalidation_0-aucpr:0.381665\n",
            "[20]\tvalidation_0-aucpr:0.382396\n",
            "[21]\tvalidation_0-aucpr:0.382868\n",
            "[22]\tvalidation_0-aucpr:0.383434\n",
            "[23]\tvalidation_0-aucpr:0.383929\n",
            "[24]\tvalidation_0-aucpr:0.384462\n",
            "[25]\tvalidation_0-aucpr:0.384955\n",
            "[26]\tvalidation_0-aucpr:0.38549\n",
            "[27]\tvalidation_0-aucpr:0.385882\n",
            "[28]\tvalidation_0-aucpr:0.386335\n",
            "[29]\tvalidation_0-aucpr:0.386882\n",
            "[30]\tvalidation_0-aucpr:0.38725\n",
            "[31]\tvalidation_0-aucpr:0.387646\n",
            "[32]\tvalidation_0-aucpr:0.388474\n",
            "[33]\tvalidation_0-aucpr:0.388914\n",
            "[34]\tvalidation_0-aucpr:0.389187\n",
            "[35]\tvalidation_0-aucpr:0.389669\n",
            "[36]\tvalidation_0-aucpr:0.390012\n",
            "[37]\tvalidation_0-aucpr:0.39066\n",
            "[38]\tvalidation_0-aucpr:0.391037\n",
            "[39]\tvalidation_0-aucpr:0.391183\n",
            "[40]\tvalidation_0-aucpr:0.391471\n",
            "[41]\tvalidation_0-aucpr:0.391737\n",
            "[42]\tvalidation_0-aucpr:0.39232\n",
            "[43]\tvalidation_0-aucpr:0.392457\n",
            "[44]\tvalidation_0-aucpr:0.392662\n",
            "[45]\tvalidation_0-aucpr:0.392868\n",
            "[46]\tvalidation_0-aucpr:0.393031\n",
            "[47]\tvalidation_0-aucpr:0.393144\n",
            "[48]\tvalidation_0-aucpr:0.393287\n",
            "[49]\tvalidation_0-aucpr:0.393537\n",
            "[50]\tvalidation_0-aucpr:0.393843\n",
            "[51]\tvalidation_0-aucpr:0.393995\n",
            "[52]\tvalidation_0-aucpr:0.394128\n",
            "[53]\tvalidation_0-aucpr:0.394447\n",
            "[54]\tvalidation_0-aucpr:0.394615\n",
            "[55]\tvalidation_0-aucpr:0.394759\n",
            "[56]\tvalidation_0-aucpr:0.394912\n",
            "[57]\tvalidation_0-aucpr:0.394987\n",
            "[58]\tvalidation_0-aucpr:0.395333\n",
            "[59]\tvalidation_0-aucpr:0.395409\n",
            "[60]\tvalidation_0-aucpr:0.395606\n",
            "[61]\tvalidation_0-aucpr:0.395707\n",
            "[62]\tvalidation_0-aucpr:0.395828\n",
            "[63]\tvalidation_0-aucpr:0.396005\n",
            "[64]\tvalidation_0-aucpr:0.396101\n",
            "[65]\tvalidation_0-aucpr:0.396225\n",
            "[66]\tvalidation_0-aucpr:0.396385\n",
            "[67]\tvalidation_0-aucpr:0.396489\n",
            "[68]\tvalidation_0-aucpr:0.396634\n",
            "[69]\tvalidation_0-aucpr:0.396703\n",
            "[70]\tvalidation_0-aucpr:0.396773\n",
            "[71]\tvalidation_0-aucpr:0.396976\n",
            "[72]\tvalidation_0-aucpr:0.397164\n",
            "[73]\tvalidation_0-aucpr:0.397216\n",
            "[74]\tvalidation_0-aucpr:0.397284\n",
            "[75]\tvalidation_0-aucpr:0.39737\n",
            "[76]\tvalidation_0-aucpr:0.397444\n",
            "[77]\tvalidation_0-aucpr:0.397493\n",
            "[78]\tvalidation_0-aucpr:0.397548\n",
            "[79]\tvalidation_0-aucpr:0.397696\n",
            "[80]\tvalidation_0-aucpr:0.397766\n",
            "[81]\tvalidation_0-aucpr:0.397817\n",
            "[82]\tvalidation_0-aucpr:0.39787\n",
            "[83]\tvalidation_0-aucpr:0.397917\n",
            "[84]\tvalidation_0-aucpr:0.39796\n",
            "[85]\tvalidation_0-aucpr:0.398129\n",
            "[86]\tvalidation_0-aucpr:0.398216\n",
            "[87]\tvalidation_0-aucpr:0.398269\n",
            "[88]\tvalidation_0-aucpr:0.398312\n",
            "[89]\tvalidation_0-aucpr:0.398356\n",
            "[90]\tvalidation_0-aucpr:0.398387\n",
            "[91]\tvalidation_0-aucpr:0.398398\n",
            "[92]\tvalidation_0-aucpr:0.398452\n",
            "[93]\tvalidation_0-aucpr:0.398499\n",
            "[94]\tvalidation_0-aucpr:0.398622\n",
            "[95]\tvalidation_0-aucpr:0.398839\n",
            "[96]\tvalidation_0-aucpr:0.398862\n",
            "[97]\tvalidation_0-aucpr:0.398973\n",
            "[98]\tvalidation_0-aucpr:0.399031\n",
            "[99]\tvalidation_0-aucpr:0.399073\n"
          ]
        },
        {
          "output_type": "execute_result",
          "data": {
            "text/plain": [
              "GridSearchCV(estimator=XGBClassifier(),\n",
              "             param_grid={'gamma': [0.25], 'max_depth': [5],\n",
              "                         'n_estimators': [100], 'reg_lambda': [10]},\n",
              "             scoring='recall', verbose=3)"
            ]
          },
          "metadata": {},
          "execution_count": 111
        }
      ]
    },
    {
      "cell_type": "code",
      "source": [
        "gs_results(Grid_XGBoost)"
      ],
      "metadata": {
        "colab": {
          "base_uri": "https://localhost:8080/"
        },
        "id": "V3eu24VSl61b",
        "outputId": "47a686e5-8f79-4eb1-8584-56d4ceb9fd4a"
      },
      "execution_count": 112,
      "outputs": [
        {
          "output_type": "stream",
          "name": "stdout",
          "text": [
            "Best score: 0.6766536069893341\n",
            "Best parameters: \n",
            "\t\tgamma: 0.25\n",
            "\t\tmax_depth: 5\n",
            "\t\tn_estimators: 100\n",
            "\t\treg_lambda: 10\n"
          ]
        }
      ]
    },
    {
      "cell_type": "code",
      "source": [
        "best_xgb_model = Grid_XGBoost.best_estimator_"
      ],
      "metadata": {
        "id": "mw-LjAZ6zClz"
      },
      "execution_count": 113,
      "outputs": []
    },
    {
      "cell_type": "code",
      "source": [
        "from sklearn.metrics import classification_report\n",
        "print(classification_report(y_test_undersampling, best_xgb_model.predict(X_test_undersampling)))"
      ],
      "metadata": {
        "colab": {
          "base_uri": "https://localhost:8080/"
        },
        "id": "vrQn2AHMyxff",
        "outputId": "decae441-1d1e-4eb0-db17-d692c8c5d64e"
      },
      "execution_count": 116,
      "outputs": [
        {
          "output_type": "stream",
          "name": "stdout",
          "text": [
            "              precision    recall  f1-score   support\n",
            "\n",
            "           0       0.89      0.65      0.75    215350\n",
            "           1       0.32      0.68      0.44     53712\n",
            "\n",
            "    accuracy                           0.65    269062\n",
            "   macro avg       0.61      0.66      0.59    269062\n",
            "weighted avg       0.78      0.65      0.69    269062\n",
            "\n"
          ]
        }
      ]
    },
    {
      "cell_type": "code",
      "source": [
        "best_xgb_model.score(X_test_undersampling, y_test_undersampling)  # accuracy score = tp / total"
      ],
      "metadata": {
        "colab": {
          "base_uri": "https://localhost:8080/"
        },
        "outputId": "dd5f611d-5d1d-483d-e768-61ce1826f70c",
        "id": "f5QjIe0Q4GQR"
      },
      "execution_count": 117,
      "outputs": [
        {
          "output_type": "execute_result",
          "data": {
            "text/plain": [
              "0.6531431417294156"
            ]
          },
          "metadata": {},
          "execution_count": 117
        }
      ]
    },
    {
      "cell_type": "code",
      "source": [
        "accuracy_score(y_test_undersampling, best_xgb_model.predict(X_test_undersampling))"
      ],
      "metadata": {
        "colab": {
          "base_uri": "https://localhost:8080/"
        },
        "outputId": "73fafa65-5903-44b2-fc23-415b33b4bf3a",
        "id": "Mt0KjP0b4GQS"
      },
      "execution_count": 118,
      "outputs": [
        {
          "output_type": "execute_result",
          "data": {
            "text/plain": [
              "0.6531431417294156"
            ]
          },
          "metadata": {},
          "execution_count": 118
        }
      ]
    },
    {
      "cell_type": "code",
      "source": [
        "f1_score(y_test_undersampling, best_xgb_model.predict(X_test_undersampling))"
      ],
      "metadata": {
        "colab": {
          "base_uri": "https://localhost:8080/"
        },
        "outputId": "effa5d09-f609-47da-9579-9a555ec28744",
        "id": "LrIXUYum4GQS"
      },
      "execution_count": 119,
      "outputs": [
        {
          "output_type": "execute_result",
          "data": {
            "text/plain": [
              "0.43918707785496236"
            ]
          },
          "metadata": {},
          "execution_count": 119
        }
      ]
    },
    {
      "cell_type": "code",
      "source": [
        "recall_score(y_test_undersampling, best_xgb_model.predict(X_test_undersampling))"
      ],
      "metadata": {
        "colab": {
          "base_uri": "https://localhost:8080/"
        },
        "outputId": "4566d838-fbc9-45a7-b280-dfe4a93c446b",
        "id": "yQb3JO5Z4GQS"
      },
      "execution_count": 120,
      "outputs": [
        {
          "output_type": "execute_result",
          "data": {
            "text/plain": [
              "0.6803507596067918"
            ]
          },
          "metadata": {},
          "execution_count": 120
        }
      ]
    },
    {
      "cell_type": "code",
      "source": [
        "precision_score(y_test_undersampling, best_xgb_model.predict(X_test_undersampling))"
      ],
      "metadata": {
        "colab": {
          "base_uri": "https://localhost:8080/"
        },
        "outputId": "f6fa1f2d-3676-4bee-e02a-35f723ac35d6",
        "id": "Ae4L2noO4GQS"
      },
      "execution_count": 121,
      "outputs": [
        {
          "output_type": "execute_result",
          "data": {
            "text/plain": [
              "0.32425022182786156"
            ]
          },
          "metadata": {},
          "execution_count": 121
        }
      ]
    },
    {
      "cell_type": "markdown",
      "source": [
        "# Part 6: Feature Importance"
      ],
      "metadata": {
        "id": "gvpzj4ktOnYm"
      }
    },
    {
      "cell_type": "code",
      "source": [
        "importances = best_rf_model.feature_importances_\n",
        "indices = np.argsort(importances)[::-1]"
      ],
      "metadata": {
        "id": "0xhpFba6DyNC"
      },
      "execution_count": 117,
      "outputs": []
    },
    {
      "cell_type": "code",
      "source": [
        "# Print the feature ranking\n",
        "print(\"Feature importance ranking by Random Forest Model:\")\n",
        "for ind in range(X_train_undersampling.shape[1]):\n",
        "  print (\"{0} : {1}\".format(X_train_undersampling.columns[indices[ind]],round(importances[indices[ind]], 4)))"
      ],
      "metadata": {
        "colab": {
          "base_uri": "https://localhost:8080/"
        },
        "id": "00-cI3WUctAB",
        "outputId": "a837a997-5acf-4654-bab3-e6e24325c082"
      },
      "execution_count": 119,
      "outputs": [
        {
          "output_type": "stream",
          "name": "stdout",
          "text": [
            "Feature importance ranking by Random Forest Model:\n",
            "int_rate : 0.1529\n",
            "dti : 0.0589\n",
            "fico_score : 0.0535\n",
            "annual_inc : 0.0452\n",
            "installment : 0.0442\n",
            "term_ 60 months : 0.0421\n",
            "revol_bal : 0.041\n",
            "term_ 36 months : 0.0407\n",
            "revol_util : 0.04\n",
            "loan_amnt : 0.0367\n",
            "cr_line_year : 0.0322\n",
            "total_acc : 0.0322\n",
            "issue_year : 0.0321\n",
            "open_acc : 0.0286\n",
            "mort_acc : 0.0258\n",
            "emp_length : 0.0217\n",
            "verification_status_Not Verified : 0.0131\n",
            "sub_grade_A1 : 0.0116\n",
            "home_ownership_MORTGAGE : 0.0108\n",
            "home_ownership_RENT : 0.0092\n",
            "sub_grade_A5 : 0.0085\n",
            "sub_grade_A4 : 0.0077\n",
            "sub_grade_A2 : 0.0075\n",
            "pub_rec : 0.0068\n",
            "verification_status_Verified : 0.0067\n",
            "sub_grade_A3 : 0.0067\n",
            "purpose_debt_consolidation : 0.0057\n",
            "verification_status_Source Verified : 0.0054\n",
            "purpose_credit_card : 0.0053\n",
            "initial_list_status_f : 0.0051\n",
            "initial_list_status_w : 0.005\n",
            "pub_rec_bankruptcies : 0.0048\n",
            "addr_state_CA : 0.0046\n",
            "sub_grade_B2 : 0.0045\n",
            "sub_grade_B1 : 0.0044\n",
            "sub_grade_B3 : 0.004\n",
            "sub_grade_B4 : 0.0039\n",
            "sub_grade_B5 : 0.0038\n",
            "sub_grade_C1 : 0.0038\n",
            "addr_state_NY : 0.0038\n",
            "addr_state_FL : 0.0037\n",
            "home_ownership_OWN : 0.0035\n",
            "addr_state_TX : 0.0035\n",
            "purpose_home_improvement : 0.0031\n",
            "purpose_other : 0.0031\n",
            "addr_state_NJ : 0.0028\n",
            "sub_grade_C2 : 0.0026\n",
            "addr_state_IL : 0.0025\n",
            "sub_grade_C5 : 0.0025\n",
            "addr_state_PA : 0.0025\n",
            "addr_state_WA : 0.0024\n",
            "sub_grade_C3 : 0.0024\n",
            "addr_state_CO : 0.0023\n",
            "addr_state_GA : 0.0023\n",
            "addr_state_OH : 0.0023\n",
            "addr_state_VA : 0.0022\n",
            "addr_state_NC : 0.0022\n",
            "sub_grade_C4 : 0.0021\n",
            "sub_grade_D4 : 0.0021\n",
            "sub_grade_D1 : 0.0021\n",
            "addr_state_MI : 0.002\n",
            "addr_state_AZ : 0.002\n",
            "addr_state_MD : 0.002\n",
            "purpose_small_business : 0.002\n",
            "purpose_major_purchase : 0.002\n",
            "addr_state_MA : 0.0019\n",
            "sub_grade_D3 : 0.0019\n",
            "sub_grade_D2 : 0.0019\n",
            "addr_state_NV : 0.0017\n",
            "addr_state_MN : 0.0017\n",
            "sub_grade_E2 : 0.0017\n",
            "application_type_Individual : 0.0016\n",
            "sub_grade_E3 : 0.0016\n",
            "sub_grade_D5 : 0.0016\n",
            "addr_state_MO : 0.0016\n",
            "application_type_Joint App : 0.0016\n",
            "addr_state_CT : 0.0015\n",
            "addr_state_IN : 0.0015\n",
            "sub_grade_E1 : 0.0015\n",
            "addr_state_OR : 0.0015\n",
            "addr_state_TN : 0.0015\n",
            "addr_state_AL : 0.0014\n",
            "purpose_medical : 0.0014\n",
            "sub_grade_E4 : 0.0014\n",
            "addr_state_WI : 0.0013\n",
            "addr_state_LA : 0.0013\n",
            "addr_state_SC : 0.0013\n",
            "sub_grade_E5 : 0.0013\n",
            "addr_state_OK : 0.0012\n",
            "purpose_car : 0.0012\n",
            "addr_state_AR : 0.0011\n",
            "addr_state_KY : 0.0011\n",
            "addr_state_KS : 0.0011\n",
            "addr_state_UT : 0.001\n",
            "purpose_moving : 0.0009\n",
            "addr_state_NM : 0.0008\n",
            "purpose_vacation : 0.0008\n",
            "purpose_house : 0.0008\n",
            "addr_state_MS : 0.0008\n",
            "addr_state_NH : 0.0007\n",
            "addr_state_HI : 0.0007\n",
            "sub_grade_F2 : 0.0007\n",
            "addr_state_RI : 0.0006\n",
            "sub_grade_F1 : 0.0006\n",
            "sub_grade_F3 : 0.0006\n",
            "addr_state_MT : 0.0006\n",
            "addr_state_WV : 0.0006\n",
            "addr_state_DE : 0.0005\n",
            "sub_grade_F4 : 0.0004\n",
            "addr_state_NE : 0.0004\n",
            "sub_grade_F5 : 0.0004\n",
            "addr_state_SD : 0.0004\n",
            "addr_state_AK : 0.0004\n",
            "addr_state_WY : 0.0004\n",
            "addr_state_DC : 0.0003\n",
            "addr_state_VT : 0.0003\n",
            "sub_grade_G1 : 0.0003\n",
            "purpose_wedding : 0.0003\n",
            "addr_state_ND : 0.0003\n",
            "addr_state_ID : 0.0003\n",
            "addr_state_ME : 0.0003\n",
            "sub_grade_G2 : 0.0002\n",
            "purpose_renewable_energy : 0.0001\n",
            "sub_grade_G3 : 0.0001\n",
            "sub_grade_G4 : 0.0001\n",
            "sub_grade_G5 : 0.0001\n",
            "home_ownership_OTHER : 0.0001\n",
            "purpose_educational : 0.0001\n",
            "addr_state_IA : 0.0\n"
          ]
        }
      ]
    },
    {
      "cell_type": "markdown",
      "source": [
        "# Part 7: Expected Loss"
      ],
      "metadata": {
        "id": "hsbgM2XzXhQB"
      }
    },
    {
      "cell_type": "markdown",
      "source": [
        "Expected Loss (EL) on a given is calculuated using the loan amount multiplied by a loan's probability of default (PD) mulitplied by the the loan's loss given default (LGD). Loss Given Default is the amount of the loan that is deemed unrecoverable and is represented as a number between 0 (no loss) and 1 (100% of the loan is a loss)\n",
        "\n",
        "The equation for EL is given as:\n",
        "\n",
        "* EL = PD x LGD x Loan Amount\n",
        "\n",
        "With proabilties of default we will then model Expected Loss using an assumed LGD of 1 (a LGD of 1 is a conservative assumption given the unsecured nature of the loans)"
      ],
      "metadata": {
        "id": "4HUJZHhrXmJJ"
      }
    },
    {
      "cell_type": "code",
      "source": [
        "lr_preds = best_lr_model.predict_proba(X_test_undersampling)\n",
        "rf_preds = best_rf_model.predict_proba(X_test_undersampling)\n",
        "xgb_preds = best_xgb_model.predict_proba(X_test_undersampling)"
      ],
      "metadata": {
        "id": "1jHYESR_Xk0L"
      },
      "execution_count": 120,
      "outputs": []
    },
    {
      "cell_type": "code",
      "source": [
        "loss_df = pd.DataFrame(lr_preds[:, 1], columns=['lr_default_prob'])\n",
        "loss_df['rf_default_prob'] = rf_preds[:, 1]\n",
        "loss_df['xgb_default_prob'] = xgb_preds[:, 1]\n",
        "loss_df['lgb'] = 1\n",
        "loss_df.index = test.index\n",
        "loss_df['loan_amnt'] = test['loan_amnt']\n",
        "loss_df.head()"
      ],
      "metadata": {
        "colab": {
          "base_uri": "https://localhost:8080/",
          "height": 206
        },
        "id": "U_28Uud3em50",
        "outputId": "b421dbf5-ca47-4518-9a09-81d277149439"
      },
      "execution_count": 139,
      "outputs": [
        {
          "output_type": "execute_result",
          "data": {
            "text/html": [
              "\n",
              "  <div id=\"df-9e57addd-ec40-4578-9ae5-90aad5163d2f\">\n",
              "    <div class=\"colab-df-container\">\n",
              "      <div>\n",
              "<style scoped>\n",
              "    .dataframe tbody tr th:only-of-type {\n",
              "        vertical-align: middle;\n",
              "    }\n",
              "\n",
              "    .dataframe tbody tr th {\n",
              "        vertical-align: top;\n",
              "    }\n",
              "\n",
              "    .dataframe thead th {\n",
              "        text-align: right;\n",
              "    }\n",
              "</style>\n",
              "<table border=\"1\" class=\"dataframe\">\n",
              "  <thead>\n",
              "    <tr style=\"text-align: right;\">\n",
              "      <th></th>\n",
              "      <th>lr_default_prob</th>\n",
              "      <th>rf_default_prob</th>\n",
              "      <th>lgb</th>\n",
              "      <th>loan_amnt</th>\n",
              "    </tr>\n",
              "  </thead>\n",
              "  <tbody>\n",
              "    <tr>\n",
              "      <th>1348824</th>\n",
              "      <td>0.154</td>\n",
              "      <td>0.149</td>\n",
              "      <td>1</td>\n",
              "      <td>17000.000</td>\n",
              "    </tr>\n",
              "    <tr>\n",
              "      <th>1802011</th>\n",
              "      <td>0.295</td>\n",
              "      <td>0.342</td>\n",
              "      <td>1</td>\n",
              "      <td>10025.000</td>\n",
              "    </tr>\n",
              "    <tr>\n",
              "      <th>1231957</th>\n",
              "      <td>0.505</td>\n",
              "      <td>0.462</td>\n",
              "      <td>1</td>\n",
              "      <td>33425.000</td>\n",
              "    </tr>\n",
              "    <tr>\n",
              "      <th>1641941</th>\n",
              "      <td>0.431</td>\n",
              "      <td>0.399</td>\n",
              "      <td>1</td>\n",
              "      <td>2000.000</td>\n",
              "    </tr>\n",
              "    <tr>\n",
              "      <th>1143375</th>\n",
              "      <td>0.596</td>\n",
              "      <td>0.565</td>\n",
              "      <td>1</td>\n",
              "      <td>6800.000</td>\n",
              "    </tr>\n",
              "  </tbody>\n",
              "</table>\n",
              "</div>\n",
              "      <button class=\"colab-df-convert\" onclick=\"convertToInteractive('df-9e57addd-ec40-4578-9ae5-90aad5163d2f')\"\n",
              "              title=\"Convert this dataframe to an interactive table.\"\n",
              "              style=\"display:none;\">\n",
              "        \n",
              "  <svg xmlns=\"http://www.w3.org/2000/svg\" height=\"24px\"viewBox=\"0 0 24 24\"\n",
              "       width=\"24px\">\n",
              "    <path d=\"M0 0h24v24H0V0z\" fill=\"none\"/>\n",
              "    <path d=\"M18.56 5.44l.94 2.06.94-2.06 2.06-.94-2.06-.94-.94-2.06-.94 2.06-2.06.94zm-11 1L8.5 8.5l.94-2.06 2.06-.94-2.06-.94L8.5 2.5l-.94 2.06-2.06.94zm10 10l.94 2.06.94-2.06 2.06-.94-2.06-.94-.94-2.06-.94 2.06-2.06.94z\"/><path d=\"M17.41 7.96l-1.37-1.37c-.4-.4-.92-.59-1.43-.59-.52 0-1.04.2-1.43.59L10.3 9.45l-7.72 7.72c-.78.78-.78 2.05 0 2.83L4 21.41c.39.39.9.59 1.41.59.51 0 1.02-.2 1.41-.59l7.78-7.78 2.81-2.81c.8-.78.8-2.07 0-2.86zM5.41 20L4 18.59l7.72-7.72 1.47 1.35L5.41 20z\"/>\n",
              "  </svg>\n",
              "      </button>\n",
              "      \n",
              "  <style>\n",
              "    .colab-df-container {\n",
              "      display:flex;\n",
              "      flex-wrap:wrap;\n",
              "      gap: 12px;\n",
              "    }\n",
              "\n",
              "    .colab-df-convert {\n",
              "      background-color: #E8F0FE;\n",
              "      border: none;\n",
              "      border-radius: 50%;\n",
              "      cursor: pointer;\n",
              "      display: none;\n",
              "      fill: #1967D2;\n",
              "      height: 32px;\n",
              "      padding: 0 0 0 0;\n",
              "      width: 32px;\n",
              "    }\n",
              "\n",
              "    .colab-df-convert:hover {\n",
              "      background-color: #E2EBFA;\n",
              "      box-shadow: 0px 1px 2px rgba(60, 64, 67, 0.3), 0px 1px 3px 1px rgba(60, 64, 67, 0.15);\n",
              "      fill: #174EA6;\n",
              "    }\n",
              "\n",
              "    [theme=dark] .colab-df-convert {\n",
              "      background-color: #3B4455;\n",
              "      fill: #D2E3FC;\n",
              "    }\n",
              "\n",
              "    [theme=dark] .colab-df-convert:hover {\n",
              "      background-color: #434B5C;\n",
              "      box-shadow: 0px 1px 3px 1px rgba(0, 0, 0, 0.15);\n",
              "      filter: drop-shadow(0px 1px 2px rgba(0, 0, 0, 0.3));\n",
              "      fill: #FFFFFF;\n",
              "    }\n",
              "  </style>\n",
              "\n",
              "      <script>\n",
              "        const buttonEl =\n",
              "          document.querySelector('#df-9e57addd-ec40-4578-9ae5-90aad5163d2f button.colab-df-convert');\n",
              "        buttonEl.style.display =\n",
              "          google.colab.kernel.accessAllowed ? 'block' : 'none';\n",
              "\n",
              "        async function convertToInteractive(key) {\n",
              "          const element = document.querySelector('#df-9e57addd-ec40-4578-9ae5-90aad5163d2f');\n",
              "          const dataTable =\n",
              "            await google.colab.kernel.invokeFunction('convertToInteractive',\n",
              "                                                     [key], {});\n",
              "          if (!dataTable) return;\n",
              "\n",
              "          const docLinkHtml = 'Like what you see? Visit the ' +\n",
              "            '<a target=\"_blank\" href=https://colab.research.google.com/notebooks/data_table.ipynb>data table notebook</a>'\n",
              "            + ' to learn more about interactive tables.';\n",
              "          element.innerHTML = '';\n",
              "          dataTable['output_type'] = 'display_data';\n",
              "          await google.colab.output.renderOutput(dataTable, element);\n",
              "          const docLink = document.createElement('div');\n",
              "          docLink.innerHTML = docLinkHtml;\n",
              "          element.appendChild(docLink);\n",
              "        }\n",
              "      </script>\n",
              "    </div>\n",
              "  </div>\n",
              "  "
            ],
            "text/plain": [
              "         lr_default_prob  rf_default_prob  lgb  loan_amnt\n",
              "1348824            0.154            0.149    1  17000.000\n",
              "1802011            0.295            0.342    1  10025.000\n",
              "1231957            0.505            0.462    1  33425.000\n",
              "1641941            0.431            0.399    1   2000.000\n",
              "1143375            0.596            0.565    1   6800.000"
            ]
          },
          "metadata": {},
          "execution_count": 139
        }
      ]
    },
    {
      "cell_type": "code",
      "source": [
        "loss_df['lr_expected_loss'] = loss_df['lr_default_prob'] * loss_df['lgb'] * loss_df['loan_amnt']\n",
        "loss_df['rf_expected_loss'] = loss_df['rf_default_prob'] * loss_df['lgb'] * loss_df['loan_amnt']\n",
        "loss_df['xgb_expected_loss'] = loss_df['xgb_default_prob'] * loss_df['lgb'] * loss_df['loan_amnt']"
      ],
      "metadata": {
        "id": "fRwuhhqsidMd"
      },
      "execution_count": 141,
      "outputs": []
    },
    {
      "cell_type": "code",
      "source": [
        "# Print the total portfolio size\n",
        "print('Portfolio size: $' + \"{:,.2f}\".format(np.sum(loss_df['loan_amnt'])))\n",
        "\n",
        "# Print the sum of the expected loss for lr\n",
        "print('lr expected loss: $' + \"{:,.2f}\".format(np.sum(loss_df['lr_expected_loss'])))\n",
        "\n",
        "# Print the sum of the expected loss for rf\n",
        "print('rf expected loss: $' + \"{:,.2f}\".format(np.sum(loss_df['rf_expected_loss'])))\n",
        "\n",
        "# Print the sum of the expected loss for xgb\n",
        "print('xgb expected loss: $' + \"{:,.2f}\".format(np.sum(loss_df['xgb_expected_loss'])))"
      ],
      "metadata": {
        "colab": {
          "base_uri": "https://localhost:8080/"
        },
        "id": "2lH0uhuijIvu",
        "outputId": "7c19bb09-da51-4e69-d47d-c33dcd47e3dc"
      },
      "execution_count": 143,
      "outputs": [
        {
          "output_type": "stream",
          "name": "stdout",
          "text": [
            "Portfolio size: $3,882,719,725.00\n",
            "lr expected loss: $1,857,781,224.38\n",
            "rf expected loss: $1,855,605,497.96\n"
          ]
        }
      ]
    }
  ]
}